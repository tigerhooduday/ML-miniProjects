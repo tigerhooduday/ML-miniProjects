{
 "cells": [
  {
   "cell_type": "markdown",
   "id": "4204a71b",
   "metadata": {},
   "source": [
    "# Smart Taxi using Q-Learning(Reinforcemnt learning)"
   ]
  },
  {
   "cell_type": "markdown",
   "id": "76cafb04",
   "metadata": {},
   "source": [
    "Understand the Problem\n",
    "\n",
    "You're training an agent (taxi) to:\n",
    "\n",
    "    Pick up a passenger at one location.\n",
    "\n",
    "    Drop them at a target location.\n",
    "\n",
    "    Earn reward for success, lose reward for mistakes (like wrong drop or idle move).\n",
    "\n",
    "You’ll use:\n",
    "\n",
    "    Q-Learning (Model-free RL)\n",
    "\n",
    "    Environment: Taxi-v3 from OpenAI Gym"
   ]
  },
  {
   "cell_type": "markdown",
   "id": "c3c8cc3d",
   "metadata": {},
   "source": []
  },
  {
   "cell_type": "code",
   "execution_count": 1,
   "id": "44125767",
   "metadata": {},
   "outputs": [
    {
     "name": "stdout",
     "output_type": "stream",
     "text": [
      "+---------+\n",
      "|\u001b[34;1mR\u001b[0m: | : :\u001b[43mG\u001b[0m|\n",
      "| : | : : |\n",
      "| : : : : |\n",
      "| | : | : |\n",
      "|\u001b[35mY\u001b[0m| : |B: |\n",
      "+---------+\n",
      "\n",
      "\n"
     ]
    }
   ],
   "source": [
    "import gymnasium as gym\n",
    "\n",
    "# Create the environment with rendering enabled\n",
    "env = gym.make(\"Taxi-v3\", render_mode=\"ansi\")  # or \"human\" for graphical popup\n",
    "state, _ = env.reset()\n",
    "\n",
    "# Show the grid in text mode\n",
    "print(env.render())\n"
   ]
  },
  {
   "cell_type": "markdown",
   "id": "c7809889",
   "metadata": {},
   "source": [
    "💡 Render Modes:\n",
    "\n",
    "    \"ansi\" → Outputs ASCII text (good for notebooks)\n",
    "\n",
    "    \"human\" → Opens a separate pygame window\n",
    "\n",
    "    \"rgb_array\" → For video recording or image analysis"
   ]
  },
  {
   "cell_type": "markdown",
   "id": "37c2f033",
   "metadata": {},
   "source": [
    "🔍 Deep Explanation:\n",
    "🎮 gym.make(\"Taxi-v3\")\n",
    "\n",
    "    This loads a prebuilt environment from OpenAI Gym.\n",
    "\n",
    "    Taxi-v3 is a discrete environment with:\n",
    "\n",
    "        A 5x5 grid\n",
    "\n",
    "        4 pickup/dropoff locations (R, G, B, Y)\n",
    "\n",
    "        A taxi that must pick up a passenger from one and drop at another\n",
    "\n",
    "📦 state = env.reset()[0]\n",
    "\n",
    "    This resets the environment to a random state.\n",
    "\n",
    "    You get an integer state, like 123, not an image or coordinates.\n",
    "\n",
    "    Internally, state is made of:\n",
    "\n",
    "        Taxi row (5 options)\n",
    "        Taxi column (5 options)\n",
    "\n",
    "        Passenger location (5 options – 4 spots + in taxi)\n",
    "\n",
    "        Destination (4 options)\n",
    "\n",
    "    So:\n",
    "    -> Total states=5×5×5×4=500\n",
    "\n",
    "\n",
    "🧾 env.render()\n",
    "\n",
    "    This shows the current grid, taxi position, passenger/destination.\n",
    "\n"
   ]
  },
  {
   "cell_type": "markdown",
   "id": "0640fad4",
   "metadata": {},
   "source": [
    "✅ Step 4: Understand the MDP behind Taxi\n",
    "🧠 Theory: Markov Decision Process (MDP)\n",
    "\n",
    "The environment is defined by:\n",
    "\n",
    "    S = Set of states (500 in Taxi-v3)\n",
    "\n",
    "    A = Set of actions (6 total actions)\n",
    "\n",
    "    R(s, a) = Reward function\n",
    "\n",
    "    T(s, a, s') = Transition probability\n",
    "\n",
    "    γ = Discount factor"
   ]
  },
  {
   "cell_type": "code",
   "execution_count": 2,
   "id": "b78d5c24",
   "metadata": {},
   "outputs": [
    {
     "name": "stdout",
     "output_type": "stream",
     "text": [
      "Discrete(6)\n"
     ]
    }
   ],
   "source": [
    "print(env.action_space)"
   ]
  },
  {
   "cell_type": "markdown",
   "id": "4d7f39b8",
   "metadata": {},
   "source": [
    "Means you have 6 actions:\n",
    "\n",
    "| Action Number | Meaning |\n",
    "| ------------- | ------- |\n",
    "| 0             | South   |\n",
    "| 1             | North   |\n",
    "| 2             | East    |\n",
    "| 3             | West    |\n",
    "| 4             | Pickup  |\n",
    "| 5             | Dropoff |\n"
   ]
  },
  {
   "cell_type": "markdown",
   "id": "da4787c6",
   "metadata": {},
   "source": [
    "✅ Step 5: Q-Table Initialization"
   ]
  },
  {
   "cell_type": "code",
   "execution_count": 3,
   "id": "71a856c8",
   "metadata": {},
   "outputs": [
    {
     "name": "stdout",
     "output_type": "stream",
     "text": [
      "Shape of Q-table: (500, 6)\n"
     ]
    }
   ],
   "source": [
    "import numpy as np\n",
    "\n",
    "# Create a 500x6 Q-table (states x actions)\n",
    "q_table = np.zeros([env.observation_space.n, env.action_space.n])\n",
    "\n",
    "print(\"Shape of Q-table:\", q_table.shape)\n"
   ]
  },
  {
   "cell_type": "markdown",
   "id": "e52d78f9",
   "metadata": {},
   "source": [
    "🔍 Deep Explanation:\n",
    "📐 env.observation_space.n\n",
    "\n",
    "    Returns number of states = 500\n",
    "\n",
    "🎯 env.action_space.n\n",
    "\n",
    "    Returns number of actions = 6"
   ]
  },
  {
   "cell_type": "code",
   "execution_count": 4,
   "id": "00bf2e12",
   "metadata": {},
   "outputs": [],
   "source": [
    "q_table = np.zeros([500, 6])\n"
   ]
  },
  {
   "cell_type": "markdown",
   "id": "9025b0fb",
   "metadata": {},
   "source": [
    "### ➤ Step 6: Set Hyperparameters and implement the Training Loop (Q-Learning Core)\n"
   ]
  },
  {
   "cell_type": "code",
   "execution_count": 5,
   "id": "b5004556",
   "metadata": {},
   "outputs": [],
   "source": [
    "import numpy as np\n",
    "import random\n",
    "\n",
    "# Learning rate - how much we update Q-value from new info\n",
    "alpha = 0.7\n",
    "\n",
    "# Discount factor - importance of future reward\n",
    "gamma = 0.618\n",
    "\n",
    "# Exploration factor - how often to choose a random action\n",
    "epsilon = 1.0\n",
    "\n",
    "# Decay rate for epsilon\n",
    "epsilon_decay = 0.01\n",
    "\n",
    "# Minimum value epsilon can decay to\n",
    "min_epsilon = 0.1\n",
    "\n",
    "# Number of episodes (each episode = one full pick-up & drop journey)\n",
    "episodes = 10000\n"
   ]
  },
  {
   "cell_type": "markdown",
   "id": "4a744583",
   "metadata": {},
   "source": [
    "| Hyperparameter  | Meaning                                                        |\n",
    "| --------------- | -------------------------------------------------------------- |\n",
    "| `alpha (α)`     | Learning rate. High = learn fast; Low = trust old values more. |\n",
    "| `gamma (γ)`     | Discount future rewards. High = plan long-term.                |\n",
    "| `epsilon (ε)`   | Controls exploration vs exploitation. High = explore more.     |\n",
    "| `episodes`      | How many full simulations (epochs) to train on                 |\n",
    "| `epsilon_decay` | How fast ε reduces over time (we explore less over time)       |\n",
    "| `min_epsilon`   | The smallest allowed ε (so we never completely stop exploring) |\n"
   ]
  },
  {
   "cell_type": "markdown",
   "id": "2be6e313",
   "metadata": {},
   "source": [
    "#### 🔁 Step 6.2: Implement Q-Learning Training Loop"
   ]
  },
  {
   "cell_type": "markdown",
   "id": "066423c4",
   "metadata": {},
   "source": [
    "ogic Behind Training:\n",
    "\n",
    "    For each episode:\n",
    "\n",
    "        Reset the environment → get initial state\n",
    "\n",
    "        Loop until done:\n",
    "\n",
    "            Choose an action using ε-greedy\n",
    "\n",
    "            Execute the action → get next_state, reward\n",
    "\n",
    "            Update Q-value using Bellman Equation\n",
    "\n",
    "            Transition to next_state\n",
    "\n",
    "        At end of episode, reduce ε (so we explore less)"
   ]
  },
  {
   "cell_type": "code",
   "execution_count": 6,
   "id": "ced0d374",
   "metadata": {},
   "outputs": [
    {
     "name": "stdout",
     "output_type": "stream",
     "text": [
      "Episode 1000: Avg Reward (last 1000) = -51.34, Epsilon = 0.100\n",
      "Episode 2000: Avg Reward (last 1000) = 1.29, Epsilon = 0.100\n",
      "Episode 3000: Avg Reward (last 1000) = 2.79, Epsilon = 0.100\n",
      "Episode 4000: Avg Reward (last 1000) = 2.47, Epsilon = 0.100\n",
      "Episode 5000: Avg Reward (last 1000) = 2.83, Epsilon = 0.100\n",
      "Episode 6000: Avg Reward (last 1000) = 2.37, Epsilon = 0.100\n",
      "Episode 7000: Avg Reward (last 1000) = 1.98, Epsilon = 0.100\n",
      "Episode 8000: Avg Reward (last 1000) = 2.40, Epsilon = 0.100\n",
      "Episode 9000: Avg Reward (last 1000) = 2.28, Epsilon = 0.100\n",
      "Episode 10000: Avg Reward (last 1000) = 2.22, Epsilon = 0.100\n"
     ]
    }
   ],
   "source": [
    "# Create the environment with no rendering during training (faster)\n",
    "env = gym.make(\"Taxi-v3\")\n",
    "\n",
    "# Initialize Q-table: states x actions → 500 x 6\n",
    "q_table = np.zeros([env.observation_space.n, env.action_space.n])\n",
    "\n",
    "# Track rewards for analysis later\n",
    "all_rewards = []\n",
    "\n",
    "for episode in range(episodes):\n",
    "    state, info = env.reset()\n",
    "    done = False\n",
    "    total_reward = 0\n",
    "\n",
    "    while not done:\n",
    "        # --- ε-greedy action selection ---\n",
    "        if random.uniform(0, 1) < epsilon:\n",
    "            action = env.action_space.sample()  # Explore: random action\n",
    "        else:\n",
    "            action = np.argmax(q_table[state])  # Exploit: best known action\n",
    "\n",
    "        # --- Take action and observe result ---\n",
    "        next_state, reward, terminated, truncated, info = env.step(action)\n",
    "        done = terminated or truncated\n",
    "\n",
    "        # --- Q-value update using Bellman Equation ---\n",
    "        old_value = q_table[state, action]\n",
    "        next_max = np.max(q_table[next_state])  # Best next Q-value\n",
    "\n",
    "        # Bellman equation update\n",
    "        new_value = (1 - alpha) * old_value + alpha * (reward + gamma * next_max)\n",
    "        q_table[state, action] = new_value\n",
    "\n",
    "        # Move to next state\n",
    "        state = next_state\n",
    "        total_reward += reward\n",
    "\n",
    "    # After each episode, decay epsilon\n",
    "    epsilon = max(min_epsilon, epsilon - epsilon_decay)\n",
    "\n",
    "    all_rewards.append(total_reward)\n",
    "\n",
    "    # Optional: log progress\n",
    "    if (episode + 1) % 1000 == 0:\n",
    "        avg = sum(all_rewards[-1000:]) / 1000\n",
    "        print(f\"Episode {episode + 1}: Avg Reward (last 1000) = {avg:.2f}, Epsilon = {epsilon:.3f}\")\n"
   ]
  },
  {
   "cell_type": "markdown",
   "id": "9db93d40",
   "metadata": {},
   "source": [
    "Q-Learning Math (Bellman):\n",
    "\n",
    "You update Q-value like this:\n",
    "$$\n",
    "Q(s,a) = (1 - \\alpha) Q(s,a) + \\alpha \\left[r + \\gamma \\cdot \\max_a Q(s') \\right]\n",
    "$$\n",
    "You're mixing:\n",
    "\n",
    "    Old value (stability)\n",
    "\n",
    "    New reward + best future estimate (learning)"
   ]
  },
  {
   "cell_type": "markdown",
   "id": "d167804f",
   "metadata": {},
   "source": []
  },
  {
   "cell_type": "markdown",
   "id": "8a1160ac",
   "metadata": {},
   "source": [
    "Optional: Save the Q-table\n",
    "\n",
    "At the end of training, save the Q-table for reuse:\n",
    "\n"
   ]
  },
  {
   "cell_type": "code",
   "execution_count": 7,
   "id": "acea5e2f",
   "metadata": {},
   "outputs": [],
   "source": [
    "np.save(\"q_table.npy\", q_table)\n"
   ]
  },
  {
   "cell_type": "markdown",
   "id": "c490c18f",
   "metadata": {},
   "source": [
    "### ✅ Step 7: Evaluate Agent Performance & Visualize Taxi Movement"
   ]
  },
  {
   "cell_type": "markdown",
   "id": "b02d9d23",
   "metadata": {},
   "source": [
    "Part 1: Test the Trained Agent\n",
    "\n",
    "This helps us:\n",
    "\n",
    "    See how well the agent performs using the learned Q-table\n",
    "\n",
    "    Measure how often it completes the task efficiently"
   ]
  },
  {
   "cell_type": "code",
   "execution_count": 8,
   "id": "5b436aa3",
   "metadata": {},
   "outputs": [
    {
     "name": "stdout",
     "output_type": "stream",
     "text": [
      "✅ Evaluation Result:\n",
      "Average Reward: 8.11\n",
      "Successful Rides: 100/100\n"
     ]
    }
   ],
   "source": [
    "num_eval_episodes = 100\n",
    "successful_episodes = 0\n",
    "total_eval_reward = 0\n",
    "\n",
    "for episode in range(num_eval_episodes):\n",
    "    state, info = env.reset()\n",
    "    done = False\n",
    "    episode_reward = 0\n",
    "\n",
    "    while not done:\n",
    "        action = np.argmax(q_table[state])  # Always exploit during evaluation\n",
    "        next_state, reward, terminated, truncated, info = env.step(action)\n",
    "        state = next_state\n",
    "        done = terminated or truncated\n",
    "        episode_reward += reward\n",
    "\n",
    "    total_eval_reward += episode_reward\n",
    "    if episode_reward > 0:  # Reward is usually +20 for successful drop\n",
    "        successful_episodes += 1\n",
    "\n",
    "# Final evaluation metrics\n",
    "avg_eval_reward = total_eval_reward / num_eval_episodes\n",
    "print(f\"✅ Evaluation Result:\")\n",
    "print(f\"Average Reward: {avg_eval_reward}\")\n",
    "print(f\"Successful Rides: {successful_episodes}/{num_eval_episodes}\")\n"
   ]
  },
  {
   "cell_type": "markdown",
   "id": "e33242b6",
   "metadata": {},
   "source": [
    "🔍 What does this tell us?\n",
    "\n",
    "    episode_reward: Total reward collected in a ride\n",
    "\n",
    "    successful_episodes: Episodes where the taxi picked up and dropped the passenger correctly\n",
    "\n",
    "    High success rate and high avg reward → good learning\n",
    "\n",
    "🎥 Part 2: Visualize Taxi Agent in Action (1 Episode)\n",
    "\n",
    "Let’s watch it work step-by-step!"
   ]
  },
  {
   "cell_type": "code",
   "execution_count": 9,
   "id": "bd99a39d",
   "metadata": {},
   "outputs": [
    {
     "name": "stdout",
     "output_type": "stream",
     "text": [
      "🚕 Initial State:\n",
      "+---------+\n",
      "|\u001b[34;1m\u001b[43mR\u001b[0m\u001b[0m: | : :G|\n",
      "| : | : : |\n",
      "| : : : : |\n",
      "| | : | : |\n",
      "|Y| : |\u001b[35mB\u001b[0m: |\n",
      "+---------+\n",
      "\n",
      "\n",
      "\n",
      "Action: 4 | Reward: -1\n",
      "+---------+\n",
      "|\u001b[42mR\u001b[0m: | : :G|\n",
      "| : | : : |\n",
      "| : : : : |\n",
      "| | : | : |\n",
      "|Y| : |\u001b[35mB\u001b[0m: |\n",
      "+---------+\n",
      "  (Pickup)\n",
      "\n",
      "\n",
      "Action: 0 | Reward: -1\n",
      "+---------+\n",
      "|R: | : :G|\n",
      "|\u001b[42m_\u001b[0m: | : : |\n",
      "| : : : : |\n",
      "| | : | : |\n",
      "|Y| : |\u001b[35mB\u001b[0m: |\n",
      "+---------+\n",
      "  (South)\n",
      "\n",
      "\n",
      "Action: 2 | Reward: -1\n",
      "+---------+\n",
      "|R: | : :G|\n",
      "| :\u001b[42m_\u001b[0m| : : |\n",
      "| : : : : |\n",
      "| | : | : |\n",
      "|Y| : |\u001b[35mB\u001b[0m: |\n",
      "+---------+\n",
      "  (East)\n",
      "\n",
      "\n",
      "Action: 0 | Reward: -1\n",
      "+---------+\n",
      "|R: | : :G|\n",
      "| : | : : |\n",
      "| :\u001b[42m_\u001b[0m: : : |\n",
      "| | : | : |\n",
      "|Y| : |\u001b[35mB\u001b[0m: |\n",
      "+---------+\n",
      "  (South)\n",
      "\n",
      "\n",
      "Action: 2 | Reward: -1\n",
      "+---------+\n",
      "|R: | : :G|\n",
      "| : | : : |\n",
      "| : :\u001b[42m_\u001b[0m: : |\n",
      "| | : | : |\n",
      "|Y| : |\u001b[35mB\u001b[0m: |\n",
      "+---------+\n",
      "  (East)\n",
      "\n",
      "\n",
      "Action: 2 | Reward: -1\n",
      "+---------+\n",
      "|R: | : :G|\n",
      "| : | : : |\n",
      "| : : :\u001b[42m_\u001b[0m: |\n",
      "| | : | : |\n",
      "|Y| : |\u001b[35mB\u001b[0m: |\n",
      "+---------+\n",
      "  (East)\n",
      "\n",
      "\n",
      "Action: 0 | Reward: -1\n",
      "+---------+\n",
      "|R: | : :G|\n",
      "| : | : : |\n",
      "| : : : : |\n",
      "| | : |\u001b[42m_\u001b[0m: |\n",
      "|Y| : |\u001b[35mB\u001b[0m: |\n",
      "+---------+\n",
      "  (South)\n",
      "\n",
      "\n",
      "Action: 0 | Reward: -1\n",
      "+---------+\n",
      "|R: | : :G|\n",
      "| : | : : |\n",
      "| : : : : |\n",
      "| | : | : |\n",
      "|Y| : |\u001b[35m\u001b[42mB\u001b[0m\u001b[0m: |\n",
      "+---------+\n",
      "  (South)\n",
      "\n",
      "\n",
      "Action: 5 | Reward: 20\n",
      "+---------+\n",
      "|R: | : :G|\n",
      "| : | : : |\n",
      "| : : : : |\n",
      "| | : | : |\n",
      "|Y| : |\u001b[35m\u001b[34;1m\u001b[43mB\u001b[0m\u001b[0m\u001b[0m: |\n",
      "+---------+\n",
      "  (Dropoff)\n",
      "\n"
     ]
    }
   ],
   "source": [
    "# Create env with text rendering\n",
    "env = gym.make(\"Taxi-v3\", render_mode=\"ansi\")\n",
    "state, info = env.reset()\n",
    "done = False\n",
    "\n",
    "print(\"🚕 Initial State:\")\n",
    "print(env.render())\n",
    "\n",
    "while not done:\n",
    "    action = np.argmax(q_table[state])\n",
    "    next_state, reward, terminated, truncated, info = env.step(action)\n",
    "    state = next_state\n",
    "    done = terminated or truncated\n",
    "\n",
    "    print(f\"\\nAction: {action} | Reward: {reward}\")\n",
    "    print(env.render())\n"
   ]
  },
  {
   "cell_type": "markdown",
   "id": "08c584a0",
   "metadata": {},
   "source": [
    "2: Graphical window using render_mode=\"human\""
   ]
  },
  {
   "cell_type": "code",
   "execution_count": 10,
   "id": "5ede6c4a",
   "metadata": {},
   "outputs": [],
   "source": [
    "env = gym.make(\"Taxi-v3\", render_mode=\"human\")\n",
    "state, info = env.reset()\n",
    "done = False\n",
    "\n",
    "while not done:\n",
    "    action = np.argmax(q_table[state])\n",
    "    next_state, reward, terminated, truncated, info = env.step(action)\n",
    "    state = next_state\n",
    "    done = terminated or truncated\n",
    "import time\n",
    "time.sleep(0.5)  # Add inside the loop to slow down animation\n"
   ]
  },
  {
   "cell_type": "code",
   "execution_count": null,
   "id": "f82fef84",
   "metadata": {},
   "outputs": [],
   "source": []
  },
  {
   "cell_type": "markdown",
   "id": "68afe2ff",
   "metadata": {},
   "source": [
    "### ✅ Step 8: Plotting Reward vs Episode"
   ]
  },
  {
   "cell_type": "code",
   "execution_count": null,
   "id": "fe56addb",
   "metadata": {},
   "outputs": [
    {
     "name": "stderr",
     "output_type": "stream",
     "text": [
      "C:\\Users\\Udayg\\AppData\\Local\\Temp\\ipykernel_16520\\3833096723.py:21: UserWarning: Glyph 128200 (\\N{CHART WITH UPWARDS TREND}) missing from font(s) DejaVu Sans.\n",
      "  plt.tight_layout()\n",
      "e:\\project\\2025\\ML\\ML-miniProjects\\virtualenv\\Lib\\site-packages\\IPython\\core\\pylabtools.py:170: UserWarning: Glyph 128200 (\\N{CHART WITH UPWARDS TREND}) missing from font(s) DejaVu Sans.\n",
      "  fig.canvas.print_figure(bytes_io, **kw)\n"
     ]
    },
    {
     "data": {
      "image/png": "[encoded data removed]",
      "text/plain": [
       "<Figure size 1200x600 with 1 Axes>"
      ]
     },
     "metadata": {},
     "output_type": "display_data"
    },
    {
     "ename": "",
     "evalue": "",
     "output_type": "error",
     "traceback": [
      "\u001b[1;31mThe Kernel crashed while executing code in the current cell or a previous cell. \n",
      "\u001b[1;31mPlease review the code in the cell(s) to identify a possible cause of the failure. \n",
      "\u001b[1;31mClick <a href='https://aka.ms/vscodeJupyterKernelCrash'>here</a> for more info. \n",
      "\u001b[1;31mView Jupyter <a href='command:jupyter.viewOutput'>log</a> for further details."
     ]
    }
   ],
   "source": [
    "import matplotlib.pyplot as plt\n",
    "\n",
    "# Smooth rewards using moving average (optional but cleaner)\n",
    "def moving_average(data, window_size):\n",
    "    return np.convolve(data, np.ones(window_size)/window_size, mode='valid')\n",
    "\n",
    "# Plot original rewards\n",
    "plt.figure(figsize=(12, 6))\n",
    "plt.plot(all_rewards, label=\"Raw Episode Rewards\", alpha=0.4)\n",
    "\n",
    "# Plot moving average for smoothing\n",
    "window = 100\n",
    "smoothed_rewards = moving_average(all_rewards, window)\n",
    "plt.plot(smoothed_rewards, label=f\"{window}-Episode Moving Average\", linewidth=2)\n",
    "\n",
    "plt.title(\"📈 Reward per Episode Over Training\")\n",
    "plt.xlabel(\"Episode\")\n",
    "plt.ylabel(\"Reward\")\n",
    "plt.legend()\n",
    "plt.grid(True)\n",
    "plt.tight_layout()\n",
    "plt.show()\n"
   ]
  }
 ],
 "metadata": {
  "kernelspec": {
   "display_name": "virtualenv",
   "language": "python",
   "name": "python3"
  },
  "language_info": {
   "codemirror_mode": {
    "name": "ipython",
    "version": 3
   },
   "file_extension": ".py",
   "mimetype": "text/x-python",
   "name": "python",
   "nbconvert_exporter": "python",
   "pygments_lexer": "ipython3",
   "version": "3.13.2"
  }
 },
 "nbformat": 4,
 "nbformat_minor": 5
}
