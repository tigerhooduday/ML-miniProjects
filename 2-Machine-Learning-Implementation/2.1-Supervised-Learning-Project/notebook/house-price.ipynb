{
 "cells": [
  {
   "cell_type": "markdown",
   "id": "c39bded2",
   "metadata": {},
   "source": [
    "# House Prediction using supervised learing"
   ]
  },
  {
   "cell_type": "markdown",
   "id": "ccd4c6a5",
   "metadata": {},
   "source": [
    "# EDA"
   ]
  },
  {
   "cell_type": "code",
   "execution_count": 82,
   "id": "b29e9f5b",
   "metadata": {},
   "outputs": [],
   "source": [
    "import pandas as pd\n",
    "\n",
    "# Load data\n",
    "df = pd.read_csv('../data/train.csv')"
   ]
  },
  {
   "cell_type": "code",
   "execution_count": 84,
   "id": "7499ae71",
   "metadata": {},
   "outputs": [
    {
     "data": {
      "text/html": [
       "<div>\n",
       "<style scoped>\n",
       "    .dataframe tbody tr th:only-of-type {\n",
       "        vertical-align: middle;\n",
       "    }\n",
       "\n",
       "    .dataframe tbody tr th {\n",
       "        vertical-align: top;\n",
       "    }\n",
       "\n",
       "    .dataframe thead th {\n",
       "        text-align: right;\n",
       "    }\n",
       "</style>\n",
       "<table border=\"1\" class=\"dataframe\">\n",
       "  <thead>\n",
       "    <tr style=\"text-align: right;\">\n",
       "      <th></th>\n",
       "      <th>Id</th>\n",
       "      <th>MSSubClass</th>\n",
       "      <th>MSZoning</th>\n",
       "      <th>LotFrontage</th>\n",
       "      <th>LotArea</th>\n",
       "      <th>Street</th>\n",
       "      <th>Alley</th>\n",
       "      <th>LotShape</th>\n",
       "      <th>LandContour</th>\n",
       "      <th>Utilities</th>\n",
       "      <th>...</th>\n",
       "      <th>PoolArea</th>\n",
       "      <th>PoolQC</th>\n",
       "      <th>Fence</th>\n",
       "      <th>MiscFeature</th>\n",
       "      <th>MiscVal</th>\n",
       "      <th>MoSold</th>\n",
       "      <th>YrSold</th>\n",
       "      <th>SaleType</th>\n",
       "      <th>SaleCondition</th>\n",
       "      <th>SalePrice</th>\n",
       "    </tr>\n",
       "  </thead>\n",
       "  <tbody>\n",
       "    <tr>\n",
       "      <th>0</th>\n",
       "      <td>1</td>\n",
       "      <td>60</td>\n",
       "      <td>RL</td>\n",
       "      <td>65.0</td>\n",
       "      <td>8450</td>\n",
       "      <td>Pave</td>\n",
       "      <td>NaN</td>\n",
       "      <td>Reg</td>\n",
       "      <td>Lvl</td>\n",
       "      <td>AllPub</td>\n",
       "      <td>...</td>\n",
       "      <td>0</td>\n",
       "      <td>NaN</td>\n",
       "      <td>NaN</td>\n",
       "      <td>NaN</td>\n",
       "      <td>0</td>\n",
       "      <td>2</td>\n",
       "      <td>2008</td>\n",
       "      <td>WD</td>\n",
       "      <td>Normal</td>\n",
       "      <td>208500</td>\n",
       "    </tr>\n",
       "    <tr>\n",
       "      <th>1</th>\n",
       "      <td>2</td>\n",
       "      <td>20</td>\n",
       "      <td>RL</td>\n",
       "      <td>80.0</td>\n",
       "      <td>9600</td>\n",
       "      <td>Pave</td>\n",
       "      <td>NaN</td>\n",
       "      <td>Reg</td>\n",
       "      <td>Lvl</td>\n",
       "      <td>AllPub</td>\n",
       "      <td>...</td>\n",
       "      <td>0</td>\n",
       "      <td>NaN</td>\n",
       "      <td>NaN</td>\n",
       "      <td>NaN</td>\n",
       "      <td>0</td>\n",
       "      <td>5</td>\n",
       "      <td>2007</td>\n",
       "      <td>WD</td>\n",
       "      <td>Normal</td>\n",
       "      <td>181500</td>\n",
       "    </tr>\n",
       "    <tr>\n",
       "      <th>2</th>\n",
       "      <td>3</td>\n",
       "      <td>60</td>\n",
       "      <td>RL</td>\n",
       "      <td>68.0</td>\n",
       "      <td>11250</td>\n",
       "      <td>Pave</td>\n",
       "      <td>NaN</td>\n",
       "      <td>IR1</td>\n",
       "      <td>Lvl</td>\n",
       "      <td>AllPub</td>\n",
       "      <td>...</td>\n",
       "      <td>0</td>\n",
       "      <td>NaN</td>\n",
       "      <td>NaN</td>\n",
       "      <td>NaN</td>\n",
       "      <td>0</td>\n",
       "      <td>9</td>\n",
       "      <td>2008</td>\n",
       "      <td>WD</td>\n",
       "      <td>Normal</td>\n",
       "      <td>223500</td>\n",
       "    </tr>\n",
       "    <tr>\n",
       "      <th>3</th>\n",
       "      <td>4</td>\n",
       "      <td>70</td>\n",
       "      <td>RL</td>\n",
       "      <td>60.0</td>\n",
       "      <td>9550</td>\n",
       "      <td>Pave</td>\n",
       "      <td>NaN</td>\n",
       "      <td>IR1</td>\n",
       "      <td>Lvl</td>\n",
       "      <td>AllPub</td>\n",
       "      <td>...</td>\n",
       "      <td>0</td>\n",
       "      <td>NaN</td>\n",
       "      <td>NaN</td>\n",
       "      <td>NaN</td>\n",
       "      <td>0</td>\n",
       "      <td>2</td>\n",
       "      <td>2006</td>\n",
       "      <td>WD</td>\n",
       "      <td>Abnorml</td>\n",
       "      <td>140000</td>\n",
       "    </tr>\n",
       "    <tr>\n",
       "      <th>4</th>\n",
       "      <td>5</td>\n",
       "      <td>60</td>\n",
       "      <td>RL</td>\n",
       "      <td>84.0</td>\n",
       "      <td>14260</td>\n",
       "      <td>Pave</td>\n",
       "      <td>NaN</td>\n",
       "      <td>IR1</td>\n",
       "      <td>Lvl</td>\n",
       "      <td>AllPub</td>\n",
       "      <td>...</td>\n",
       "      <td>0</td>\n",
       "      <td>NaN</td>\n",
       "      <td>NaN</td>\n",
       "      <td>NaN</td>\n",
       "      <td>0</td>\n",
       "      <td>12</td>\n",
       "      <td>2008</td>\n",
       "      <td>WD</td>\n",
       "      <td>Normal</td>\n",
       "      <td>250000</td>\n",
       "    </tr>\n",
       "  </tbody>\n",
       "</table>\n",
       "<p>5 rows × 81 columns</p>\n",
       "</div>"
      ],
      "text/plain": [
       "   Id  MSSubClass MSZoning  LotFrontage  LotArea Street Alley LotShape  \\\n",
       "0   1          60       RL         65.0     8450   Pave   NaN      Reg   \n",
       "1   2          20       RL         80.0     9600   Pave   NaN      Reg   \n",
       "2   3          60       RL         68.0    11250   Pave   NaN      IR1   \n",
       "3   4          70       RL         60.0     9550   Pave   NaN      IR1   \n",
       "4   5          60       RL         84.0    14260   Pave   NaN      IR1   \n",
       "\n",
       "  LandContour Utilities  ... PoolArea PoolQC Fence MiscFeature MiscVal MoSold  \\\n",
       "0         Lvl    AllPub  ...        0    NaN   NaN         NaN       0      2   \n",
       "1         Lvl    AllPub  ...        0    NaN   NaN         NaN       0      5   \n",
       "2         Lvl    AllPub  ...        0    NaN   NaN         NaN       0      9   \n",
       "3         Lvl    AllPub  ...        0    NaN   NaN         NaN       0      2   \n",
       "4         Lvl    AllPub  ...        0    NaN   NaN         NaN       0     12   \n",
       "\n",
       "  YrSold  SaleType  SaleCondition  SalePrice  \n",
       "0   2008        WD         Normal     208500  \n",
       "1   2007        WD         Normal     181500  \n",
       "2   2008        WD         Normal     223500  \n",
       "3   2006        WD        Abnorml     140000  \n",
       "4   2008        WD         Normal     250000  \n",
       "\n",
       "[5 rows x 81 columns]"
      ]
     },
     "execution_count": 84,
     "metadata": {},
     "output_type": "execute_result"
    }
   ],
   "source": [
    "df.head()"
   ]
  },
  {
   "cell_type": "code",
   "execution_count": 85,
   "id": "49b6cb57",
   "metadata": {},
   "outputs": [
    {
     "data": {
      "text/plain": [
       "(1460, 81)"
      ]
     },
     "execution_count": 85,
     "metadata": {},
     "output_type": "execute_result"
    }
   ],
   "source": [
    "df.shape"
   ]
  },
  {
   "cell_type": "code",
   "execution_count": 86,
   "id": "20bafb60",
   "metadata": {},
   "outputs": [
    {
     "name": "stdout",
     "output_type": "stream",
     "text": [
      "<class 'pandas.core.frame.DataFrame'>\n",
      "RangeIndex: 1460 entries, 0 to 1459\n",
      "Data columns (total 81 columns):\n",
      " #   Column         Non-Null Count  Dtype  \n",
      "---  ------         --------------  -----  \n",
      " 0   Id             1460 non-null   int64  \n",
      " 1   MSSubClass     1460 non-null   int64  \n",
      " 2   MSZoning       1460 non-null   object \n",
      " 3   LotFrontage    1201 non-null   float64\n",
      " 4   LotArea        1460 non-null   int64  \n",
      " 5   Street         1460 non-null   object \n",
      " 6   Alley          91 non-null     object \n",
      " 7   LotShape       1460 non-null   object \n",
      " 8   LandContour    1460 non-null   object \n",
      " 9   Utilities      1460 non-null   object \n",
      " 10  LotConfig      1460 non-null   object \n",
      " 11  LandSlope      1460 non-null   object \n",
      " 12  Neighborhood   1460 non-null   object \n",
      " 13  Condition1     1460 non-null   object \n",
      " 14  Condition2     1460 non-null   object \n",
      " 15  BldgType       1460 non-null   object \n",
      " 16  HouseStyle     1460 non-null   object \n",
      " 17  OverallQual    1460 non-null   int64  \n",
      " 18  OverallCond    1460 non-null   int64  \n",
      " 19  YearBuilt      1460 non-null   int64  \n",
      " 20  YearRemodAdd   1460 non-null   int64  \n",
      " 21  RoofStyle      1460 non-null   object \n",
      " 22  RoofMatl       1460 non-null   object \n",
      " 23  Exterior1st    1460 non-null   object \n",
      " 24  Exterior2nd    1460 non-null   object \n",
      " 25  MasVnrType     588 non-null    object \n",
      " 26  MasVnrArea     1452 non-null   float64\n",
      " 27  ExterQual      1460 non-null   object \n",
      " 28  ExterCond      1460 non-null   object \n",
      " 29  Foundation     1460 non-null   object \n",
      " 30  BsmtQual       1423 non-null   object \n",
      " 31  BsmtCond       1423 non-null   object \n",
      " 32  BsmtExposure   1422 non-null   object \n",
      " 33  BsmtFinType1   1423 non-null   object \n",
      " 34  BsmtFinSF1     1460 non-null   int64  \n",
      " 35  BsmtFinType2   1422 non-null   object \n",
      " 36  BsmtFinSF2     1460 non-null   int64  \n",
      " 37  BsmtUnfSF      1460 non-null   int64  \n",
      " 38  TotalBsmtSF    1460 non-null   int64  \n",
      " 39  Heating        1460 non-null   object \n",
      " 40  HeatingQC      1460 non-null   object \n",
      " 41  CentralAir     1460 non-null   object \n",
      " 42  Electrical     1459 non-null   object \n",
      " 43  1stFlrSF       1460 non-null   int64  \n",
      " 44  2ndFlrSF       1460 non-null   int64  \n",
      " 45  LowQualFinSF   1460 non-null   int64  \n",
      " 46  GrLivArea      1460 non-null   int64  \n",
      " 47  BsmtFullBath   1460 non-null   int64  \n",
      " 48  BsmtHalfBath   1460 non-null   int64  \n",
      " 49  FullBath       1460 non-null   int64  \n",
      " 50  HalfBath       1460 non-null   int64  \n",
      " 51  BedroomAbvGr   1460 non-null   int64  \n",
      " 52  KitchenAbvGr   1460 non-null   int64  \n",
      " 53  KitchenQual    1460 non-null   object \n",
      " 54  TotRmsAbvGrd   1460 non-null   int64  \n",
      " 55  Functional     1460 non-null   object \n",
      " 56  Fireplaces     1460 non-null   int64  \n",
      " 57  FireplaceQu    770 non-null    object \n",
      " 58  GarageType     1379 non-null   object \n",
      " 59  GarageYrBlt    1379 non-null   float64\n",
      " 60  GarageFinish   1379 non-null   object \n",
      " 61  GarageCars     1460 non-null   int64  \n",
      " 62  GarageArea     1460 non-null   int64  \n",
      " 63  GarageQual     1379 non-null   object \n",
      " 64  GarageCond     1379 non-null   object \n",
      " 65  PavedDrive     1460 non-null   object \n",
      " 66  WoodDeckSF     1460 non-null   int64  \n",
      " 67  OpenPorchSF    1460 non-null   int64  \n",
      " 68  EnclosedPorch  1460 non-null   int64  \n",
      " 69  3SsnPorch      1460 non-null   int64  \n",
      " 70  ScreenPorch    1460 non-null   int64  \n",
      " 71  PoolArea       1460 non-null   int64  \n",
      " 72  PoolQC         7 non-null      object \n",
      " 73  Fence          281 non-null    object \n",
      " 74  MiscFeature    54 non-null     object \n",
      " 75  MiscVal        1460 non-null   int64  \n",
      " 76  MoSold         1460 non-null   int64  \n",
      " 77  YrSold         1460 non-null   int64  \n",
      " 78  SaleType       1460 non-null   object \n",
      " 79  SaleCondition  1460 non-null   object \n",
      " 80  SalePrice      1460 non-null   int64  \n",
      "dtypes: float64(3), int64(35), object(43)\n",
      "memory usage: 924.0+ KB\n"
     ]
    }
   ],
   "source": [
    "df.info()"
   ]
  },
  {
   "cell_type": "code",
   "execution_count": 87,
   "id": "1a3e92fa",
   "metadata": {},
   "outputs": [
    {
     "data": {
      "text/html": [
       "<div>\n",
       "<style scoped>\n",
       "    .dataframe tbody tr th:only-of-type {\n",
       "        vertical-align: middle;\n",
       "    }\n",
       "\n",
       "    .dataframe tbody tr th {\n",
       "        vertical-align: top;\n",
       "    }\n",
       "\n",
       "    .dataframe thead th {\n",
       "        text-align: right;\n",
       "    }\n",
       "</style>\n",
       "<table border=\"1\" class=\"dataframe\">\n",
       "  <thead>\n",
       "    <tr style=\"text-align: right;\">\n",
       "      <th></th>\n",
       "      <th>Id</th>\n",
       "      <th>MSSubClass</th>\n",
       "      <th>LotFrontage</th>\n",
       "      <th>LotArea</th>\n",
       "      <th>OverallQual</th>\n",
       "      <th>OverallCond</th>\n",
       "      <th>YearBuilt</th>\n",
       "      <th>YearRemodAdd</th>\n",
       "      <th>MasVnrArea</th>\n",
       "      <th>BsmtFinSF1</th>\n",
       "      <th>...</th>\n",
       "      <th>WoodDeckSF</th>\n",
       "      <th>OpenPorchSF</th>\n",
       "      <th>EnclosedPorch</th>\n",
       "      <th>3SsnPorch</th>\n",
       "      <th>ScreenPorch</th>\n",
       "      <th>PoolArea</th>\n",
       "      <th>MiscVal</th>\n",
       "      <th>MoSold</th>\n",
       "      <th>YrSold</th>\n",
       "      <th>SalePrice</th>\n",
       "    </tr>\n",
       "  </thead>\n",
       "  <tbody>\n",
       "    <tr>\n",
       "      <th>count</th>\n",
       "      <td>1460.000000</td>\n",
       "      <td>1460.000000</td>\n",
       "      <td>1201.000000</td>\n",
       "      <td>1460.000000</td>\n",
       "      <td>1460.000000</td>\n",
       "      <td>1460.000000</td>\n",
       "      <td>1460.000000</td>\n",
       "      <td>1460.000000</td>\n",
       "      <td>1452.000000</td>\n",
       "      <td>1460.000000</td>\n",
       "      <td>...</td>\n",
       "      <td>1460.000000</td>\n",
       "      <td>1460.000000</td>\n",
       "      <td>1460.000000</td>\n",
       "      <td>1460.000000</td>\n",
       "      <td>1460.000000</td>\n",
       "      <td>1460.000000</td>\n",
       "      <td>1460.000000</td>\n",
       "      <td>1460.000000</td>\n",
       "      <td>1460.000000</td>\n",
       "      <td>1460.000000</td>\n",
       "    </tr>\n",
       "    <tr>\n",
       "      <th>mean</th>\n",
       "      <td>730.500000</td>\n",
       "      <td>56.897260</td>\n",
       "      <td>70.049958</td>\n",
       "      <td>10516.828082</td>\n",
       "      <td>6.099315</td>\n",
       "      <td>5.575342</td>\n",
       "      <td>1971.267808</td>\n",
       "      <td>1984.865753</td>\n",
       "      <td>103.685262</td>\n",
       "      <td>443.639726</td>\n",
       "      <td>...</td>\n",
       "      <td>94.244521</td>\n",
       "      <td>46.660274</td>\n",
       "      <td>21.954110</td>\n",
       "      <td>3.409589</td>\n",
       "      <td>15.060959</td>\n",
       "      <td>2.758904</td>\n",
       "      <td>43.489041</td>\n",
       "      <td>6.321918</td>\n",
       "      <td>2007.815753</td>\n",
       "      <td>180921.195890</td>\n",
       "    </tr>\n",
       "    <tr>\n",
       "      <th>std</th>\n",
       "      <td>421.610009</td>\n",
       "      <td>42.300571</td>\n",
       "      <td>24.284752</td>\n",
       "      <td>9981.264932</td>\n",
       "      <td>1.382997</td>\n",
       "      <td>1.112799</td>\n",
       "      <td>30.202904</td>\n",
       "      <td>20.645407</td>\n",
       "      <td>181.066207</td>\n",
       "      <td>456.098091</td>\n",
       "      <td>...</td>\n",
       "      <td>125.338794</td>\n",
       "      <td>66.256028</td>\n",
       "      <td>61.119149</td>\n",
       "      <td>29.317331</td>\n",
       "      <td>55.757415</td>\n",
       "      <td>40.177307</td>\n",
       "      <td>496.123024</td>\n",
       "      <td>2.703626</td>\n",
       "      <td>1.328095</td>\n",
       "      <td>79442.502883</td>\n",
       "    </tr>\n",
       "    <tr>\n",
       "      <th>min</th>\n",
       "      <td>1.000000</td>\n",
       "      <td>20.000000</td>\n",
       "      <td>21.000000</td>\n",
       "      <td>1300.000000</td>\n",
       "      <td>1.000000</td>\n",
       "      <td>1.000000</td>\n",
       "      <td>1872.000000</td>\n",
       "      <td>1950.000000</td>\n",
       "      <td>0.000000</td>\n",
       "      <td>0.000000</td>\n",
       "      <td>...</td>\n",
       "      <td>0.000000</td>\n",
       "      <td>0.000000</td>\n",
       "      <td>0.000000</td>\n",
       "      <td>0.000000</td>\n",
       "      <td>0.000000</td>\n",
       "      <td>0.000000</td>\n",
       "      <td>0.000000</td>\n",
       "      <td>1.000000</td>\n",
       "      <td>2006.000000</td>\n",
       "      <td>34900.000000</td>\n",
       "    </tr>\n",
       "    <tr>\n",
       "      <th>25%</th>\n",
       "      <td>365.750000</td>\n",
       "      <td>20.000000</td>\n",
       "      <td>59.000000</td>\n",
       "      <td>7553.500000</td>\n",
       "      <td>5.000000</td>\n",
       "      <td>5.000000</td>\n",
       "      <td>1954.000000</td>\n",
       "      <td>1967.000000</td>\n",
       "      <td>0.000000</td>\n",
       "      <td>0.000000</td>\n",
       "      <td>...</td>\n",
       "      <td>0.000000</td>\n",
       "      <td>0.000000</td>\n",
       "      <td>0.000000</td>\n",
       "      <td>0.000000</td>\n",
       "      <td>0.000000</td>\n",
       "      <td>0.000000</td>\n",
       "      <td>0.000000</td>\n",
       "      <td>5.000000</td>\n",
       "      <td>2007.000000</td>\n",
       "      <td>129975.000000</td>\n",
       "    </tr>\n",
       "    <tr>\n",
       "      <th>50%</th>\n",
       "      <td>730.500000</td>\n",
       "      <td>50.000000</td>\n",
       "      <td>69.000000</td>\n",
       "      <td>9478.500000</td>\n",
       "      <td>6.000000</td>\n",
       "      <td>5.000000</td>\n",
       "      <td>1973.000000</td>\n",
       "      <td>1994.000000</td>\n",
       "      <td>0.000000</td>\n",
       "      <td>383.500000</td>\n",
       "      <td>...</td>\n",
       "      <td>0.000000</td>\n",
       "      <td>25.000000</td>\n",
       "      <td>0.000000</td>\n",
       "      <td>0.000000</td>\n",
       "      <td>0.000000</td>\n",
       "      <td>0.000000</td>\n",
       "      <td>0.000000</td>\n",
       "      <td>6.000000</td>\n",
       "      <td>2008.000000</td>\n",
       "      <td>163000.000000</td>\n",
       "    </tr>\n",
       "    <tr>\n",
       "      <th>75%</th>\n",
       "      <td>1095.250000</td>\n",
       "      <td>70.000000</td>\n",
       "      <td>80.000000</td>\n",
       "      <td>11601.500000</td>\n",
       "      <td>7.000000</td>\n",
       "      <td>6.000000</td>\n",
       "      <td>2000.000000</td>\n",
       "      <td>2004.000000</td>\n",
       "      <td>166.000000</td>\n",
       "      <td>712.250000</td>\n",
       "      <td>...</td>\n",
       "      <td>168.000000</td>\n",
       "      <td>68.000000</td>\n",
       "      <td>0.000000</td>\n",
       "      <td>0.000000</td>\n",
       "      <td>0.000000</td>\n",
       "      <td>0.000000</td>\n",
       "      <td>0.000000</td>\n",
       "      <td>8.000000</td>\n",
       "      <td>2009.000000</td>\n",
       "      <td>214000.000000</td>\n",
       "    </tr>\n",
       "    <tr>\n",
       "      <th>max</th>\n",
       "      <td>1460.000000</td>\n",
       "      <td>190.000000</td>\n",
       "      <td>313.000000</td>\n",
       "      <td>215245.000000</td>\n",
       "      <td>10.000000</td>\n",
       "      <td>9.000000</td>\n",
       "      <td>2010.000000</td>\n",
       "      <td>2010.000000</td>\n",
       "      <td>1600.000000</td>\n",
       "      <td>5644.000000</td>\n",
       "      <td>...</td>\n",
       "      <td>857.000000</td>\n",
       "      <td>547.000000</td>\n",
       "      <td>552.000000</td>\n",
       "      <td>508.000000</td>\n",
       "      <td>480.000000</td>\n",
       "      <td>738.000000</td>\n",
       "      <td>15500.000000</td>\n",
       "      <td>12.000000</td>\n",
       "      <td>2010.000000</td>\n",
       "      <td>755000.000000</td>\n",
       "    </tr>\n",
       "  </tbody>\n",
       "</table>\n",
       "<p>8 rows × 38 columns</p>\n",
       "</div>"
      ],
      "text/plain": [
       "                Id   MSSubClass  LotFrontage        LotArea  OverallQual  \\\n",
       "count  1460.000000  1460.000000  1201.000000    1460.000000  1460.000000   \n",
       "mean    730.500000    56.897260    70.049958   10516.828082     6.099315   \n",
       "std     421.610009    42.300571    24.284752    9981.264932     1.382997   \n",
       "min       1.000000    20.000000    21.000000    1300.000000     1.000000   \n",
       "25%     365.750000    20.000000    59.000000    7553.500000     5.000000   \n",
       "50%     730.500000    50.000000    69.000000    9478.500000     6.000000   \n",
       "75%    1095.250000    70.000000    80.000000   11601.500000     7.000000   \n",
       "max    1460.000000   190.000000   313.000000  215245.000000    10.000000   \n",
       "\n",
       "       OverallCond    YearBuilt  YearRemodAdd   MasVnrArea   BsmtFinSF1  ...  \\\n",
       "count  1460.000000  1460.000000   1460.000000  1452.000000  1460.000000  ...   \n",
       "mean      5.575342  1971.267808   1984.865753   103.685262   443.639726  ...   \n",
       "std       1.112799    30.202904     20.645407   181.066207   456.098091  ...   \n",
       "min       1.000000  1872.000000   1950.000000     0.000000     0.000000  ...   \n",
       "25%       5.000000  1954.000000   1967.000000     0.000000     0.000000  ...   \n",
       "50%       5.000000  1973.000000   1994.000000     0.000000   383.500000  ...   \n",
       "75%       6.000000  2000.000000   2004.000000   166.000000   712.250000  ...   \n",
       "max       9.000000  2010.000000   2010.000000  1600.000000  5644.000000  ...   \n",
       "\n",
       "        WoodDeckSF  OpenPorchSF  EnclosedPorch    3SsnPorch  ScreenPorch  \\\n",
       "count  1460.000000  1460.000000    1460.000000  1460.000000  1460.000000   \n",
       "mean     94.244521    46.660274      21.954110     3.409589    15.060959   \n",
       "std     125.338794    66.256028      61.119149    29.317331    55.757415   \n",
       "min       0.000000     0.000000       0.000000     0.000000     0.000000   \n",
       "25%       0.000000     0.000000       0.000000     0.000000     0.000000   \n",
       "50%       0.000000    25.000000       0.000000     0.000000     0.000000   \n",
       "75%     168.000000    68.000000       0.000000     0.000000     0.000000   \n",
       "max     857.000000   547.000000     552.000000   508.000000   480.000000   \n",
       "\n",
       "          PoolArea       MiscVal       MoSold       YrSold      SalePrice  \n",
       "count  1460.000000   1460.000000  1460.000000  1460.000000    1460.000000  \n",
       "mean      2.758904     43.489041     6.321918  2007.815753  180921.195890  \n",
       "std      40.177307    496.123024     2.703626     1.328095   79442.502883  \n",
       "min       0.000000      0.000000     1.000000  2006.000000   34900.000000  \n",
       "25%       0.000000      0.000000     5.000000  2007.000000  129975.000000  \n",
       "50%       0.000000      0.000000     6.000000  2008.000000  163000.000000  \n",
       "75%       0.000000      0.000000     8.000000  2009.000000  214000.000000  \n",
       "max     738.000000  15500.000000    12.000000  2010.000000  755000.000000  \n",
       "\n",
       "[8 rows x 38 columns]"
      ]
     },
     "execution_count": 87,
     "metadata": {},
     "output_type": "execute_result"
    }
   ],
   "source": [
    "df.describe()"
   ]
  },
  {
   "cell_type": "markdown",
   "id": "8446fc7c",
   "metadata": {},
   "source": [
    "## 2. Check Missing Values"
   ]
  },
  {
   "cell_type": "code",
   "execution_count": 88,
   "id": "9be63220",
   "metadata": {},
   "outputs": [
    {
     "data": {
      "text/plain": [
       "PoolQC          1453\n",
       "MiscFeature     1406\n",
       "Alley           1369\n",
       "Fence           1179\n",
       "MasVnrType       872\n",
       "FireplaceQu      690\n",
       "LotFrontage      259\n",
       "GarageType        81\n",
       "GarageYrBlt       81\n",
       "GarageFinish      81\n",
       "GarageQual        81\n",
       "GarageCond        81\n",
       "BsmtExposure      38\n",
       "BsmtFinType2      38\n",
       "BsmtQual          37\n",
       "BsmtCond          37\n",
       "BsmtFinType1      37\n",
       "MasVnrArea         8\n",
       "Electrical         1\n",
       "dtype: int64"
      ]
     },
     "execution_count": 88,
     "metadata": {},
     "output_type": "execute_result"
    }
   ],
   "source": [
    "missing = df.isnull().sum()\n",
    "missing[missing > 0].sort_values(ascending=False)"
   ]
  },
  {
   "cell_type": "markdown",
   "id": "9370d0f0",
   "metadata": {},
   "source": [
    "### Plot missing values:"
   ]
  },
  {
   "cell_type": "code",
   "execution_count": 89,
   "id": "bd63ac75",
   "metadata": {},
   "outputs": [],
   "source": [
    "import seaborn as sns\n",
    "import matplotlib.pyplot as plt"
   ]
  },
  {
   "cell_type": "code",
   "execution_count": 90,
   "id": "e1c8545f",
   "metadata": {},
   "outputs": [
    {
     "data": {
      "image/png": "[encoded data removed]",
      "text/plain": [
       "<Figure size 1200x600 with 1 Axes>"
      ]
     },
     "metadata": {},
     "output_type": "display_data"
    }
   ],
   "source": [
    "plt.figure(figsize=(12,6))\n",
    "sns.heatmap(df.isnull(), cbar=False, cmap=\"viridis\")\n",
    "plt.title(\"Missing Values Heatmap\")\n",
    "plt.show()"
   ]
  },
  {
   "cell_type": "markdown",
   "id": "bc2c6164",
   "metadata": {},
   "source": [
    "## 3. Visualize Target Variable (SalePrice)"
   ]
  },
  {
   "cell_type": "code",
   "execution_count": 91,
   "id": "ba0f1c35",
   "metadata": {},
   "outputs": [
    {
     "data": {
      "image/png": "[encoded data removed]",
      "text/plain": [
       "<Figure size 640x480 with 1 Axes>"
      ]
     },
     "metadata": {},
     "output_type": "display_data"
    }
   ],
   "source": [
    "sns.histplot(df['SalePrice'], kde=True) # type: ignore\n",
    "plt.title(\"SalePrice Distribution\")\n",
    "plt.show()"
   ]
  },
  {
   "cell_type": "markdown",
   "id": "287d2dfc",
   "metadata": {},
   "source": [
    "## 📊 4. Correlation Analysis (with Target)"
   ]
  },
  {
   "cell_type": "code",
   "execution_count": 158,
   "id": "1e0f2d17",
   "metadata": {},
   "outputs": [
    {
     "name": "stdout",
     "output_type": "stream",
     "text": [
      "Top 10 features most correlated with SalePrice:\n",
      "QualxLiving       0.832057\n",
      "OverallQual       0.790982\n",
      "TotalSF           0.782260\n",
      "GrLivArea         0.708624\n",
      "GarageCars        0.640409\n",
      "TotalBathrooms    0.631731\n",
      "GarageArea        0.623431\n",
      "TotalBsmtSF       0.613581\n",
      "1stFlrSF          0.605852\n",
      "FullBath          0.560664\n",
      "Name: SalePrice, dtype: float64\n"
     ]
    }
   ],
   "source": [
    "correlation = df.select_dtypes(include=['number']).corr()\n",
    "top_features = correlation['SalePrice'].sort_values(ascending=False)[1:11]  # Top 10\n",
    "print(\"Top 10 features most correlated with SalePrice:\")\n",
    "print(top_features)\n"
   ]
  },
  {
   "cell_type": "markdown",
   "id": "223bd3ff",
   "metadata": {},
   "source": [
    "### Heatmap"
   ]
  },
  {
   "cell_type": "code",
   "execution_count": 159,
   "id": "748fa6a3",
   "metadata": {},
   "outputs": [
    {
     "data": {
      "image/png": "[encoded data removed]",
      "text/plain": [
       "<Figure size 1000x800 with 2 Axes>"
      ]
     },
     "metadata": {},
     "output_type": "display_data"
    }
   ],
   "source": [
    "plt.figure(figsize=(10,8))\n",
    "sns.heatmap(df[top_features.index.tolist() + ['SalePrice']].corr(), annot=True, cmap='coolwarm')\n",
    "plt.title(\"Top Correlated Features with SalePrice\")\n",
    "plt.show()\n"
   ]
  },
  {
   "cell_type": "markdown",
   "id": "b5269069",
   "metadata": {},
   "source": [
    "## 📉 5. Scatter Plots for Strong Correlations"
   ]
  },
  {
   "cell_type": "markdown",
   "id": "b4434fae",
   "metadata": {},
   "source": [
    "the strongest correlated features like GrLivArea, OverallQual:"
   ]
  },
  {
   "cell_type": "code",
   "execution_count": 94,
   "id": "1afbb150",
   "metadata": {},
   "outputs": [
    {
     "data": {
      "image/png": "[encoded data removed]",
      "text/plain": [
       "<Figure size 640x480 with 1 Axes>"
      ]
     },
     "metadata": {},
     "output_type": "display_data"
    }
   ],
   "source": [
    "sns.scatterplot(x='GrLivArea', y='SalePrice', data=df)\n",
    "plt.title(\"Living Area vs SalePrice\")\n",
    "plt.show()\n"
   ]
  },
  {
   "cell_type": "markdown",
   "id": "8fb6462f",
   "metadata": {},
   "source": [
    "## 1. Boxplots for Categorical Features\n",
    "These help see the impact of categorical variables like OverallQual, YearBuilt, etc."
   ]
  },
  {
   "cell_type": "code",
   "execution_count": 95,
   "id": "9db46f46",
   "metadata": {},
   "outputs": [
    {
     "data": {
      "image/png": "[encoded data removed]",
      "text/plain": [
       "<Figure size 1000x600 with 1 Axes>"
      ]
     },
     "metadata": {},
     "output_type": "display_data"
    }
   ],
   "source": [
    "##\n",
    "plt.figure(figsize=(10,6))\n",
    "sns.boxplot(x='OverallCond', y='SalePrice', data=df)\n",
    "plt.title(\"SalePrice vs OverallQual\")\n",
    "plt.show()\n"
   ]
  },
  {
   "cell_type": "markdown",
   "id": "499add89",
   "metadata": {},
   "source": [
    "## 2. Scatter Plots for Continuous Features"
   ]
  },
  {
   "cell_type": "code",
   "execution_count": 96,
   "id": "b974402c",
   "metadata": {},
   "outputs": [
    {
     "data": {
      "image/png": "[encoded data removed]",
      "text/plain": [
       "<Figure size 800x500 with 1 Axes>"
      ]
     },
     "metadata": {},
     "output_type": "display_data"
    },
    {
     "data": {
      "image/png": "[encoded data removed]",
      "text/plain": [
       "<Figure size 800x500 with 1 Axes>"
      ]
     },
     "metadata": {},
     "output_type": "display_data"
    },
    {
     "data": {
      "image/png": "[encoded data removed]",
      "text/plain": [
       "<Figure size 800x500 with 1 Axes>"
      ]
     },
     "metadata": {},
     "output_type": "display_data"
    }
   ],
   "source": [
    "features = ['GrLivArea', 'TotalBsmtSF', 'GarageArea']\n",
    "\n",
    "for feature in features:\n",
    "    plt.figure(figsize=(8,5))\n",
    "    sns.scatterplot(x=feature, y='SalePrice', data=df)\n",
    "    plt.title(f\"{feature} vs SalePrice\")\n",
    "    plt.show()\n"
   ]
  },
  {
   "cell_type": "markdown",
   "id": "8d69d875",
   "metadata": {},
   "source": [
    "## 4. Binning Year Built for Visualization\n",
    "\n",
    "Group years into decades:"
   ]
  },
  {
   "cell_type": "code",
   "execution_count": 97,
   "id": "2a8854f2",
   "metadata": {},
   "outputs": [
    {
     "data": {
      "image/png": "[encoded data removed]",
      "text/plain": [
       "<Figure size 1000x600 with 1 Axes>"
      ]
     },
     "metadata": {},
     "output_type": "display_data"
    }
   ],
   "source": [
    "df['YearGroup'] = pd.cut(df['YearBuilt'], bins=[1870, 1900, 1950, 1980, 2000, 2010, 2020],\n",
    "                         labels=[\"<1900\", \"1900-50\", \"1950-80\", \"1980-00\", \"2000-10\", \"2010+\"])\n",
    "\n",
    "plt.figure(figsize=(10,6))\n",
    "sns.boxplot(x='YearGroup', y='SalePrice', data=df)\n",
    "plt.title(\"SalePrice vs Year Built Group\")\n",
    "plt.xticks(rotation=45)\n",
    "plt.show()\n"
   ]
  },
  {
   "cell_type": "markdown",
   "id": "72eb688a",
   "metadata": {},
   "source": [
    "#  Data Preprocessing + Feature Engineering"
   ]
  },
  {
   "cell_type": "markdown",
   "id": "69207ece",
   "metadata": {},
   "source": [
    "We'll handle:\n",
    "\n",
    "    ✅ Missing Values\n",
    "\n",
    "    ✅ Encoding Categorical Features\n",
    "\n",
    "    ✅ Feature Engineering (creating new useful columns)\n",
    "\n",
    "    ✅ Scaling (optional for tree models, important for linear models)\n",
    "\n",
    "    ✅ Splitting into Train & Test"
   ]
  },
  {
   "cell_type": "markdown",
   "id": "e66131e4",
   "metadata": {},
   "source": [
    "## 🔧 1. Handling Missing Values"
   ]
  },
  {
   "cell_type": "markdown",
   "id": "f098fe8b",
   "metadata": {},
   "source": [
    " inspect missing data again:\n",
    " "
   ]
  },
  {
   "cell_type": "code",
   "execution_count": 98,
   "id": "0592a2a0",
   "metadata": {},
   "outputs": [
    {
     "data": {
      "text/plain": [
       "PoolQC          1453\n",
       "MiscFeature     1406\n",
       "Alley           1369\n",
       "Fence           1179\n",
       "MasVnrType       872\n",
       "FireplaceQu      690\n",
       "LotFrontage      259\n",
       "GarageType        81\n",
       "GarageYrBlt       81\n",
       "GarageFinish      81\n",
       "GarageQual        81\n",
       "GarageCond        81\n",
       "BsmtExposure      38\n",
       "BsmtFinType2      38\n",
       "BsmtQual          37\n",
       "BsmtCond          37\n",
       "BsmtFinType1      37\n",
       "MasVnrArea         8\n",
       "Electrical         1\n",
       "dtype: int64"
      ]
     },
     "execution_count": 98,
     "metadata": {},
     "output_type": "execute_result"
    }
   ],
   "source": [
    "missing = df.isnull().sum()\n",
    "missing = missing[missing > 0].sort_values(ascending=False)\n",
    "missing\n"
   ]
  },
  {
   "cell_type": "markdown",
   "id": "127b327a",
   "metadata": {},
   "source": [
    "Common Fixes:\n",
    "\n",
    "    Numerical columns → fill with median/mean\n",
    "\n",
    "    Categorical columns → fill with 'None' or mode\n",
    "\n",
    "    Drop if too many missing values (>50%)"
   ]
  },
  {
   "cell_type": "code",
   "execution_count": 99,
   "id": "b72f0184",
   "metadata": {},
   "outputs": [],
   "source": [
    "# Fill missing with median\n",
    "df['LotFrontage'] = df['LotFrontage'].fillna(df['LotFrontage'].median())\n",
    "df['GarageYrBlt'] = df['GarageYrBlt'].fillna(df['GarageYrBlt'].median())\n",
    "df['MasVnrArea'] = df['MasVnrArea'].fillna(df['MasVnrArea'].median())\n",
    "\n"
   ]
  },
  {
   "cell_type": "code",
   "execution_count": 100,
   "id": "04be5d5c",
   "metadata": {},
   "outputs": [],
   "source": [
    "# Fill with 'None'\n",
    "df['Alley'] = df['Alley'].fillna('None')\n",
    "df['BsmtQual'] = df['BsmtQual'].fillna('None')\n",
    "df['BsmtCond'] = df['BsmtCond'].fillna('None')\n",
    "df['BsmtExposure'] = df['BsmtExposure'].fillna('None')"
   ]
  },
  {
   "cell_type": "code",
   "execution_count": 101,
   "id": "ac7d56c9",
   "metadata": {},
   "outputs": [],
   "source": [
    "# Drop columns with too many missing\n",
    "df = df.drop(columns=['PoolQC', 'MiscFeature', 'Fence', 'FireplaceQu', \"MasVnrType\"]) "
   ]
  },
  {
   "cell_type": "code",
   "execution_count": 102,
   "id": "4d9da042",
   "metadata": {},
   "outputs": [
    {
     "data": {
      "text/plain": [
       "GarageQual      81\n",
       "GarageFinish    81\n",
       "GarageType      81\n",
       "GarageCond      81\n",
       "BsmtFinType2    38\n",
       "BsmtFinType1    37\n",
       "Electrical       1\n",
       "dtype: int64"
      ]
     },
     "execution_count": 102,
     "metadata": {},
     "output_type": "execute_result"
    }
   ],
   "source": [
    "missing = df.isnull().sum()\n",
    "missing = missing[missing > 0].sort_values(ascending=False)\n",
    "missing"
   ]
  },
  {
   "cell_type": "code",
   "execution_count": 103,
   "id": "e31eb921",
   "metadata": {},
   "outputs": [
    {
     "data": {
      "text/plain": [
       "Electrical\n",
       "SBrkr    1334\n",
       "FuseA      94\n",
       "FuseF      27\n",
       "FuseP       3\n",
       "Mix         1\n",
       "NaN         1\n",
       "Name: count, dtype: int64"
      ]
     },
     "execution_count": 103,
     "metadata": {},
     "output_type": "execute_result"
    }
   ],
   "source": [
    "# checking its value first\n",
    "\n",
    "df['Electrical'].value_counts(dropna=False)\n"
   ]
  },
  {
   "cell_type": "code",
   "execution_count": 104,
   "id": "2d31b85b",
   "metadata": {},
   "outputs": [
    {
     "data": {
      "text/plain": [
       "Electrical\n",
       "SBrkr    1335\n",
       "FuseA      94\n",
       "FuseF      27\n",
       "FuseP       3\n",
       "Mix         1\n",
       "Name: count, dtype: int64"
      ]
     },
     "execution_count": 104,
     "metadata": {},
     "output_type": "execute_result"
    }
   ],
   "source": [
    "# Fill missing with mode\n",
    "df['Electrical'] = df['Electrical'].fillna(df['Electrical'].mode()[0])\n",
    "df['Electrical'].value_counts(dropna=False)"
   ]
  },
  {
   "cell_type": "code",
   "execution_count": 105,
   "id": "7760e4cd",
   "metadata": {},
   "outputs": [
    {
     "data": {
      "text/plain": [
       "array(['Attchd', 'Detchd', 'BuiltIn', 'CarPort', nan, 'Basment', '2Types'],\n",
       "      dtype=object)"
      ]
     },
     "execution_count": 105,
     "metadata": {},
     "output_type": "execute_result"
    }
   ],
   "source": [
    "df['GarageType'].unique()\n"
   ]
  },
  {
   "cell_type": "markdown",
   "id": "0bd774a0",
   "metadata": {},
   "source": [
    "since it clearly the data is missing as it appears \n",
    "\n",
    "GarageQual      81\n",
    "\n",
    "GarageFinish    81\n",
    "\n",
    "GarageType      81\n",
    "\n",
    "GarageCond      81\n",
    "\n",
    "that clearly means this house doesn't have garage , hence i will go with new data type \"No garage\"\n"
   ]
  },
  {
   "cell_type": "code",
   "execution_count": 106,
   "id": "afeaa473",
   "metadata": {},
   "outputs": [
    {
     "data": {
      "text/plain": [
       "array(['Attchd', 'Detchd', 'BuiltIn', 'CarPort', 'No Garage', 'Basment',\n",
       "       '2Types'], dtype=object)"
      ]
     },
     "execution_count": 106,
     "metadata": {},
     "output_type": "execute_result"
    }
   ],
   "source": [
    "df['GarageType']= df['GarageType'].fillna('No Garage')\n",
    "df['GarageType'].unique()\n"
   ]
  },
  {
   "cell_type": "markdown",
   "id": "5b7b5cff",
   "metadata": {},
   "source": [
    "similar to GarageType, fill other categorical features with 'No Feature' or similar\n"
   ]
  },
  {
   "cell_type": "code",
   "execution_count": 107,
   "id": "39fbc666",
   "metadata": {},
   "outputs": [
    {
     "data": {
      "text/plain": [
       "array(['RFn', 'Unf', 'Fin', 'NA'], dtype=object)"
      ]
     },
     "execution_count": 107,
     "metadata": {},
     "output_type": "execute_result"
    }
   ],
   "source": [
    "df['GarageFinish'].unique()\n",
    "df['GarageFinish'] = df['GarageFinish'].fillna('NA')\n",
    "df['GarageFinish'].unique()\n",
    "\n"
   ]
  },
  {
   "cell_type": "code",
   "execution_count": 108,
   "id": "74e3ebbe",
   "metadata": {},
   "outputs": [
    {
     "data": {
      "text/plain": [
       "array(['TA', 'Fa', 'Gd', 'NA', 'Ex', 'Po'], dtype=object)"
      ]
     },
     "execution_count": 108,
     "metadata": {},
     "output_type": "execute_result"
    }
   ],
   "source": [
    "df['GarageQual'].unique()\n",
    "\n",
    "df['GarageQual'] = df['GarageQual'].fillna('NA')\n",
    "df['GarageQual'].unique()\n"
   ]
  },
  {
   "cell_type": "code",
   "execution_count": 109,
   "id": "512149b5",
   "metadata": {},
   "outputs": [
    {
     "data": {
      "text/plain": [
       "array(['TA', 'Fa', 'NA', 'Gd', 'Po', 'Ex'], dtype=object)"
      ]
     },
     "execution_count": 109,
     "metadata": {},
     "output_type": "execute_result"
    }
   ],
   "source": [
    "df['GarageCond'].unique()\n",
    "df['GarageCond'] = df['GarageCond'].fillna('NA')\n",
    "df['GarageCond'].unique()\n"
   ]
  },
  {
   "cell_type": "markdown",
   "id": "8fe7b60e",
   "metadata": {},
   "source": [
    "lets check remaining missing values"
   ]
  },
  {
   "cell_type": "code",
   "execution_count": 110,
   "id": "013a8143",
   "metadata": {},
   "outputs": [
    {
     "data": {
      "text/plain": [
       "BsmtFinType2    38\n",
       "BsmtFinType1    37\n",
       "dtype: int64"
      ]
     },
     "execution_count": 110,
     "metadata": {},
     "output_type": "execute_result"
    }
   ],
   "source": [
    "missing = df.isnull().sum()\n",
    "missing = missing[missing > 0].sort_values(ascending=False)\n",
    "missing"
   ]
  },
  {
   "cell_type": "code",
   "execution_count": 111,
   "id": "8f569884",
   "metadata": {},
   "outputs": [
    {
     "data": {
      "text/plain": [
       "BsmtFinType2\n",
       "Unf    1256\n",
       "Rec      54\n",
       "LwQ      46\n",
       "NaN      38\n",
       "BLQ      33\n",
       "ALQ      19\n",
       "GLQ      14\n",
       "Name: count, dtype: int64"
      ]
     },
     "execution_count": 111,
     "metadata": {},
     "output_type": "execute_result"
    }
   ],
   "source": [
    "df['BsmtFinType2'].value_counts(dropna=False)"
   ]
  },
  {
   "cell_type": "code",
   "execution_count": 112,
   "id": "d43b3b9e",
   "metadata": {},
   "outputs": [
    {
     "data": {
      "text/plain": [
       "BsmtFinType2\n",
       "Unf    1294\n",
       "Rec      54\n",
       "LwQ      46\n",
       "BLQ      33\n",
       "ALQ      19\n",
       "GLQ      14\n",
       "Name: count, dtype: int64"
      ]
     },
     "execution_count": 112,
     "metadata": {},
     "output_type": "execute_result"
    }
   ],
   "source": [
    "# will fill with mode in BsmtFinType2\n",
    "df['BsmtFinType2'] = df['BsmtFinType2'].fillna(df['BsmtFinType2'].mode()[0])\n",
    "df['BsmtFinType2'].value_counts(dropna=False)"
   ]
  },
  {
   "cell_type": "code",
   "execution_count": 113,
   "id": "62565484",
   "metadata": {},
   "outputs": [
    {
     "data": {
      "text/plain": [
       "BsmtFinType1\n",
       "Unf    430\n",
       "GLQ    418\n",
       "ALQ    220\n",
       "BLQ    148\n",
       "Rec    133\n",
       "LwQ     74\n",
       "NaN     37\n",
       "Name: count, dtype: int64"
      ]
     },
     "execution_count": 113,
     "metadata": {},
     "output_type": "execute_result"
    }
   ],
   "source": [
    "df['BsmtFinType1'].value_counts(dropna=False)"
   ]
  },
  {
   "cell_type": "markdown",
   "id": "edbb3936",
   "metadata": {},
   "source": [
    "since  all othere missing quantity realate to basement i have gone with None"
   ]
  },
  {
   "cell_type": "code",
   "execution_count": 114,
   "id": "2e026814",
   "metadata": {},
   "outputs": [],
   "source": [
    "df['BsmtFinType1'] = df['BsmtFinType1'].fillna('None')"
   ]
  },
  {
   "cell_type": "code",
   "execution_count": 115,
   "id": "ad4f3ef1",
   "metadata": {},
   "outputs": [
    {
     "data": {
      "text/plain": [
       "Series([], dtype: int64)"
      ]
     },
     "execution_count": 115,
     "metadata": {},
     "output_type": "execute_result"
    }
   ],
   "source": [
    "missing = df.isnull().sum()\n",
    "missing = missing[missing > 0].sort_values(ascending=False)\n",
    "missing"
   ]
  },
  {
   "cell_type": "markdown",
   "id": "433e374a",
   "metadata": {},
   "source": [
    "## 🔤 2. Encoding Categorical Variables"
   ]
  },
  {
   "cell_type": "code",
   "execution_count": null,
   "id": "01e24075",
   "metadata": {},
   "outputs": [],
   "source": []
  },
  {
   "cell_type": "code",
   "execution_count": 116,
   "id": "9c3ab8e7",
   "metadata": {},
   "outputs": [
    {
     "name": "stdout",
     "output_type": "stream",
     "text": [
      "['Id', 'MSSubClass', 'MSZoning', 'LotFrontage', 'LotArea', 'Street', 'Alley', 'LotShape', 'LandContour', 'Utilities', 'LotConfig', 'LandSlope', 'Neighborhood', 'Condition1', 'Condition2', 'BldgType', 'HouseStyle', 'OverallQual', 'OverallCond', 'YearBuilt', 'YearRemodAdd', 'RoofStyle', 'RoofMatl', 'Exterior1st', 'Exterior2nd', 'MasVnrArea', 'ExterQual', 'ExterCond', 'Foundation', 'BsmtQual', 'BsmtCond', 'BsmtExposure', 'BsmtFinType1', 'BsmtFinSF1', 'BsmtFinType2', 'BsmtFinSF2', 'BsmtUnfSF', 'TotalBsmtSF', 'Heating', 'HeatingQC', 'CentralAir', 'Electrical', '1stFlrSF', '2ndFlrSF', 'LowQualFinSF', 'GrLivArea', 'BsmtFullBath', 'BsmtHalfBath', 'FullBath', 'HalfBath', 'BedroomAbvGr', 'KitchenAbvGr', 'KitchenQual', 'TotRmsAbvGrd', 'Functional', 'Fireplaces', 'GarageType', 'GarageYrBlt', 'GarageFinish', 'GarageCars', 'GarageArea', 'GarageQual', 'GarageCond', 'PavedDrive', 'WoodDeckSF', 'OpenPorchSF', 'EnclosedPorch', '3SsnPorch', 'ScreenPorch', 'PoolArea', 'MiscVal', 'MoSold', 'YrSold', 'SaleType', 'SaleCondition', 'SalePrice', 'YearGroup']\n"
     ]
    }
   ],
   "source": [
    "print(df.columns.tolist())"
   ]
  },
  {
   "cell_type": "code",
   "execution_count": 117,
   "id": "2b3d02f9",
   "metadata": {},
   "outputs": [
    {
     "name": "stdout",
     "output_type": "stream",
     "text": [
      "<class 'pandas.core.frame.DataFrame'>\n",
      "RangeIndex: 1460 entries, 0 to 1459\n",
      "Data columns (total 77 columns):\n",
      " #   Column         Non-Null Count  Dtype   \n",
      "---  ------         --------------  -----   \n",
      " 0   Id             1460 non-null   int64   \n",
      " 1   MSSubClass     1460 non-null   int64   \n",
      " 2   MSZoning       1460 non-null   object  \n",
      " 3   LotFrontage    1460 non-null   float64 \n",
      " 4   LotArea        1460 non-null   int64   \n",
      " 5   Street         1460 non-null   object  \n",
      " 6   Alley          1460 non-null   object  \n",
      " 7   LotShape       1460 non-null   object  \n",
      " 8   LandContour    1460 non-null   object  \n",
      " 9   Utilities      1460 non-null   object  \n",
      " 10  LotConfig      1460 non-null   object  \n",
      " 11  LandSlope      1460 non-null   object  \n",
      " 12  Neighborhood   1460 non-null   object  \n",
      " 13  Condition1     1460 non-null   object  \n",
      " 14  Condition2     1460 non-null   object  \n",
      " 15  BldgType       1460 non-null   object  \n",
      " 16  HouseStyle     1460 non-null   object  \n",
      " 17  OverallQual    1460 non-null   int64   \n",
      " 18  OverallCond    1460 non-null   int64   \n",
      " 19  YearBuilt      1460 non-null   int64   \n",
      " 20  YearRemodAdd   1460 non-null   int64   \n",
      " 21  RoofStyle      1460 non-null   object  \n",
      " 22  RoofMatl       1460 non-null   object  \n",
      " 23  Exterior1st    1460 non-null   object  \n",
      " 24  Exterior2nd    1460 non-null   object  \n",
      " 25  MasVnrArea     1460 non-null   float64 \n",
      " 26  ExterQual      1460 non-null   object  \n",
      " 27  ExterCond      1460 non-null   object  \n",
      " 28  Foundation     1460 non-null   object  \n",
      " 29  BsmtQual       1460 non-null   object  \n",
      " 30  BsmtCond       1460 non-null   object  \n",
      " 31  BsmtExposure   1460 non-null   object  \n",
      " 32  BsmtFinType1   1460 non-null   object  \n",
      " 33  BsmtFinSF1     1460 non-null   int64   \n",
      " 34  BsmtFinType2   1460 non-null   object  \n",
      " 35  BsmtFinSF2     1460 non-null   int64   \n",
      " 36  BsmtUnfSF      1460 non-null   int64   \n",
      " 37  TotalBsmtSF    1460 non-null   int64   \n",
      " 38  Heating        1460 non-null   object  \n",
      " 39  HeatingQC      1460 non-null   object  \n",
      " 40  CentralAir     1460 non-null   object  \n",
      " 41  Electrical     1460 non-null   object  \n",
      " 42  1stFlrSF       1460 non-null   int64   \n",
      " 43  2ndFlrSF       1460 non-null   int64   \n",
      " 44  LowQualFinSF   1460 non-null   int64   \n",
      " 45  GrLivArea      1460 non-null   int64   \n",
      " 46  BsmtFullBath   1460 non-null   int64   \n",
      " 47  BsmtHalfBath   1460 non-null   int64   \n",
      " 48  FullBath       1460 non-null   int64   \n",
      " 49  HalfBath       1460 non-null   int64   \n",
      " 50  BedroomAbvGr   1460 non-null   int64   \n",
      " 51  KitchenAbvGr   1460 non-null   int64   \n",
      " 52  KitchenQual    1460 non-null   object  \n",
      " 53  TotRmsAbvGrd   1460 non-null   int64   \n",
      " 54  Functional     1460 non-null   object  \n",
      " 55  Fireplaces     1460 non-null   int64   \n",
      " 56  GarageType     1460 non-null   object  \n",
      " 57  GarageYrBlt    1460 non-null   float64 \n",
      " 58  GarageFinish   1460 non-null   object  \n",
      " 59  GarageCars     1460 non-null   int64   \n",
      " 60  GarageArea     1460 non-null   int64   \n",
      " 61  GarageQual     1460 non-null   object  \n",
      " 62  GarageCond     1460 non-null   object  \n",
      " 63  PavedDrive     1460 non-null   object  \n",
      " 64  WoodDeckSF     1460 non-null   int64   \n",
      " 65  OpenPorchSF    1460 non-null   int64   \n",
      " 66  EnclosedPorch  1460 non-null   int64   \n",
      " 67  3SsnPorch      1460 non-null   int64   \n",
      " 68  ScreenPorch    1460 non-null   int64   \n",
      " 69  PoolArea       1460 non-null   int64   \n",
      " 70  MiscVal        1460 non-null   int64   \n",
      " 71  MoSold         1460 non-null   int64   \n",
      " 72  YrSold         1460 non-null   int64   \n",
      " 73  SaleType       1460 non-null   object  \n",
      " 74  SaleCondition  1460 non-null   object  \n",
      " 75  SalePrice      1460 non-null   int64   \n",
      " 76  YearGroup      1460 non-null   category\n",
      "dtypes: category(1), float64(3), int64(35), object(38)\n",
      "memory usage: 868.6+ KB\n"
     ]
    }
   ],
   "source": [
    "df.info()"
   ]
  },
  {
   "cell_type": "markdown",
   "id": "2ab3e570",
   "metadata": {},
   "source": [
    "let's break down which columns need encoding and which method is best for each.\n",
    "\n",
    "***\n",
    "\n",
    "### Columns Needing Encoding\n",
    "\n",
    "Based on the list you provided, the following columns are of the `object` data type and therefore need to be encoded. The choice of encoding method depends on whether the categories have an inherent order.\n",
    "\n",
    "#### **Ordinal Encoding** (Use `LabelEncoder`)\n",
    "\n",
    "These columns have a meaningful, ranked order among their categories. It's crucial to map them to integers that reflect this order.\n",
    "\n",
    "* `BsmtQual`: Basement quality (e.g., 'Ex' > 'Gd' > 'TA').\n",
    "* `BsmtCond`: Basement condition (e.g., 'Ex' > 'Gd' > 'TA').\n",
    "* `BsmtExposure`: Walkout or garden level basement walls.\n",
    "* `BsmtFinType1`: Quality of basement finished area.\n",
    "* `BsmtFinType2`: Quality of second finished area (if present).\n",
    "* `ExterQual`: Exterior material quality.\n",
    "* `ExterCond`: Exterior condition.\n",
    "* `HeatingQC`: Heating quality and condition.\n",
    "* `KitchenQual`: Kitchen quality.\n",
    "* `FireplaceQu`: Fireplace quality.\n",
    "* `GarageQual`: Garage quality.\n",
    "* `GarageCond`: Garage condition.\n",
    "* `YearGroup`: As you correctly identified, this has an order (`<1900` < `1900-50`, etc.).\n",
    "\n",
    "#### **One-Hot Encoding** (Use `pd.get_dummies`)\n",
    "\n",
    "These columns are **nominal**, meaning their categories have no inherent order. Using one-hot encoding prevents the model from incorrectly assuming a relationship between the categories.\n",
    "\n",
    "* `MSZoning`: The general zoning classification.\n",
    "* `Street`: Type of road access.\n",
    "* `Alley`: Type of alley access.\n",
    "* `LotShape`: General shape of property.\n",
    "* `LandContour`: Flatness of the property.\n",
    "* `Utilities`: Type of utilities available.\n",
    "* `LotConfig`: Lot configuration.\n",
    "* `LandSlope`: Slope of property.\n",
    "* `Neighborhood`: Physical location within Ames city limits.\n",
    "* `Condition1`: Proximity to main road or railroad.\n",
    "* `Condition2`: Proximity to main road or railroad (if a second is present).\n",
    "* `BldgType`: Type of dwelling.\n",
    "* `HouseStyle`: Style of dwelling.\n",
    "* `RoofStyle`: Type of roof.\n",
    "* `RoofMatl`: Roof material.\n",
    "* `Exterior1st`: Exterior covering on house.\n",
    "* `Exterior2nd`: Exterior covering on house (if more than one material).\n",
    "* `MasVnrType`: Masonry veneer type.\n",
    "* `Foundation`: Type of foundation.\n",
    "* `Heating`: Type of heating.\n",
    "* `CentralAir`: Central air conditioning.\n",
    "* `Electrical`: Electrical system.\n",
    "* `Functional`: Home functionality rating.\n",
    "* `GarageType`: Garage location.\n",
    "* `GarageFinish`: Interior finish of the garage.\n",
    "* `PavedDrive`: Paved driveway.\n",
    "* `SaleType`: Type of sale.\n",
    "* `SaleCondition`: Condition of sale.\n",
    "\n",
    "***\n",
    "\n",
    "### Columns That Don't Need Encoding\n",
    "\n",
    "* **Numerical Columns**: These are already in a format models can use. This includes all `int64` and `float64` columns, such as `Id`, `LotFrontage`, `LotArea`, `OverallQual`, and `SalePrice`.\n",
    "* **Columns with too many unique values**: Columns like `PoolQC`, `MiscFeature`, and `Fence` have a large number of missing values and might be better handled by creating a 'No [Feature]' category and then potentially dropping the column if it's too sparse.\n",
    "* **Unique Identifiers**: The `Id` column is just for identification and should be dropped before training a model, as it provides no useful information for prediction."
   ]
  },
  {
   "cell_type": "markdown",
   "id": "b82d7c70",
   "metadata": {},
   "source": [
    "check manually all the cateogry type"
   ]
  },
  {
   "cell_type": "code",
   "execution_count": 118,
   "id": "63ac1c33",
   "metadata": {},
   "outputs": [
    {
     "data": {
      "text/plain": [
       "YearGroup\n",
       "1950-80    520\n",
       "2000-10    364\n",
       "1900-50    313\n",
       "1980-00    238\n",
       "<1900       25\n",
       "2010+        0\n",
       "Name: count, dtype: int64"
      ]
     },
     "execution_count": 118,
     "metadata": {},
     "output_type": "execute_result"
    }
   ],
   "source": [
    "df['YearGroup'].value_counts(dropna=False)"
   ]
  },
  {
   "cell_type": "code",
   "execution_count": 119,
   "id": "b76a1cec",
   "metadata": {},
   "outputs": [],
   "source": [
    "# --- 1. Ordinal Encoding for YearGroup ---\n",
    "# Define the correct order of the categories\n",
    "year_group_order = ['<1900', '1900-50', '1950-80', '1980-00', '2000-10', '2010+']\n",
    "\n",
    "# Create a mapping dictionary for clarity and control\n",
    "year_group_mapping = {\n",
    "    '<1900': 0,\n",
    "    '1900-50': 1,\n",
    "    '1950-80': 2,\n",
    "    '1980-00': 3,\n",
    "    '2000-10': 4,\n",
    "    '2010+': 5\n",
    "}\n",
    "\n",
    "# Apply the mapping to the column\n",
    "df['YearGroup_encoded'] = df['YearGroup'].map(year_group_mapping)\n",
    "\n",
    "# Drop the original YearGroup column if you no longer need it\n",
    "df.drop('YearGroup', axis=1, inplace=True)\n"
   ]
  },
  {
   "cell_type": "code",
   "execution_count": 120,
   "id": "f86dcae2",
   "metadata": {},
   "outputs": [
    {
     "data": {
      "text/plain": [
       "Index(['Id', 'MSSubClass', 'MSZoning', 'LotFrontage', 'LotArea', 'Street',\n",
       "       'Alley', 'LotShape', 'LandContour', 'Utilities', 'LotConfig',\n",
       "       'LandSlope', 'Neighborhood', 'Condition1', 'Condition2', 'BldgType',\n",
       "       'HouseStyle', 'OverallQual', 'OverallCond', 'YearBuilt', 'YearRemodAdd',\n",
       "       'RoofStyle', 'RoofMatl', 'Exterior1st', 'Exterior2nd', 'MasVnrArea',\n",
       "       'ExterQual', 'ExterCond', 'Foundation', 'BsmtQual', 'BsmtCond',\n",
       "       'BsmtExposure', 'BsmtFinType1', 'BsmtFinSF1', 'BsmtFinType2',\n",
       "       'BsmtFinSF2', 'BsmtUnfSF', 'TotalBsmtSF', 'Heating', 'HeatingQC',\n",
       "       'CentralAir', 'Electrical', '1stFlrSF', '2ndFlrSF', 'LowQualFinSF',\n",
       "       'GrLivArea', 'BsmtFullBath', 'BsmtHalfBath', 'FullBath', 'HalfBath',\n",
       "       'BedroomAbvGr', 'KitchenAbvGr', 'KitchenQual', 'TotRmsAbvGrd',\n",
       "       'Functional', 'Fireplaces', 'GarageType', 'GarageYrBlt', 'GarageFinish',\n",
       "       'GarageCars', 'GarageArea', 'GarageQual', 'GarageCond', 'PavedDrive',\n",
       "       'WoodDeckSF', 'OpenPorchSF', 'EnclosedPorch', '3SsnPorch',\n",
       "       'ScreenPorch', 'PoolArea', 'MiscVal', 'MoSold', 'YrSold', 'SaleType',\n",
       "       'SaleCondition', 'SalePrice', 'YearGroup_encoded'],\n",
       "      dtype='object')"
      ]
     },
     "execution_count": 120,
     "metadata": {},
     "output_type": "execute_result"
    }
   ],
   "source": [
    "df.columns"
   ]
  },
  {
   "cell_type": "code",
   "execution_count": 121,
   "id": "36d41777",
   "metadata": {},
   "outputs": [
    {
     "data": {
      "text/plain": [
       "YearGroup_encoded\n",
       "2    520\n",
       "4    364\n",
       "1    313\n",
       "3    238\n",
       "0     25\n",
       "5      0\n",
       "Name: count, dtype: int64"
      ]
     },
     "execution_count": 121,
     "metadata": {},
     "output_type": "execute_result"
    }
   ],
   "source": [
    "df['YearGroup_encoded'].value_counts(dropna=False)"
   ]
  },
  {
   "cell_type": "markdown",
   "id": "efb4799b",
   "metadata": {},
   "source": [
    "checking manually for one hot encoding"
   ]
  },
  {
   "cell_type": "code",
   "execution_count": 122,
   "id": "2271ccbe",
   "metadata": {},
   "outputs": [
    {
     "data": {
      "text/plain": [
       "HouseStyle\n",
       "1Story    726\n",
       "2Story    445\n",
       "1.5Fin    154\n",
       "SLvl       65\n",
       "SFoyer     37\n",
       "1.5Unf     14\n",
       "2.5Unf     11\n",
       "2.5Fin      8\n",
       "Name: count, dtype: int64"
      ]
     },
     "execution_count": 122,
     "metadata": {},
     "output_type": "execute_result"
    }
   ],
   "source": [
    "#df['SaleCondition'].value_counts(dropna=False)\n",
    "df['HouseStyle'].value_counts(dropna=False)"
   ]
  },
  {
   "cell_type": "code",
   "execution_count": 123,
   "id": "e36802d8",
   "metadata": {},
   "outputs": [
    {
     "name": "stdout",
     "output_type": "stream",
     "text": [
      "DataFrame after encoding:\n",
      "   Id  MSSubClass MSZoning  LotFrontage  LotArea Street Alley LotShape  \\\n",
      "0   1          60       RL         65.0     8450   Pave  None      Reg   \n",
      "1   2          20       RL         80.0     9600   Pave  None      Reg   \n",
      "2   3          60       RL         68.0    11250   Pave  None      IR1   \n",
      "3   4          70       RL         60.0     9550   Pave  None      IR1   \n",
      "4   5          60       RL         84.0    14260   Pave  None      IR1   \n",
      "\n",
      "  LandContour Utilities  ... HouseStyle_2.5Fin HouseStyle_2.5Unf  \\\n",
      "0         Lvl    AllPub  ...             False             False   \n",
      "1         Lvl    AllPub  ...             False             False   \n",
      "2         Lvl    AllPub  ...             False             False   \n",
      "3         Lvl    AllPub  ...             False             False   \n",
      "4         Lvl    AllPub  ...             False             False   \n",
      "\n",
      "  HouseStyle_2Story HouseStyle_SFoyer HouseStyle_SLvl SaleCondition_AdjLand  \\\n",
      "0              True             False           False                 False   \n",
      "1             False             False           False                 False   \n",
      "2              True             False           False                 False   \n",
      "3              True             False           False                 False   \n",
      "4              True             False           False                 False   \n",
      "\n",
      "   SaleCondition_Alloca  SaleCondition_Family  SaleCondition_Normal  \\\n",
      "0                 False                 False                  True   \n",
      "1                 False                 False                  True   \n",
      "2                 False                 False                  True   \n",
      "3                 False                 False                 False   \n",
      "4                 False                 False                  True   \n",
      "\n",
      "   SaleCondition_Partial  \n",
      "0                  False  \n",
      "1                  False  \n",
      "2                  False  \n",
      "3                  False  \n",
      "4                  False  \n",
      "\n",
      "[5 rows x 87 columns]\n",
      "\n",
      "New column names from one-hot encoding:\n",
      "['HouseStyle_1.5Unf', 'HouseStyle_1Story', 'HouseStyle_2.5Fin', 'HouseStyle_2.5Unf', 'HouseStyle_2Story', 'HouseStyle_SFoyer', 'HouseStyle_SLvl', 'SaleCondition_AdjLand', 'SaleCondition_Alloca', 'SaleCondition_Family', 'SaleCondition_Normal', 'SaleCondition_Partial']\n"
     ]
    }
   ],
   "source": [
    "# --- 2. One-Hot Encoding for HouseStyle and SaleCondition ---\n",
    "# Use pandas get_dummies to perform one-hot encoding\n",
    "# The 'columns' argument takes a list of columns to encode\n",
    "# 'drop_first=True' is used to avoid multicollinearity (the dummy variable trap)\n",
    "df = pd.get_dummies(df, columns=['HouseStyle', 'SaleCondition'], drop_first=True)\n",
    "\n",
    "\n",
    "# Print the first few rows and the new column names to verify the changes\n",
    "print(\"DataFrame after encoding:\")\n",
    "print(df.head())\n",
    "\n",
    "print(\"\\nNew column names from one-hot encoding:\")\n",
    "print([col for col in df.columns if 'HouseStyle_' in col or 'SaleCondition_' in col])\n",
    "\n"
   ]
  },
  {
   "cell_type": "code",
   "execution_count": 124,
   "id": "f277cbf8",
   "metadata": {},
   "outputs": [
    {
     "data": {
      "text/plain": [
       "Index(['Id', 'MSSubClass', 'MSZoning', 'LotFrontage', 'LotArea', 'Street',\n",
       "       'Alley', 'LotShape', 'LandContour', 'Utilities', 'LotConfig',\n",
       "       'LandSlope', 'Neighborhood', 'Condition1', 'Condition2', 'BldgType',\n",
       "       'OverallQual', 'OverallCond', 'YearBuilt', 'YearRemodAdd', 'RoofStyle',\n",
       "       'RoofMatl', 'Exterior1st', 'Exterior2nd', 'MasVnrArea', 'ExterQual',\n",
       "       'ExterCond', 'Foundation', 'BsmtQual', 'BsmtCond', 'BsmtExposure',\n",
       "       'BsmtFinType1', 'BsmtFinSF1', 'BsmtFinType2', 'BsmtFinSF2', 'BsmtUnfSF',\n",
       "       'TotalBsmtSF', 'Heating', 'HeatingQC', 'CentralAir', 'Electrical',\n",
       "       '1stFlrSF', '2ndFlrSF', 'LowQualFinSF', 'GrLivArea', 'BsmtFullBath',\n",
       "       'BsmtHalfBath', 'FullBath', 'HalfBath', 'BedroomAbvGr', 'KitchenAbvGr',\n",
       "       'KitchenQual', 'TotRmsAbvGrd', 'Functional', 'Fireplaces', 'GarageType',\n",
       "       'GarageYrBlt', 'GarageFinish', 'GarageCars', 'GarageArea', 'GarageQual',\n",
       "       'GarageCond', 'PavedDrive', 'WoodDeckSF', 'OpenPorchSF',\n",
       "       'EnclosedPorch', '3SsnPorch', 'ScreenPorch', 'PoolArea', 'MiscVal',\n",
       "       'MoSold', 'YrSold', 'SaleType', 'SalePrice', 'YearGroup_encoded',\n",
       "       'HouseStyle_1.5Unf', 'HouseStyle_1Story', 'HouseStyle_2.5Fin',\n",
       "       'HouseStyle_2.5Unf', 'HouseStyle_2Story', 'HouseStyle_SFoyer',\n",
       "       'HouseStyle_SLvl', 'SaleCondition_AdjLand', 'SaleCondition_Alloca',\n",
       "       'SaleCondition_Family', 'SaleCondition_Normal',\n",
       "       'SaleCondition_Partial'],\n",
       "      dtype='object')"
      ]
     },
     "execution_count": 124,
     "metadata": {},
     "output_type": "execute_result"
    }
   ],
   "source": [
    "df.columns"
   ]
  },
  {
   "cell_type": "markdown",
   "id": "2c903a9b",
   "metadata": {},
   "source": [
    "## 3. Feature Engineering"
   ]
  },
  {
   "cell_type": "markdown",
   "id": "f573e75d",
   "metadata": {},
   "source": [
    "Your current columns show you've already handled some of the encoding. Based on the remaining columns, here are my suggestions for where you can perform more feature engineering and why.\n",
    "\n",
    "### Time-Based Features ⏳\n",
    "\n",
    "These columns can be used to create new, more intuitive features about the property's age and history.\n",
    "\n",
    "---\n",
    "\n",
    "* **`YearBuilt`**, **`YearRemodAdd`**, **`YrSold`**, and **`GarageYrBlt`**: Instead of having these absolute years, it's often more informative for a model to know the **age** of the house or garage at the time of sale.\n",
    "    * **Why?** A house's age and the time since its last remodel are often direct drivers of its price. The model might not easily infer this relationship from raw years.\n",
    "    * **New Features:**\n",
    "        * `HouseAge`: `YrSold` - `YearBuilt`\n",
    "        * `YearsSinceRemodel`: `YrSold` - `YearRemodAdd`\n",
    "        * `GarageAge`: `YrSold` - `GarageYrBlt`\n",
    "\n",
    "* **`MoSold`**: This column contains the month the house was sold.\n",
    "    * **Why?** The real estate market has seasonal patterns. Houses sold in the spring and summer might have different price dynamics than those sold in the winter. A model could benefit from this information if it's explicitly provided.\n",
    "    * **New Feature:**\n",
    "        * `SeasonSold`: Map months to seasons (e.g., Q1, Q2, Q3, Q4, or Spring, Summer, Fall, Winter).\n",
    "\n",
    "### Combining Area and Count Features 🏡\n",
    "\n",
    "These features are currently split, but a model could benefit from a combined total.\n",
    "\n",
    "---\n",
    "\n",
    "* **`BsmtFinSF1`**, **`BsmtFinSF2`**, **`BsmtUnfSF`**, and **`1stFlrSF`**, **`2ndFlrSF`**, **`LowQualFinSF`**: These can be combined into a single feature representing the total living area. While you already have `GrLivArea`, creating a `TotalSF` feature that also includes the basement can be valuable.\n",
    "    * **Why?** A house's total square footage is one of the most powerful predictors of its price. Consolidating all floor areas provides a single, comprehensive metric.\n",
    "    * **New Feature:**\n",
    "        * `TotalSF`: `TotalBsmtSF` + `1stFlrSF` + `2ndFlrSF`\n",
    "\n",
    "* **`BsmtFullBath`**, **`BsmtHalfBath`**, **`FullBath`**, and **`HalfBath`**: The individual number of full and half baths can be simplified into a total bathroom count.\n",
    "    * **Why?** The total number of bathrooms is often a more direct and understandable feature for a model. The specific breakdown (full vs. half, basement vs. above ground) might be less important than the total count.\n",
    "    * **New Feature:**\n",
    "        * `TotalBathrooms`: `FullBath` + `BsmtFullBath` + (0.5 * `HalfBath`) + (0.5 * `BsmtHalfBath`)\n",
    "\n",
    "### Interaction Features 🤝\n",
    "\n",
    "These features capture a combined effect that is more than the sum of its parts.\n",
    "\n",
    "---\n",
    "\n",
    "* **`OverallQual`** and **`GrLivArea`**: These are two of the most important predictors in your dataset.\n",
    "    * **Why?** The value of a house depends on its size **and** its quality. A small, high-quality house might be more valuable than a large, low-quality one. Multiplying these two features creates a new metric that captures this interaction.\n",
    "    * **New Feature:**\n",
    "        * `QualxLiving`: `OverallQual` * `GrLivArea`\n",
    "\n",
    "### Binary Features from Sparse Columns ✅\n",
    "\n",
    "Columns with many missing values (like `Alley`) or a lot of zeros (like `PoolArea`) can be simplified.\n",
    "\n",
    "---\n",
    "\n",
    "* **`PoolArea`**: This column likely has many zeros, as not all houses have a pool.\n",
    "    * **Why?** It might be more useful to simply know if a house has a pool or not. The actual size might be less important than the presence of the feature itself.\n",
    "    * **New Feature:**\n",
    "        * `HasPool`: A binary feature (1 if `PoolArea` > 0, 0 otherwise).\n",
    "\n",
    "* **`Alley`**: This column has many missing values, which you would have likely filled with 'No Alley' or similar.\n",
    "    * **Why?** The presence of an alley is a significant, but rare, feature. A simple binary column is an effective way to represent this information without needing to one-hot encode the different types of alleys.\n",
    "    * **New Feature:**\n",
    "        * `HasAlley`: A binary feature (1 if `Alley` is not 'No Alley', 0 otherwise)."
   ]
  },
  {
   "cell_type": "code",
   "execution_count": 125,
   "id": "1d1ce659",
   "metadata": {},
   "outputs": [],
   "source": [
    "# --- 1. Create HouseAge Feature ---\n",
    "# Calculate the age of the house at the time of sale.\n",
    "df['HouseAge'] = df['YrSold'] - df['YearBuilt']\n",
    "\n",
    "# --- 2. Create YearsSinceRemodel Feature ---\n",
    "# Calculate the number of years since the last major remodel or addition.\n",
    "df['YearsSinceRemodel'] = df['YrSold'] - df['YearRemodAdd']\n",
    "\n",
    "# --- 3. Create GarageAge Feature ---\n",
    "# Calculate the age of the garage at the time of sale.\n",
    "# This operation will automatically produce NaN values for houses\n",
    "# that do not have a garage (i.e., where 'GarageYrBlt' is NaN).\n",
    "df['GarageAge'] = df['YrSold'] - df['GarageYrBlt']\n",
    "\n"
   ]
  },
  {
   "cell_type": "code",
   "execution_count": 126,
   "id": "b54a04c5",
   "metadata": {},
   "outputs": [
    {
     "name": "stdout",
     "output_type": "stream",
     "text": [
      "Checking for negative values in new features:\n",
      "Negative HouseAge count: 0\n",
      "Negative YearsSinceRemodel count: 1\n",
      "Negative GarageAge count: 0\n"
     ]
    }
   ],
   "source": [
    "# --- Sanity Checks and Verification ---\n",
    "# It's a good practice to check for any negative values, which might indicate a data entry error.\n",
    "# For example, if a house was sold before it was built or remodeled.\n",
    "print(\"Checking for negative values in new features:\")\n",
    "print(f\"Negative HouseAge count: {(df['HouseAge'] < 0).sum()}\")\n",
    "print(f\"Negative YearsSinceRemodel count: {(df['YearsSinceRemodel'] < 0).sum()}\")\n",
    "print(f\"Negative GarageAge count: {(df['GarageAge'] < 0).sum()}\")\n"
   ]
  },
  {
   "cell_type": "markdown",
   "id": "4f5a8f5f",
   "metadata": {},
   "source": [
    "A negative value for YearsSinceRemodel means the YearRemodAdd is a later year than YrSold, which is a data entry error because a house can't be remodeled after it's sold."
   ]
  },
  {
   "cell_type": "code",
   "execution_count": 127,
   "id": "6984b16d",
   "metadata": {},
   "outputs": [
    {
     "name": "stdout",
     "output_type": "stream",
     "text": [
      "\n",
      "Correcting negative YearsSinceRemodel values by setting them to 0.\n"
     ]
    }
   ],
   "source": [
    " #Correcting the negative YearsSinceRemodel value.\n",
    "# This happens when a house is remodeled after it is sold, which is a data error.\n",
    "# We will set these negative values to 0, assuming the remodel year should not\n",
    "# be later than the sale year.\n",
    "if (df['YearsSinceRemodel'] < 0).sum() > 0:\n",
    "    print(\"\\nCorrecting negative YearsSinceRemodel values by setting them to 0.\")\n",
    "    df.loc[df['YearsSinceRemodel'] < 0, 'YearsSinceRemodel'] = 0\n",
    "\n"
   ]
  },
  {
   "cell_type": "code",
   "execution_count": 128,
   "id": "ce6ae987",
   "metadata": {},
   "outputs": [
    {
     "name": "stdout",
     "output_type": "stream",
     "text": [
      "Checking for negative values in new features:\n",
      "Negative HouseAge count: 0\n",
      "Negative YearsSinceRemodel count: 0\n",
      "Negative GarageAge count: 0\n"
     ]
    }
   ],
   "source": [
    "# --- Sanity Checks and Verification ---\n",
    "# It's a good practice to check for any negative values, which might indicate a data entry error.\n",
    "# For example, if a house was sold before it was built or remodeled.\n",
    "print(\"Checking for negative values in new features:\")\n",
    "print(f\"Negative HouseAge count: {(df['HouseAge'] < 0).sum()}\")\n",
    "print(f\"Negative YearsSinceRemodel count: {(df['YearsSinceRemodel'] < 0).sum()}\")\n",
    "print(f\"Negative GarageAge count: {(df['GarageAge'] < 0).sum()}\")\n"
   ]
  },
  {
   "cell_type": "code",
   "execution_count": 129,
   "id": "eea5e908",
   "metadata": {},
   "outputs": [
    {
     "name": "stdout",
     "output_type": "stream",
     "text": [
      "\n",
      "DataFrame with new features:\n",
      "   YearBuilt  YearRemodAdd  YrSold  GarageYrBlt  HouseAge  YearsSinceRemodel  \\\n",
      "0       2003          2003    2008       2003.0         5                  5   \n",
      "1       1976          1976    2007       1976.0        31                 31   \n",
      "2       2001          2002    2008       2001.0         7                  6   \n",
      "3       1915          1970    2006       1998.0        91                 36   \n",
      "4       2000          2000    2008       2000.0         8                  8   \n",
      "\n",
      "   GarageAge  \n",
      "0        5.0  \n",
      "1       31.0  \n",
      "2        7.0  \n",
      "3        8.0  \n",
      "4        8.0  \n"
     ]
    }
   ],
   "source": [
    "# Display the first few rows to show the new columns\n",
    "print(\"\\nDataFrame with new features:\")\n",
    "print(df[['YearBuilt', 'YearRemodAdd', 'YrSold', 'GarageYrBlt',\n",
    "          'HouseAge', 'YearsSinceRemodel', 'GarageAge']].head())"
   ]
  },
  {
   "cell_type": "code",
   "execution_count": 130,
   "id": "c4c75307",
   "metadata": {},
   "outputs": [
    {
     "name": "stdout",
     "output_type": "stream",
     "text": [
      "\n",
      "DataFrame info after adding new features:\n",
      "<class 'pandas.core.frame.DataFrame'>\n",
      "RangeIndex: 1460 entries, 0 to 1459\n",
      "Data columns (total 90 columns):\n",
      " #   Column                 Non-Null Count  Dtype   \n",
      "---  ------                 --------------  -----   \n",
      " 0   Id                     1460 non-null   int64   \n",
      " 1   MSSubClass             1460 non-null   int64   \n",
      " 2   MSZoning               1460 non-null   object  \n",
      " 3   LotFrontage            1460 non-null   float64 \n",
      " 4   LotArea                1460 non-null   int64   \n",
      " 5   Street                 1460 non-null   object  \n",
      " 6   Alley                  1460 non-null   object  \n",
      " 7   LotShape               1460 non-null   object  \n",
      " 8   LandContour            1460 non-null   object  \n",
      " 9   Utilities              1460 non-null   object  \n",
      " 10  LotConfig              1460 non-null   object  \n",
      " 11  LandSlope              1460 non-null   object  \n",
      " 12  Neighborhood           1460 non-null   object  \n",
      " 13  Condition1             1460 non-null   object  \n",
      " 14  Condition2             1460 non-null   object  \n",
      " 15  BldgType               1460 non-null   object  \n",
      " 16  OverallQual            1460 non-null   int64   \n",
      " 17  OverallCond            1460 non-null   int64   \n",
      " 18  YearBuilt              1460 non-null   int64   \n",
      " 19  YearRemodAdd           1460 non-null   int64   \n",
      " 20  RoofStyle              1460 non-null   object  \n",
      " 21  RoofMatl               1460 non-null   object  \n",
      " 22  Exterior1st            1460 non-null   object  \n",
      " 23  Exterior2nd            1460 non-null   object  \n",
      " 24  MasVnrArea             1460 non-null   float64 \n",
      " 25  ExterQual              1460 non-null   object  \n",
      " 26  ExterCond              1460 non-null   object  \n",
      " 27  Foundation             1460 non-null   object  \n",
      " 28  BsmtQual               1460 non-null   object  \n",
      " 29  BsmtCond               1460 non-null   object  \n",
      " 30  BsmtExposure           1460 non-null   object  \n",
      " 31  BsmtFinType1           1460 non-null   object  \n",
      " 32  BsmtFinSF1             1460 non-null   int64   \n",
      " 33  BsmtFinType2           1460 non-null   object  \n",
      " 34  BsmtFinSF2             1460 non-null   int64   \n",
      " 35  BsmtUnfSF              1460 non-null   int64   \n",
      " 36  TotalBsmtSF            1460 non-null   int64   \n",
      " 37  Heating                1460 non-null   object  \n",
      " 38  HeatingQC              1460 non-null   object  \n",
      " 39  CentralAir             1460 non-null   object  \n",
      " 40  Electrical             1460 non-null   object  \n",
      " 41  1stFlrSF               1460 non-null   int64   \n",
      " 42  2ndFlrSF               1460 non-null   int64   \n",
      " 43  LowQualFinSF           1460 non-null   int64   \n",
      " 44  GrLivArea              1460 non-null   int64   \n",
      " 45  BsmtFullBath           1460 non-null   int64   \n",
      " 46  BsmtHalfBath           1460 non-null   int64   \n",
      " 47  FullBath               1460 non-null   int64   \n",
      " 48  HalfBath               1460 non-null   int64   \n",
      " 49  BedroomAbvGr           1460 non-null   int64   \n",
      " 50  KitchenAbvGr           1460 non-null   int64   \n",
      " 51  KitchenQual            1460 non-null   object  \n",
      " 52  TotRmsAbvGrd           1460 non-null   int64   \n",
      " 53  Functional             1460 non-null   object  \n",
      " 54  Fireplaces             1460 non-null   int64   \n",
      " 55  GarageType             1460 non-null   object  \n",
      " 56  GarageYrBlt            1460 non-null   float64 \n",
      " 57  GarageFinish           1460 non-null   object  \n",
      " 58  GarageCars             1460 non-null   int64   \n",
      " 59  GarageArea             1460 non-null   int64   \n",
      " 60  GarageQual             1460 non-null   object  \n",
      " 61  GarageCond             1460 non-null   object  \n",
      " 62  PavedDrive             1460 non-null   object  \n",
      " 63  WoodDeckSF             1460 non-null   int64   \n",
      " 64  OpenPorchSF            1460 non-null   int64   \n",
      " 65  EnclosedPorch          1460 non-null   int64   \n",
      " 66  3SsnPorch              1460 non-null   int64   \n",
      " 67  ScreenPorch            1460 non-null   int64   \n",
      " 68  PoolArea               1460 non-null   int64   \n",
      " 69  MiscVal                1460 non-null   int64   \n",
      " 70  MoSold                 1460 non-null   int64   \n",
      " 71  YrSold                 1460 non-null   int64   \n",
      " 72  SaleType               1460 non-null   object  \n",
      " 73  SalePrice              1460 non-null   int64   \n",
      " 74  YearGroup_encoded      1460 non-null   category\n",
      " 75  HouseStyle_1.5Unf      1460 non-null   bool    \n",
      " 76  HouseStyle_1Story      1460 non-null   bool    \n",
      " 77  HouseStyle_2.5Fin      1460 non-null   bool    \n",
      " 78  HouseStyle_2.5Unf      1460 non-null   bool    \n",
      " 79  HouseStyle_2Story      1460 non-null   bool    \n",
      " 80  HouseStyle_SFoyer      1460 non-null   bool    \n",
      " 81  HouseStyle_SLvl        1460 non-null   bool    \n",
      " 82  SaleCondition_AdjLand  1460 non-null   bool    \n",
      " 83  SaleCondition_Alloca   1460 non-null   bool    \n",
      " 84  SaleCondition_Family   1460 non-null   bool    \n",
      " 85  SaleCondition_Normal   1460 non-null   bool    \n",
      " 86  SaleCondition_Partial  1460 non-null   bool    \n",
      " 87  HouseAge               1460 non-null   int64   \n",
      " 88  YearsSinceRemodel      1460 non-null   int64   \n",
      " 89  GarageAge              1460 non-null   float64 \n",
      "dtypes: bool(12), category(1), float64(4), int64(37), object(36)\n",
      "memory usage: 897.2+ KB\n"
     ]
    }
   ],
   "source": [
    "# Display a summary to confirm the new columns were added\n",
    "print(\"\\nDataFrame info after adding new features:\")\n",
    "df.info(verbose=True, show_counts=True)\n"
   ]
  },
  {
   "cell_type": "code",
   "execution_count": 131,
   "id": "32b247a5",
   "metadata": {},
   "outputs": [
    {
     "data": {
      "text/plain": [
       "MoSold\n",
       "6     253\n",
       "7     234\n",
       "5     204\n",
       "4     141\n",
       "8     122\n",
       "3     106\n",
       "10     89\n",
       "11     79\n",
       "9      63\n",
       "12     59\n",
       "1      58\n",
       "2      52\n",
       "Name: count, dtype: int64"
      ]
     },
     "execution_count": 131,
     "metadata": {},
     "output_type": "execute_result"
    }
   ],
   "source": [
    "df['MoSold'].value_counts(dropna=False)\n"
   ]
  },
  {
   "cell_type": "code",
   "execution_count": 132,
   "id": "b0314dbf",
   "metadata": {},
   "outputs": [],
   "source": [
    "# --- Create the TotalSF Feature ---\n",
    "# This new feature is the sum of the total basement square footage,\n",
    "# the first-floor square footage, and the second-floor square footage.\n",
    "# This provides a comprehensive metric for the total living area of the house.\n",
    "df['TotalSF'] = df['TotalBsmtSF'] + df['1stFlrSF'] + df['2ndFlrSF']\n"
   ]
  },
  {
   "cell_type": "code",
   "execution_count": 133,
   "id": "187312d3",
   "metadata": {},
   "outputs": [
    {
     "name": "stdout",
     "output_type": "stream",
     "text": [
      "First 5 rows showing the new 'TotalSF' column:\n",
      "   TotalBsmtSF  1stFlrSF  2ndFlrSF  TotalSF\n",
      "0          856       856       854     2566\n",
      "1         1262      1262         0     2524\n",
      "2          920       920       866     2706\n",
      "3          756       961       756     2473\n",
      "4         1145      1145      1053     3343\n"
     ]
    }
   ],
   "source": [
    "# --- Verification ---\n",
    "# Print the first few rows of the relevant columns to show the result\n",
    "print(\"First 5 rows showing the new 'TotalSF' column:\")\n",
    "print(df[['TotalBsmtSF', '1stFlrSF', '2ndFlrSF', 'TotalSF']].head())\n"
   ]
  },
  {
   "cell_type": "code",
   "execution_count": 134,
   "id": "12917f74",
   "metadata": {},
   "outputs": [
    {
     "name": "stdout",
     "output_type": "stream",
     "text": [
      "\n",
      "DataFrame info after adding 'TotalSF':\n",
      "<class 'pandas.core.frame.DataFrame'>\n",
      "RangeIndex: 1460 entries, 0 to 1459\n",
      "Data columns (total 91 columns):\n",
      " #   Column                 Non-Null Count  Dtype   \n",
      "---  ------                 --------------  -----   \n",
      " 0   Id                     1460 non-null   int64   \n",
      " 1   MSSubClass             1460 non-null   int64   \n",
      " 2   MSZoning               1460 non-null   object  \n",
      " 3   LotFrontage            1460 non-null   float64 \n",
      " 4   LotArea                1460 non-null   int64   \n",
      " 5   Street                 1460 non-null   object  \n",
      " 6   Alley                  1460 non-null   object  \n",
      " 7   LotShape               1460 non-null   object  \n",
      " 8   LandContour            1460 non-null   object  \n",
      " 9   Utilities              1460 non-null   object  \n",
      " 10  LotConfig              1460 non-null   object  \n",
      " 11  LandSlope              1460 non-null   object  \n",
      " 12  Neighborhood           1460 non-null   object  \n",
      " 13  Condition1             1460 non-null   object  \n",
      " 14  Condition2             1460 non-null   object  \n",
      " 15  BldgType               1460 non-null   object  \n",
      " 16  OverallQual            1460 non-null   int64   \n",
      " 17  OverallCond            1460 non-null   int64   \n",
      " 18  YearBuilt              1460 non-null   int64   \n",
      " 19  YearRemodAdd           1460 non-null   int64   \n",
      " 20  RoofStyle              1460 non-null   object  \n",
      " 21  RoofMatl               1460 non-null   object  \n",
      " 22  Exterior1st            1460 non-null   object  \n",
      " 23  Exterior2nd            1460 non-null   object  \n",
      " 24  MasVnrArea             1460 non-null   float64 \n",
      " 25  ExterQual              1460 non-null   object  \n",
      " 26  ExterCond              1460 non-null   object  \n",
      " 27  Foundation             1460 non-null   object  \n",
      " 28  BsmtQual               1460 non-null   object  \n",
      " 29  BsmtCond               1460 non-null   object  \n",
      " 30  BsmtExposure           1460 non-null   object  \n",
      " 31  BsmtFinType1           1460 non-null   object  \n",
      " 32  BsmtFinSF1             1460 non-null   int64   \n",
      " 33  BsmtFinType2           1460 non-null   object  \n",
      " 34  BsmtFinSF2             1460 non-null   int64   \n",
      " 35  BsmtUnfSF              1460 non-null   int64   \n",
      " 36  TotalBsmtSF            1460 non-null   int64   \n",
      " 37  Heating                1460 non-null   object  \n",
      " 38  HeatingQC              1460 non-null   object  \n",
      " 39  CentralAir             1460 non-null   object  \n",
      " 40  Electrical             1460 non-null   object  \n",
      " 41  1stFlrSF               1460 non-null   int64   \n",
      " 42  2ndFlrSF               1460 non-null   int64   \n",
      " 43  LowQualFinSF           1460 non-null   int64   \n",
      " 44  GrLivArea              1460 non-null   int64   \n",
      " 45  BsmtFullBath           1460 non-null   int64   \n",
      " 46  BsmtHalfBath           1460 non-null   int64   \n",
      " 47  FullBath               1460 non-null   int64   \n",
      " 48  HalfBath               1460 non-null   int64   \n",
      " 49  BedroomAbvGr           1460 non-null   int64   \n",
      " 50  KitchenAbvGr           1460 non-null   int64   \n",
      " 51  KitchenQual            1460 non-null   object  \n",
      " 52  TotRmsAbvGrd           1460 non-null   int64   \n",
      " 53  Functional             1460 non-null   object  \n",
      " 54  Fireplaces             1460 non-null   int64   \n",
      " 55  GarageType             1460 non-null   object  \n",
      " 56  GarageYrBlt            1460 non-null   float64 \n",
      " 57  GarageFinish           1460 non-null   object  \n",
      " 58  GarageCars             1460 non-null   int64   \n",
      " 59  GarageArea             1460 non-null   int64   \n",
      " 60  GarageQual             1460 non-null   object  \n",
      " 61  GarageCond             1460 non-null   object  \n",
      " 62  PavedDrive             1460 non-null   object  \n",
      " 63  WoodDeckSF             1460 non-null   int64   \n",
      " 64  OpenPorchSF            1460 non-null   int64   \n",
      " 65  EnclosedPorch          1460 non-null   int64   \n",
      " 66  3SsnPorch              1460 non-null   int64   \n",
      " 67  ScreenPorch            1460 non-null   int64   \n",
      " 68  PoolArea               1460 non-null   int64   \n",
      " 69  MiscVal                1460 non-null   int64   \n",
      " 70  MoSold                 1460 non-null   int64   \n",
      " 71  YrSold                 1460 non-null   int64   \n",
      " 72  SaleType               1460 non-null   object  \n",
      " 73  SalePrice              1460 non-null   int64   \n",
      " 74  YearGroup_encoded      1460 non-null   category\n",
      " 75  HouseStyle_1.5Unf      1460 non-null   bool    \n",
      " 76  HouseStyle_1Story      1460 non-null   bool    \n",
      " 77  HouseStyle_2.5Fin      1460 non-null   bool    \n",
      " 78  HouseStyle_2.5Unf      1460 non-null   bool    \n",
      " 79  HouseStyle_2Story      1460 non-null   bool    \n",
      " 80  HouseStyle_SFoyer      1460 non-null   bool    \n",
      " 81  HouseStyle_SLvl        1460 non-null   bool    \n",
      " 82  SaleCondition_AdjLand  1460 non-null   bool    \n",
      " 83  SaleCondition_Alloca   1460 non-null   bool    \n",
      " 84  SaleCondition_Family   1460 non-null   bool    \n",
      " 85  SaleCondition_Normal   1460 non-null   bool    \n",
      " 86  SaleCondition_Partial  1460 non-null   bool    \n",
      " 87  HouseAge               1460 non-null   int64   \n",
      " 88  YearsSinceRemodel      1460 non-null   int64   \n",
      " 89  GarageAge              1460 non-null   float64 \n",
      " 90  TotalSF                1460 non-null   int64   \n",
      "dtypes: bool(12), category(1), float64(4), int64(38), object(36)\n",
      "memory usage: 908.6+ KB\n"
     ]
    }
   ],
   "source": [
    "# Print the info to confirm the new column has been added to the DataFrame\n",
    "print(\"\\nDataFrame info after adding 'TotalSF':\")\n",
    "df.info()\n"
   ]
  },
  {
   "cell_type": "code",
   "execution_count": 135,
   "id": "93a23ef3",
   "metadata": {},
   "outputs": [],
   "source": [
    "# --- 1. Create the TotalBathrooms Feature ---\n",
    "# This feature combines full and half baths from the basement and above ground.\n",
    "# Half baths are given a weight of 0.5.\n",
    "df['TotalBathrooms'] = df['FullBath'] + df['BsmtFullBath'] + \\\n",
    "                      (0.5 * df['HalfBath']) + (0.5 * df['BsmtHalfBath'])\n",
    "\n",
    "# --- 2. Create the TotalRooms Feature ---\n",
    "# This new feature is a direct representation of the existing 'TotRmsAbvGrd' column,\n",
    "# which already provides a count of all rooms above ground.\n",
    "df['TotalRooms'] = df['TotRmsAbvGrd']\n"
   ]
  },
  {
   "cell_type": "code",
   "execution_count": 136,
   "id": "6d4ceb5a",
   "metadata": {},
   "outputs": [
    {
     "name": "stdout",
     "output_type": "stream",
     "text": [
      "First 5 rows showing the new 'TotalBathrooms' and 'TotalRooms' columns:\n",
      "   FullBath  BsmtFullBath  HalfBath  BsmtHalfBath  TotalBathrooms  \\\n",
      "0         2             1         1             0             3.5   \n",
      "1         2             0         0             1             2.5   \n",
      "2         2             1         1             0             3.5   \n",
      "3         1             1         0             0             2.0   \n",
      "4         2             1         1             0             3.5   \n",
      "\n",
      "   TotRmsAbvGrd  TotalRooms  \n",
      "0             8           8  \n",
      "1             6           6  \n",
      "2             6           6  \n",
      "3             7           7  \n",
      "4             9           9  \n"
     ]
    }
   ],
   "source": [
    "# --- Verification ---\n",
    "# Print the first few rows of the relevant columns to show the results\n",
    "print(\"First 5 rows showing the new 'TotalBathrooms' and 'TotalRooms' columns:\")\n",
    "print(df[['FullBath', 'BsmtFullBath', 'HalfBath', 'BsmtHalfBath', 'TotalBathrooms',\n",
    "          'TotRmsAbvGrd', 'TotalRooms']].head())\n"
   ]
  },
  {
   "cell_type": "code",
   "execution_count": 137,
   "id": "912bdeb1",
   "metadata": {},
   "outputs": [],
   "source": [
    "# --- Create the QualxLiving Feature ---\n",
    "# This new feature is the product of OverallQual and GrLivArea.\n",
    "# It represents a quality-adjusted living area, which can be a very\n",
    "# powerful predictor for house prices.\n",
    "df['QualxLiving'] = df['OverallQual'] * df['GrLivArea']\n"
   ]
  },
  {
   "cell_type": "code",
   "execution_count": 138,
   "id": "e198f6b9",
   "metadata": {},
   "outputs": [
    {
     "name": "stdout",
     "output_type": "stream",
     "text": [
      "First 5 rows showing the new 'QualxLiving' column:\n",
      "   OverallQual  GrLivArea  QualxLiving\n",
      "0            7       1710        11970\n",
      "1            6       1262         7572\n",
      "2            7       1786        12502\n",
      "3            7       1717        12019\n",
      "4            8       2198        17584\n"
     ]
    }
   ],
   "source": [
    "# --- Verification ---\n",
    "# Print the first few rows of the relevant columns to show the result\n",
    "print(\"First 5 rows showing the new 'QualxLiving' column:\")\n",
    "print(df[['OverallQual', 'GrLivArea', 'QualxLiving']].head())\n"
   ]
  },
  {
   "cell_type": "code",
   "execution_count": 139,
   "id": "0cc48fbe",
   "metadata": {},
   "outputs": [
    {
     "name": "stdout",
     "output_type": "stream",
     "text": [
      "\n",
      "DataFrame info after adding 'QualxLiving':\n",
      "<class 'pandas.core.frame.DataFrame'>\n",
      "RangeIndex: 1460 entries, 0 to 1459\n",
      "Data columns (total 94 columns):\n",
      " #   Column                 Non-Null Count  Dtype   \n",
      "---  ------                 --------------  -----   \n",
      " 0   Id                     1460 non-null   int64   \n",
      " 1   MSSubClass             1460 non-null   int64   \n",
      " 2   MSZoning               1460 non-null   object  \n",
      " 3   LotFrontage            1460 non-null   float64 \n",
      " 4   LotArea                1460 non-null   int64   \n",
      " 5   Street                 1460 non-null   object  \n",
      " 6   Alley                  1460 non-null   object  \n",
      " 7   LotShape               1460 non-null   object  \n",
      " 8   LandContour            1460 non-null   object  \n",
      " 9   Utilities              1460 non-null   object  \n",
      " 10  LotConfig              1460 non-null   object  \n",
      " 11  LandSlope              1460 non-null   object  \n",
      " 12  Neighborhood           1460 non-null   object  \n",
      " 13  Condition1             1460 non-null   object  \n",
      " 14  Condition2             1460 non-null   object  \n",
      " 15  BldgType               1460 non-null   object  \n",
      " 16  OverallQual            1460 non-null   int64   \n",
      " 17  OverallCond            1460 non-null   int64   \n",
      " 18  YearBuilt              1460 non-null   int64   \n",
      " 19  YearRemodAdd           1460 non-null   int64   \n",
      " 20  RoofStyle              1460 non-null   object  \n",
      " 21  RoofMatl               1460 non-null   object  \n",
      " 22  Exterior1st            1460 non-null   object  \n",
      " 23  Exterior2nd            1460 non-null   object  \n",
      " 24  MasVnrArea             1460 non-null   float64 \n",
      " 25  ExterQual              1460 non-null   object  \n",
      " 26  ExterCond              1460 non-null   object  \n",
      " 27  Foundation             1460 non-null   object  \n",
      " 28  BsmtQual               1460 non-null   object  \n",
      " 29  BsmtCond               1460 non-null   object  \n",
      " 30  BsmtExposure           1460 non-null   object  \n",
      " 31  BsmtFinType1           1460 non-null   object  \n",
      " 32  BsmtFinSF1             1460 non-null   int64   \n",
      " 33  BsmtFinType2           1460 non-null   object  \n",
      " 34  BsmtFinSF2             1460 non-null   int64   \n",
      " 35  BsmtUnfSF              1460 non-null   int64   \n",
      " 36  TotalBsmtSF            1460 non-null   int64   \n",
      " 37  Heating                1460 non-null   object  \n",
      " 38  HeatingQC              1460 non-null   object  \n",
      " 39  CentralAir             1460 non-null   object  \n",
      " 40  Electrical             1460 non-null   object  \n",
      " 41  1stFlrSF               1460 non-null   int64   \n",
      " 42  2ndFlrSF               1460 non-null   int64   \n",
      " 43  LowQualFinSF           1460 non-null   int64   \n",
      " 44  GrLivArea              1460 non-null   int64   \n",
      " 45  BsmtFullBath           1460 non-null   int64   \n",
      " 46  BsmtHalfBath           1460 non-null   int64   \n",
      " 47  FullBath               1460 non-null   int64   \n",
      " 48  HalfBath               1460 non-null   int64   \n",
      " 49  BedroomAbvGr           1460 non-null   int64   \n",
      " 50  KitchenAbvGr           1460 non-null   int64   \n",
      " 51  KitchenQual            1460 non-null   object  \n",
      " 52  TotRmsAbvGrd           1460 non-null   int64   \n",
      " 53  Functional             1460 non-null   object  \n",
      " 54  Fireplaces             1460 non-null   int64   \n",
      " 55  GarageType             1460 non-null   object  \n",
      " 56  GarageYrBlt            1460 non-null   float64 \n",
      " 57  GarageFinish           1460 non-null   object  \n",
      " 58  GarageCars             1460 non-null   int64   \n",
      " 59  GarageArea             1460 non-null   int64   \n",
      " 60  GarageQual             1460 non-null   object  \n",
      " 61  GarageCond             1460 non-null   object  \n",
      " 62  PavedDrive             1460 non-null   object  \n",
      " 63  WoodDeckSF             1460 non-null   int64   \n",
      " 64  OpenPorchSF            1460 non-null   int64   \n",
      " 65  EnclosedPorch          1460 non-null   int64   \n",
      " 66  3SsnPorch              1460 non-null   int64   \n",
      " 67  ScreenPorch            1460 non-null   int64   \n",
      " 68  PoolArea               1460 non-null   int64   \n",
      " 69  MiscVal                1460 non-null   int64   \n",
      " 70  MoSold                 1460 non-null   int64   \n",
      " 71  YrSold                 1460 non-null   int64   \n",
      " 72  SaleType               1460 non-null   object  \n",
      " 73  SalePrice              1460 non-null   int64   \n",
      " 74  YearGroup_encoded      1460 non-null   category\n",
      " 75  HouseStyle_1.5Unf      1460 non-null   bool    \n",
      " 76  HouseStyle_1Story      1460 non-null   bool    \n",
      " 77  HouseStyle_2.5Fin      1460 non-null   bool    \n",
      " 78  HouseStyle_2.5Unf      1460 non-null   bool    \n",
      " 79  HouseStyle_2Story      1460 non-null   bool    \n",
      " 80  HouseStyle_SFoyer      1460 non-null   bool    \n",
      " 81  HouseStyle_SLvl        1460 non-null   bool    \n",
      " 82  SaleCondition_AdjLand  1460 non-null   bool    \n",
      " 83  SaleCondition_Alloca   1460 non-null   bool    \n",
      " 84  SaleCondition_Family   1460 non-null   bool    \n",
      " 85  SaleCondition_Normal   1460 non-null   bool    \n",
      " 86  SaleCondition_Partial  1460 non-null   bool    \n",
      " 87  HouseAge               1460 non-null   int64   \n",
      " 88  YearsSinceRemodel      1460 non-null   int64   \n",
      " 89  GarageAge              1460 non-null   float64 \n",
      " 90  TotalSF                1460 non-null   int64   \n",
      " 91  TotalBathrooms         1460 non-null   float64 \n",
      " 92  TotalRooms             1460 non-null   int64   \n",
      " 93  QualxLiving            1460 non-null   int64   \n",
      "dtypes: bool(12), category(1), float64(5), int64(40), object(36)\n",
      "memory usage: 942.8+ KB\n"
     ]
    }
   ],
   "source": [
    "\n",
    "# Print the info to confirm the new column has been added to the DataFrame\n",
    "print(\"\\nDataFrame info after adding 'QualxLiving':\")\n",
    "df.info()"
   ]
  },
  {
   "cell_type": "markdown",
   "id": "ac0bcff0",
   "metadata": {},
   "source": [
    "## 📏 4. Scaling (Optional for Tree Models, Needed for Linear)"
   ]
  },
  {
   "cell_type": "markdown",
   "id": "de328362",
   "metadata": {},
   "source": [
    "house price prediction project, **definitely need to perform feature scaling**. This is a crucial preprocessing step for nearly all supervised machine learning models.\n",
    "\n",
    "***\n",
    "\n",
    "### Why Scaling Is Important 📈\n",
    "\n",
    "Many machine learning algorithms calculate the distance between data points, or rely on features having a similar scale. Your dataset contains features with wildly different ranges and units. For example, `LotArea` might have values in the thousands, while `OverallQual` is a single-digit integer.\n",
    "\n",
    "Without scaling, features with larger magnitudes will have a disproportionately large influence on the model's cost function, causing the algorithm to prioritize them over features with smaller values. This can lead to a less accurate and less stable model.\n",
    "\n",
    "Scaling ensures that all features contribute equally to the model's training process. \n",
    "\n",
    "***\n",
    "\n",
    "### Which Columns to Scale\n",
    "\n",
    "You should scale all of your **numerical features** that are not binary (i.e., not 0s and 1s). Do **not** scale your one-hot encoded columns or any unique identifiers like `Id`.\n",
    "\n",
    "Based on your columns, here are the ones you should consider for scaling:\n",
    "\n",
    "* **Original Numerical Features:**\n",
    "    `LotFrontage`, `LotArea`, `MasVnrArea`, `BsmtFinSF1`, `BsmtFinSF2`, `BsmtUnfSF`, `TotalBsmtSF`, `1stFlrSF`, `2ndFlrSF`, `LowQualFinSF`, `GrLivArea`, `GarageArea`, `WoodDeckSF`, `OpenPorchSF`, `EnclosedPorch`, `3SsnPorch`, `ScreenPorch`, `PoolArea`, `MiscVal`.\n",
    "\n",
    "* **Engineered Numerical Features:**\n",
    "    `HouseAge`, `YearsSinceRemodel`, `GarageAge`, `TotalSF`, `TotalBathrooms`, `QualxLiving`.\n",
    "\n",
    "It's also a good practice to scale your target variable, **`SalePrice`**, especially if you're using models like linear regression or neural networks. You can always inverse the transformation later to get the actual predicted price.\n",
    "\n",
    "### Common Scaling Methods\n",
    "\n",
    "Two of the most common methods you can use are:\n",
    "\n",
    "1.  **StandardScaler**: This method transforms your data to have a mean of 0 and a standard deviation of 1 (also known as Z-score normalization). It's a great default choice for many algorithms.\n",
    "\n",
    "2.  **MinMaxScaler**: This method scales your data to a fixed range, typically between 0 and 1. It is often preferred when you need to maintain the original data distribution and the data is not normally distributed."
   ]
  },
  {
   "cell_type": "code",
   "execution_count": 140,
   "id": "aeaf76c7",
   "metadata": {},
   "outputs": [],
   "source": [
    "from sklearn.preprocessing import StandardScaler\n"
   ]
  },
  {
   "cell_type": "code",
   "execution_count": 141,
   "id": "10b19155",
   "metadata": {},
   "outputs": [],
   "source": [
    "# List of numerical columns to be scaled\n",
    "columns_to_scale = [\n",
    "    'LotFrontage', 'LotArea', 'MasVnrArea', 'BsmtFinSF1', 'BsmtFinSF2',\n",
    "    'BsmtUnfSF', 'TotalBsmtSF', '1stFlrSF', '2ndFlrSF', 'LowQualFinSF',\n",
    "    'GrLivArea', 'GarageArea', 'WoodDeckSF', 'OpenPorchSF', 'EnclosedPorch',\n",
    "    '3SsnPorch', 'ScreenPorch', 'PoolArea', 'MiscVal'\n",
    "]\n",
    "\n",
    "# Create a StandardScaler instance\n",
    "scaler = StandardScaler()\n",
    "\n",
    "# Fit the scaler to the data and transform the selected columns\n",
    "# The transformed data is a NumPy array, so we need to convert it back to a DataFrame\n",
    "# and assign it back to the original columns.\n",
    "df[columns_to_scale] = scaler.fit_transform(df[columns_to_scale])\n"
   ]
  },
  {
   "cell_type": "code",
   "execution_count": 142,
   "id": "d459a330",
   "metadata": {},
   "outputs": [
    {
     "name": "stdout",
     "output_type": "stream",
     "text": [
      "First 5 rows of the scaled features:\n",
      "   LotFrontage   LotArea  MasVnrArea  BsmtFinSF1  BsmtFinSF2  BsmtUnfSF  \\\n",
      "0    -0.220875 -0.207142    0.514104    0.575425   -0.288653  -0.944591   \n",
      "1     0.460320 -0.091886   -0.570750    1.171992   -0.288653  -0.641228   \n",
      "2    -0.084636  0.073480    0.325915    0.092907   -0.288653  -0.301643   \n",
      "3    -0.447940 -0.096897   -0.570750   -0.499274   -0.288653  -0.061670   \n",
      "4     0.641972  0.375148    1.366489    0.463568   -0.288653  -0.174865   \n",
      "\n",
      "   TotalBsmtSF  1stFlrSF  2ndFlrSF  LowQualFinSF  GrLivArea  GarageArea  \\\n",
      "0    -0.459303 -0.793434  1.161852     -0.120242   0.370333    0.351000   \n",
      "1     0.466465  0.257140 -0.795163     -0.120242  -0.482512   -0.060731   \n",
      "2    -0.313369 -0.627826  1.189351     -0.120242   0.515013    0.631726   \n",
      "3    -0.687324 -0.521734  0.937276     -0.120242   0.383659    0.790804   \n",
      "4     0.199680 -0.045611  1.617877     -0.120242   1.299326    1.698485   \n",
      "\n",
      "   WoodDeckSF  OpenPorchSF  EnclosedPorch  3SsnPorch  ScreenPorch  PoolArea  \\\n",
      "0   -0.752176     0.216503      -0.359325  -0.116339    -0.270208 -0.068692   \n",
      "1    1.626195    -0.704483      -0.359325  -0.116339    -0.270208 -0.068692   \n",
      "2   -0.752176    -0.070361      -0.359325  -0.116339    -0.270208 -0.068692   \n",
      "3   -0.752176    -0.176048       4.092524  -0.116339    -0.270208 -0.068692   \n",
      "4    0.780197     0.563760      -0.359325  -0.116339    -0.270208 -0.068692   \n",
      "\n",
      "    MiscVal  \n",
      "0 -0.087688  \n",
      "1 -0.087688  \n",
      "2 -0.087688  \n",
      "3 -0.087688  \n",
      "4 -0.087688  \n",
      "\n",
      "Mean of scaled features:\n",
      "LotFrontage      2.798370e-16\n",
      "LotArea         -5.840077e-17\n",
      "MasVnrArea      -3.893385e-17\n",
      "BsmtFinSF1      -2.433366e-17\n",
      "BsmtFinSF2      -3.406712e-17\n",
      "BsmtUnfSF       -6.600504e-17\n",
      "TotalBsmtSF      2.457699e-16\n",
      "1stFlrSF         6.509253e-17\n",
      "2ndFlrSF        -1.825024e-17\n",
      "LowQualFinSF     1.216683e-17\n",
      "GrLivArea       -1.277517e-16\n",
      "GarageArea      -1.216683e-17\n",
      "WoodDeckSF       5.596741e-17\n",
      "OpenPorchSF      3.041707e-17\n",
      "EnclosedPorch   -2.311697e-17\n",
      "3SsnPorch        4.866731e-18\n",
      "ScreenPorch      5.475072e-17\n",
      "PoolArea         1.946692e-17\n",
      "MiscVal         -2.676702e-17\n",
      "dtype: float64\n"
     ]
    }
   ],
   "source": [
    "# --- Verification ---\n",
    "# Print the first few rows of the scaled columns to show the result\n",
    "print(\"First 5 rows of the scaled features:\")\n",
    "print(df[columns_to_scale].head())\n",
    "\n",
    "# It's a good practice to verify that the mean is now close to 0 and the standard deviation is close to 1\n",
    "print(\"\\nMean of scaled features:\")\n",
    "print(df[columns_to_scale].mean())\n"
   ]
  },
  {
   "cell_type": "code",
   "execution_count": 143,
   "id": "af247cd3",
   "metadata": {},
   "outputs": [
    {
     "name": "stdout",
     "output_type": "stream",
     "text": [
      "\n",
      "Standard deviation of scaled features:\n",
      "LotFrontage      1.000343\n",
      "LotArea          1.000343\n",
      "MasVnrArea       1.000343\n",
      "BsmtFinSF1       1.000343\n",
      "BsmtFinSF2       1.000343\n",
      "BsmtUnfSF        1.000343\n",
      "TotalBsmtSF      1.000343\n",
      "1stFlrSF         1.000343\n",
      "2ndFlrSF         1.000343\n",
      "LowQualFinSF     1.000343\n",
      "GrLivArea        1.000343\n",
      "GarageArea       1.000343\n",
      "WoodDeckSF       1.000343\n",
      "OpenPorchSF      1.000343\n",
      "EnclosedPorch    1.000343\n",
      "3SsnPorch        1.000343\n",
      "ScreenPorch      1.000343\n",
      "PoolArea         1.000343\n",
      "MiscVal          1.000343\n",
      "dtype: float64\n"
     ]
    }
   ],
   "source": [
    "print(\"\\nStandard deviation of scaled features:\")\n",
    "print(df[columns_to_scale].std())"
   ]
  },
  {
   "cell_type": "markdown",
   "id": "a3fabb5e",
   "metadata": {},
   "source": [
    "## 5. Train-Test Split"
   ]
  },
  {
   "cell_type": "code",
   "execution_count": null,
   "id": "548b805d",
   "metadata": {},
   "outputs": [],
   "source": [
    "    "
   ]
  },
  {
   "cell_type": "code",
   "execution_count": 156,
   "id": "84ebe813",
   "metadata": {},
   "outputs": [
    {
     "name": "stdout",
     "output_type": "stream",
     "text": [
      "<class 'pandas.core.frame.DataFrame'>\n",
      "RangeIndex: 1460 entries, 0 to 1459\n",
      "Data columns (total 94 columns):\n",
      " #   Column                 Non-Null Count  Dtype   \n",
      "---  ------                 --------------  -----   \n",
      " 0   Id                     1460 non-null   int64   \n",
      " 1   MSSubClass             1460 non-null   int64   \n",
      " 2   MSZoning               1460 non-null   object  \n",
      " 3   LotFrontage            1460 non-null   float64 \n",
      " 4   LotArea                1460 non-null   float64 \n",
      " 5   Street                 1460 non-null   object  \n",
      " 6   Alley                  1460 non-null   object  \n",
      " 7   LotShape               1460 non-null   object  \n",
      " 8   LandContour            1460 non-null   object  \n",
      " 9   Utilities              1460 non-null   object  \n",
      " 10  LotConfig              1460 non-null   object  \n",
      " 11  LandSlope              1460 non-null   object  \n",
      " 12  Neighborhood           1460 non-null   object  \n",
      " 13  Condition1             1460 non-null   object  \n",
      " 14  Condition2             1460 non-null   object  \n",
      " 15  BldgType               1460 non-null   object  \n",
      " 16  OverallQual            1460 non-null   int64   \n",
      " 17  OverallCond            1460 non-null   int64   \n",
      " 18  YearBuilt              1460 non-null   int64   \n",
      " 19  YearRemodAdd           1460 non-null   int64   \n",
      " 20  RoofStyle              1460 non-null   object  \n",
      " 21  RoofMatl               1460 non-null   object  \n",
      " 22  Exterior1st            1460 non-null   object  \n",
      " 23  Exterior2nd            1460 non-null   object  \n",
      " 24  MasVnrArea             1460 non-null   float64 \n",
      " 25  ExterQual              1460 non-null   object  \n",
      " 26  ExterCond              1460 non-null   object  \n",
      " 27  Foundation             1460 non-null   object  \n",
      " 28  BsmtQual               1460 non-null   object  \n",
      " 29  BsmtCond               1460 non-null   object  \n",
      " 30  BsmtExposure           1460 non-null   object  \n",
      " 31  BsmtFinType1           1460 non-null   object  \n",
      " 32  BsmtFinSF1             1460 non-null   float64 \n",
      " 33  BsmtFinType2           1460 non-null   object  \n",
      " 34  BsmtFinSF2             1460 non-null   float64 \n",
      " 35  BsmtUnfSF              1460 non-null   float64 \n",
      " 36  TotalBsmtSF            1460 non-null   float64 \n",
      " 37  Heating                1460 non-null   object  \n",
      " 38  HeatingQC              1460 non-null   object  \n",
      " 39  CentralAir             1460 non-null   object  \n",
      " 40  Electrical             1460 non-null   object  \n",
      " 41  1stFlrSF               1460 non-null   float64 \n",
      " 42  2ndFlrSF               1460 non-null   float64 \n",
      " 43  LowQualFinSF           1460 non-null   float64 \n",
      " 44  GrLivArea              1460 non-null   float64 \n",
      " 45  BsmtFullBath           1460 non-null   int64   \n",
      " 46  BsmtHalfBath           1460 non-null   int64   \n",
      " 47  FullBath               1460 non-null   int64   \n",
      " 48  HalfBath               1460 non-null   int64   \n",
      " 49  BedroomAbvGr           1460 non-null   int64   \n",
      " 50  KitchenAbvGr           1460 non-null   int64   \n",
      " 51  KitchenQual            1460 non-null   object  \n",
      " 52  TotRmsAbvGrd           1460 non-null   int64   \n",
      " 53  Functional             1460 non-null   object  \n",
      " 54  Fireplaces             1460 non-null   int64   \n",
      " 55  GarageType             1460 non-null   object  \n",
      " 56  GarageYrBlt            1460 non-null   float64 \n",
      " 57  GarageFinish           1460 non-null   object  \n",
      " 58  GarageCars             1460 non-null   int64   \n",
      " 59  GarageArea             1460 non-null   float64 \n",
      " 60  GarageQual             1460 non-null   object  \n",
      " 61  GarageCond             1460 non-null   object  \n",
      " 62  PavedDrive             1460 non-null   object  \n",
      " 63  WoodDeckSF             1460 non-null   float64 \n",
      " 64  OpenPorchSF            1460 non-null   float64 \n",
      " 65  EnclosedPorch          1460 non-null   float64 \n",
      " 66  3SsnPorch              1460 non-null   float64 \n",
      " 67  ScreenPorch            1460 non-null   float64 \n",
      " 68  PoolArea               1460 non-null   float64 \n",
      " 69  MiscVal                1460 non-null   float64 \n",
      " 70  MoSold                 1460 non-null   int64   \n",
      " 71  YrSold                 1460 non-null   int64   \n",
      " 72  SaleType               1460 non-null   object  \n",
      " 73  SalePrice              1460 non-null   int64   \n",
      " 74  YearGroup_encoded      1460 non-null   category\n",
      " 75  HouseStyle_1.5Unf      1460 non-null   bool    \n",
      " 76  HouseStyle_1Story      1460 non-null   bool    \n",
      " 77  HouseStyle_2.5Fin      1460 non-null   bool    \n",
      " 78  HouseStyle_2.5Unf      1460 non-null   bool    \n",
      " 79  HouseStyle_2Story      1460 non-null   bool    \n",
      " 80  HouseStyle_SFoyer      1460 non-null   bool    \n",
      " 81  HouseStyle_SLvl        1460 non-null   bool    \n",
      " 82  SaleCondition_AdjLand  1460 non-null   bool    \n",
      " 83  SaleCondition_Alloca   1460 non-null   bool    \n",
      " 84  SaleCondition_Family   1460 non-null   bool    \n",
      " 85  SaleCondition_Normal   1460 non-null   bool    \n",
      " 86  SaleCondition_Partial  1460 non-null   bool    \n",
      " 87  HouseAge               1460 non-null   int64   \n",
      " 88  YearsSinceRemodel      1460 non-null   int64   \n",
      " 89  GarageAge              1460 non-null   float64 \n",
      " 90  TotalSF                1460 non-null   int64   \n",
      " 91  TotalBathrooms         1460 non-null   float64 \n",
      " 92  TotalRooms             1460 non-null   int64   \n",
      " 93  QualxLiving            1460 non-null   int64   \n",
      "dtypes: bool(12), category(1), float64(22), int64(23), object(36)\n",
      "memory usage: 942.8+ KB\n"
     ]
    }
   ],
   "source": [
    "df.info()\n"
   ]
  },
  {
   "cell_type": "code",
   "execution_count": 144,
   "id": "52b100c4",
   "metadata": {},
   "outputs": [],
   "source": [
    "from sklearn.model_selection import train_test_split"
   ]
  },
  {
   "cell_type": "code",
   "execution_count": 189,
   "id": "6c8ac7c8",
   "metadata": {},
   "outputs": [],
   "source": [
    "# Step 1: Separate features (X) and target (y)\n",
    "# Drop the 'SalePrice' column from your features\n",
    "# It's also a good practice to drop the 'Id' column, as it's not a feature\n",
    "\n",
    "\n",
    "# X = df.drop(['SalePrice', 'Id'], axis=1)\n",
    "# y = df['SalePrice']\n",
    "\n",
    "\n",
    "# Step 1: Separate features (X) and target (y)\n",
    "# Drop the 'SalePrice' column from your features\n",
    "# It's also a good practice to drop the 'Id' column, as it's not a feature\n",
    "selected_features = [\n",
    "    'OverallQual', 'GrLivArea', 'GarageCars',\n",
    "    'TotalBathrooms', 'TotalSF',\n",
    "    'HouseAge', 'GarageAge', 'YearsSinceRemodel'\n",
    "]\n",
    "X = df[selected_features]\n",
    "y = df['SalePrice']"
   ]
  },
  {
   "cell_type": "code",
   "execution_count": null,
   "id": "30bfc03c",
   "metadata": {},
   "outputs": [],
   "source": []
  },
  {
   "cell_type": "code",
   "execution_count": 190,
   "id": "ee9438fe",
   "metadata": {},
   "outputs": [
    {
     "name": "stdout",
     "output_type": "stream",
     "text": [
      "Shape of X_train: (1168, 8)\n",
      "Shape of X_test: (292, 8)\n",
      "Shape of y_train: (1168,)\n",
      "Shape of y_test: (292,)\n"
     ]
    }
   ],
   "source": [
    "# Step 2: Split the data into training and testing sets\n",
    "# We'll use 80% for training and 20% for testing, which is a common split.\n",
    "# random_state ensures that the split is the same every time you run the code.\n",
    "X_train, X_test, y_train, y_test = train_test_split(X, y, test_size=0.2, random_state=42)\n",
    "\n",
    "# Print the shapes of the new datasets to verify the split\n",
    "print(\"Shape of X_train:\", X_train.shape)\n",
    "print(\"Shape of X_test:\", X_test.shape)\n",
    "print(\"Shape of y_train:\", y_train.shape)\n",
    "print(\"Shape of y_test:\", y_test.shape)"
   ]
  },
  {
   "cell_type": "markdown",
   "id": "f6a7ec87",
   "metadata": {},
   "source": [
    "# 4: Model Selection & Training"
   ]
  },
  {
   "cell_type": "markdown",
   "id": "7c57bdbb",
   "metadata": {},
   "source": [
    "✅ Try different models\n",
    "\n",
    "✅ Evaluate with metrics (RMSE, R²)\n",
    "\n",
    "✅ Compare results\n",
    "\n",
    "✅ Choose best model for tuning"
   ]
  },
  {
   "cell_type": "markdown",
   "id": "60029a34",
   "metadata": {},
   "source": [
    "🧠 Models to Try\n",
    "\n",
    "| Model             | Good For                    | Library                |\n",
    "| ----------------- | --------------------------- | ---------------------- |\n",
    "| Linear Regression | Baseline, easy to interpret | `sklearn.linear_model` |\n",
    "| Ridge / Lasso     | Handles multicollinearity   | `sklearn.linear_model` |\n",
    "| Decision Tree     | Captures non-linearity      | `sklearn.tree`         |\n",
    "| Random Forest     | Robust, non-linear, strong  | `sklearn.ensemble`     |\n",
    "| Gradient Boosting | High accuracy               | `sklearn.ensemble`     |\n"
   ]
  },
  {
   "cell_type": "markdown",
   "id": "a5fd1ae3",
   "metadata": {},
   "source": [
    "### Lowest RMSE and Highest R²\n",
    "\n",
    "**Lowest RMSE** and **highest R²** are the goals for evaluating a regression model's performance.\n",
    "\n",
    "* A **low RMSE** means the model's predictions are, on average, very **close to the actual values**. It's a measure of prediction accuracy.\n",
    "* A **high R²** means the model **explains a large portion of the variance** in the target variable. It's a measure of how well the model fits the overall data.\n",
    "\n",
    "***\n",
    "\n",
    "### RMSE (Root Mean Squared Error)\n",
    "\n",
    "RMSE is the square root of the average of the squared differences between the predicted values and the actual values.\n",
    "\n",
    "* **Lowest RMSE:** A lower RMSE indicates that the model's predictions are consistently close to the true values, meaning it's highly accurate.\n",
    "* **Why It's Necessary:** RMSE is essential because it gives you a single, interpretable metric for prediction error in the same units as your target variable (in your case, dollars). Squaring the errors before averaging them penalizes large errors more heavily, which is often desirable. This makes it a great way to compare different models and ensure your model isn't making any catastrophically wrong predictions.\n",
    "\n",
    "***\n",
    "\n",
    "### R² (R-squared) Score\n",
    "\n",
    "The R² score, also known as the coefficient of determination, is a statistical measure that represents the proportion of the variance for a dependent variable that's explained by a model.\n",
    "\n",
    "* **Highest R²:** An R² value of 1 means the model perfectly explains all the variance in the target variable. A higher R² value (e.g., 0.95) means the model is a better fit for the data than a lower value (e.g., 0.50).\n",
    "* **Why It's Necessary:** R² provides context for your RMSE. A low RMSE might be misleading if the target variable's values are all very similar. R² tells you how much of the \"story\" of the data's variability is being told by your model. It helps you understand if your model is genuinely learning the relationships in the data or if it's just making decent guesses.\n",
    "\n",
    "***\n",
    "\n",
    "### The Importance of Both\n",
    "\n",
    "Both metrics are crucial and complementary.\n",
    "\n",
    "* You need a **low RMSE** to ensure your model's predictions are accurate and reliable.\n",
    "* You need a **high R²** to be confident that the model is actually learning the underlying patterns and not just overfitting or making random, low-error predictions.\n",
    "\n",
    "These metrics are required in model development because they are the **objective benchmarks** that guide your work. Without them, you would have no way of knowing if your model is improving, which of your models is the best, or if your hard work on feature engineering is actually paying off."
   ]
  },
  {
   "cell_type": "code",
   "execution_count": 191,
   "id": "2e4c6e4f",
   "metadata": {},
   "outputs": [],
   "source": [
    "# importing everything \n",
    "from sklearn.linear_model import LinearRegression, Ridge, Lasso\n",
    "from sklearn.tree import DecisionTreeRegressor\n",
    "from sklearn.ensemble import RandomForestRegressor, GradientBoostingRegressor\n",
    "\n",
    "from sklearn.metrics import mean_squared_error, r2_score\n",
    "import numpy as np\n"
   ]
  },
  {
   "cell_type": "code",
   "execution_count": 192,
   "id": "b60156c0",
   "metadata": {},
   "outputs": [],
   "source": [
    "# --- 1. Define the models to be tested ---\n",
    "# A dictionary makes it easy to iterate through each model.\n",
    "models = {\n",
    "    \"Linear Regression\": LinearRegression(),\n",
    "    \"Ridge Regression\": Ridge(),\n",
    "    \"Lasso Regression\": Lasso(),\n",
    "    \"Decision Tree\": DecisionTreeRegressor(random_state=42),\n",
    "    \"Random Forest\": RandomForestRegressor(random_state=42),\n",
    "    \"Gradient Boosting\": GradientBoostingRegressor(random_state=42)\n",
    "}"
   ]
  },
  {
   "cell_type": "code",
   "execution_count": 193,
   "id": "7de1d3cc",
   "metadata": {},
   "outputs": [],
   "source": [
    "results = []"
   ]
  },
  {
   "cell_type": "code",
   "execution_count": 194,
   "id": "32b958de",
   "metadata": {},
   "outputs": [
    {
     "name": "stdout",
     "output_type": "stream",
     "text": [
      "--- Training Linear Regression ---\n",
      "Model: Linear Regression\n",
      "RMSE: 39517.7196\n",
      "R² Score: 0.7964\n",
      "\n",
      "----------\n",
      "--- Training Ridge Regression ---\n",
      "Model: Ridge Regression\n",
      "RMSE: 39514.7233\n",
      "R² Score: 0.7964\n",
      "\n",
      "----------\n",
      "--- Training Lasso Regression ---\n",
      "Model: Lasso Regression\n",
      "RMSE: 39517.4126\n",
      "R² Score: 0.7964\n",
      "\n",
      "----------\n",
      "--- Training Decision Tree ---\n",
      "Model: Decision Tree\n",
      "RMSE: 38483.1144\n",
      "R² Score: 0.8069\n",
      "\n",
      "----------\n",
      "--- Training Random Forest ---\n",
      "Model: Random Forest\n",
      "RMSE: 30660.9663\n",
      "R² Score: 0.8774\n",
      "\n",
      "----------\n",
      "--- Training Gradient Boosting ---\n",
      "Model: Gradient Boosting\n",
      "RMSE: 27328.4155\n",
      "R² Score: 0.9026\n",
      "\n",
      "----------\n"
     ]
    }
   ],
   "source": [
    "\n",
    "\n",
    "# --- 2. Train and evaluate each model ---\n",
    "# Loop through the dictionary of models\n",
    "for name, model in models.items():\n",
    "    print(f\"--- Training {name} ---\")\n",
    "\n",
    "    # Fit the model on the training data\n",
    "    model.fit(X_train, y_train)\n",
    "\n",
    "    # Make predictions on the test data\n",
    "    y_pred = model.predict(X_test)\n",
    "\n",
    "    # --- 3. Calculate and print performance metrics ---\n",
    "    # Calculate Root Mean Squared Error (RMSE)\n",
    "    rmse = np.sqrt(mean_squared_error(y_test, y_pred))\n",
    "\n",
    "    # Calculate R-squared (R²) score\n",
    "    r2 = r2_score(y_test, y_pred)\n",
    "\n",
    "    results.append((name, rmse, r2))\n",
    "\n",
    "    print(f\"Model: {name}\")\n",
    "    print(f\"RMSE: {rmse:.4f}\")\n",
    "    print(f\"R² Score: {r2:.4f}\\n\")\n",
    "    print(\"-\" * 10)\n"
   ]
  },
  {
   "cell_type": "markdown",
   "id": "974c2a17",
   "metadata": {},
   "source": [
    "📊 4. Compare Results"
   ]
  },
  {
   "cell_type": "code",
   "execution_count": 195,
   "id": "0df04e49",
   "metadata": {},
   "outputs": [
    {
     "data": {
      "text/html": [
       "<div>\n",
       "<style scoped>\n",
       "    .dataframe tbody tr th:only-of-type {\n",
       "        vertical-align: middle;\n",
       "    }\n",
       "\n",
       "    .dataframe tbody tr th {\n",
       "        vertical-align: top;\n",
       "    }\n",
       "\n",
       "    .dataframe thead th {\n",
       "        text-align: right;\n",
       "    }\n",
       "</style>\n",
       "<table border=\"1\" class=\"dataframe\">\n",
       "  <thead>\n",
       "    <tr style=\"text-align: right;\">\n",
       "      <th></th>\n",
       "      <th>Model</th>\n",
       "      <th>RMSE</th>\n",
       "      <th>R2</th>\n",
       "    </tr>\n",
       "  </thead>\n",
       "  <tbody>\n",
       "    <tr>\n",
       "      <th>5</th>\n",
       "      <td>Gradient Boosting</td>\n",
       "      <td>27328.415466</td>\n",
       "      <td>0.902632</td>\n",
       "    </tr>\n",
       "    <tr>\n",
       "      <th>4</th>\n",
       "      <td>Random Forest</td>\n",
       "      <td>30660.966283</td>\n",
       "      <td>0.877437</td>\n",
       "    </tr>\n",
       "    <tr>\n",
       "      <th>3</th>\n",
       "      <td>Decision Tree</td>\n",
       "      <td>38483.114380</td>\n",
       "      <td>0.806925</td>\n",
       "    </tr>\n",
       "    <tr>\n",
       "      <th>1</th>\n",
       "      <td>Ridge Regression</td>\n",
       "      <td>39514.723350</td>\n",
       "      <td>0.796435</td>\n",
       "    </tr>\n",
       "    <tr>\n",
       "      <th>2</th>\n",
       "      <td>Lasso Regression</td>\n",
       "      <td>39517.412603</td>\n",
       "      <td>0.796407</td>\n",
       "    </tr>\n",
       "    <tr>\n",
       "      <th>0</th>\n",
       "      <td>Linear Regression</td>\n",
       "      <td>39517.719617</td>\n",
       "      <td>0.796404</td>\n",
       "    </tr>\n",
       "  </tbody>\n",
       "</table>\n",
       "</div>"
      ],
      "text/plain": [
       "               Model          RMSE        R2\n",
       "5  Gradient Boosting  27328.415466  0.902632\n",
       "4      Random Forest  30660.966283  0.877437\n",
       "3      Decision Tree  38483.114380  0.806925\n",
       "1   Ridge Regression  39514.723350  0.796435\n",
       "2   Lasso Regression  39517.412603  0.796407\n",
       "0  Linear Regression  39517.719617  0.796404"
      ]
     },
     "execution_count": 195,
     "metadata": {},
     "output_type": "execute_result"
    }
   ],
   "source": [
    "results_df = pd.DataFrame(results, columns=['Model', 'RMSE', 'R2'])\n",
    "results_df.sort_values(by='RMSE')\n"
   ]
  },
  {
   "cell_type": "markdown",
   "id": "1d3b402d",
   "metadata": {},
   "source": [
    "Best Model: Gradient Boosting Regressor\n",
    "\n",
    "    RMSE: 27,402\n",
    "\n",
    "    R²: 0.902 → explains 90.2% of the variance!\n",
    "\n",
    "That’s a strong result — and a great candidate for hyperparameter tuning"
   ]
  },
  {
   "cell_type": "markdown",
   "id": "ecc51733",
   "metadata": {},
   "source": [
    "# Step 5: Hyperparameter Tuning (with GridSearchCV)"
   ]
  },
  {
   "cell_type": "markdown",
   "id": "4a02a4f0",
   "metadata": {},
   "source": [
    "We’ll now:\n",
    "\n",
    "    Tune the GradientBoostingRegressor\n",
    "\n",
    "    Use GridSearchCV to find the best settings"
   ]
  },
  {
   "cell_type": "code",
   "execution_count": 196,
   "id": "64d7a55e",
   "metadata": {},
   "outputs": [],
   "source": [
    "from sklearn.model_selection import GridSearchCV\n",
    "from sklearn.ensemble import GradientBoostingRegressor\n",
    "\n",
    "\n"
   ]
  },
  {
   "cell_type": "code",
   "execution_count": 197,
   "id": "77207e6f",
   "metadata": {},
   "outputs": [],
   "source": [
    "# --- 1. Define the model to be tuned ---\n",
    "# Initialize the GradientBoostingRegressor model\n",
    "gbr = GradientBoostingRegressor(random_state=42)\n"
   ]
  },
  {
   "cell_type": "code",
   "execution_count": 199,
   "id": "02747bda",
   "metadata": {},
   "outputs": [],
   "source": [
    "# --- 2. Define the hyperparameter grid to search ---\n",
    "# These are the parameters we want to tune and the values we want to test.\n",
    "param_grid = {\n",
    "    'n_estimators': [100, 200],  # Number of boosting stages to perform\n",
    "    'learning_rate': [0.05, 0.1], # Step size shrinkage to prevent overfitting\n",
    "    'max_depth': [3, 4],            # Maximum depth of the individual regression estimators\n",
    "    'subsample': [0.8, 1.0],          # Fraction of samples used for fitting the individual base learners\n",
    "    'min_samples_split': [2, 4],\n",
    "    'min_samples_leaf': [1, 3]\n",
    "}\n"
   ]
  },
  {
   "cell_type": "code",
   "execution_count": 200,
   "id": "33728f7a",
   "metadata": {},
   "outputs": [
    {
     "name": "stdout",
     "output_type": "stream",
     "text": [
      "Starting GridSearchCV...\n"
     ]
    }
   ],
   "source": [
    "# --- 3. Set up GridSearchCV with cross-validation ---\n",
    "# GridSearchCV will fit the model for every combination of parameters in param_grid.\n",
    "# 'cv=5' means it will use 5-fold cross-validation.\n",
    "# 'scoring' is set to 'neg_root_mean_squared_error' because GridSearchCV\n",
    "# tries to maximize the score, so we use a negative value to find the lowest RMSE.\n",
    "grid_search = GridSearchCV(\n",
    "    estimator=gbr,\n",
    "    param_grid=param_grid,\n",
    "    cv=5,\n",
    "    scoring='neg_root_mean_squared_error',\n",
    "    n_jobs=-1,  # Use all available CPU cores for faster processing\n",
    "    verbose=1   # Print a report on the progress\n",
    ")\n",
    "print(\"Starting GridSearchCV...\")\n"
   ]
  },
  {
   "cell_type": "code",
   "execution_count": 201,
   "id": "4e49d7c3",
   "metadata": {},
   "outputs": [
    {
     "name": "stdout",
     "output_type": "stream",
     "text": [
      "Fitting 5 folds for each of 64 candidates, totalling 320 fits\n"
     ]
    },
    {
     "data": {
      "text/html": [
       "<style>#sk-container-id-2 {\n",
       "  /* Definition of color scheme common for light and dark mode */\n",
       "  --sklearn-color-text: #000;\n",
       "  --sklearn-color-text-muted: #666;\n",
       "  --sklearn-color-line: gray;\n",
       "  /* Definition of color scheme for unfitted estimators */\n",
       "  --sklearn-color-unfitted-level-0: #fff5e6;\n",
       "  --sklearn-color-unfitted-level-1: #f6e4d2;\n",
       "  --sklearn-color-unfitted-level-2: #ffe0b3;\n",
       "  --sklearn-color-unfitted-level-3: chocolate;\n",
       "  /* Definition of color scheme for fitted estimators */\n",
       "  --sklearn-color-fitted-level-0: #f0f8ff;\n",
       "  --sklearn-color-fitted-level-1: #d4ebff;\n",
       "  --sklearn-color-fitted-level-2: #b3dbfd;\n",
       "  --sklearn-color-fitted-level-3: cornflowerblue;\n",
       "\n",
       "  /* Specific color for light theme */\n",
       "  --sklearn-color-text-on-default-background: var(--sg-text-color, var(--theme-code-foreground, var(--jp-content-font-color1, black)));\n",
       "  --sklearn-color-background: var(--sg-background-color, var(--theme-background, var(--jp-layout-color0, white)));\n",
       "  --sklearn-color-border-box: var(--sg-text-color, var(--theme-code-foreground, var(--jp-content-font-color1, black)));\n",
       "  --sklearn-color-icon: #696969;\n",
       "\n",
       "  @media (prefers-color-scheme: dark) {\n",
       "    /* Redefinition of color scheme for dark theme */\n",
       "    --sklearn-color-text-on-default-background: var(--sg-text-color, var(--theme-code-foreground, var(--jp-content-font-color1, white)));\n",
       "    --sklearn-color-background: var(--sg-background-color, var(--theme-background, var(--jp-layout-color0, #111)));\n",
       "    --sklearn-color-border-box: var(--sg-text-color, var(--theme-code-foreground, var(--jp-content-font-color1, white)));\n",
       "    --sklearn-color-icon: #878787;\n",
       "  }\n",
       "}\n",
       "\n",
       "#sk-container-id-2 {\n",
       "  color: var(--sklearn-color-text);\n",
       "}\n",
       "\n",
       "#sk-container-id-2 pre {\n",
       "  padding: 0;\n",
       "}\n",
       "\n",
       "#sk-container-id-2 input.sk-hidden--visually {\n",
       "  border: 0;\n",
       "  clip: rect(1px 1px 1px 1px);\n",
       "  clip: rect(1px, 1px, 1px, 1px);\n",
       "  height: 1px;\n",
       "  margin: -1px;\n",
       "  overflow: hidden;\n",
       "  padding: 0;\n",
       "  position: absolute;\n",
       "  width: 1px;\n",
       "}\n",
       "\n",
       "#sk-container-id-2 div.sk-dashed-wrapped {\n",
       "  border: 1px dashed var(--sklearn-color-line);\n",
       "  margin: 0 0.4em 0.5em 0.4em;\n",
       "  box-sizing: border-box;\n",
       "  padding-bottom: 0.4em;\n",
       "  background-color: var(--sklearn-color-background);\n",
       "}\n",
       "\n",
       "#sk-container-id-2 div.sk-container {\n",
       "  /* jupyter's `normalize.less` sets `[hidden] { display: none; }`\n",
       "     but bootstrap.min.css set `[hidden] { display: none !important; }`\n",
       "     so we also need the `!important` here to be able to override the\n",
       "     default hidden behavior on the sphinx rendered scikit-learn.org.\n",
       "     See: https://github.com/scikit-learn/scikit-learn/issues/21755 */\n",
       "  display: inline-block !important;\n",
       "  position: relative;\n",
       "}\n",
       "\n",
       "#sk-container-id-2 div.sk-text-repr-fallback {\n",
       "  display: none;\n",
       "}\n",
       "\n",
       "div.sk-parallel-item,\n",
       "div.sk-serial,\n",
       "div.sk-item {\n",
       "  /* draw centered vertical line to link estimators */\n",
       "  background-image: linear-gradient(var(--sklearn-color-text-on-default-background), var(--sklearn-color-text-on-default-background));\n",
       "  background-size: 2px 100%;\n",
       "  background-repeat: no-repeat;\n",
       "  background-position: center center;\n",
       "}\n",
       "\n",
       "/* Parallel-specific style estimator block */\n",
       "\n",
       "#sk-container-id-2 div.sk-parallel-item::after {\n",
       "  content: \"\";\n",
       "  width: 100%;\n",
       "  border-bottom: 2px solid var(--sklearn-color-text-on-default-background);\n",
       "  flex-grow: 1;\n",
       "}\n",
       "\n",
       "#sk-container-id-2 div.sk-parallel {\n",
       "  display: flex;\n",
       "  align-items: stretch;\n",
       "  justify-content: center;\n",
       "  background-color: var(--sklearn-color-background);\n",
       "  position: relative;\n",
       "}\n",
       "\n",
       "#sk-container-id-2 div.sk-parallel-item {\n",
       "  display: flex;\n",
       "  flex-direction: column;\n",
       "}\n",
       "\n",
       "#sk-container-id-2 div.sk-parallel-item:first-child::after {\n",
       "  align-self: flex-end;\n",
       "  width: 50%;\n",
       "}\n",
       "\n",
       "#sk-container-id-2 div.sk-parallel-item:last-child::after {\n",
       "  align-self: flex-start;\n",
       "  width: 50%;\n",
       "}\n",
       "\n",
       "#sk-container-id-2 div.sk-parallel-item:only-child::after {\n",
       "  width: 0;\n",
       "}\n",
       "\n",
       "/* Serial-specific style estimator block */\n",
       "\n",
       "#sk-container-id-2 div.sk-serial {\n",
       "  display: flex;\n",
       "  flex-direction: column;\n",
       "  align-items: center;\n",
       "  background-color: var(--sklearn-color-background);\n",
       "  padding-right: 1em;\n",
       "  padding-left: 1em;\n",
       "}\n",
       "\n",
       "\n",
       "/* Toggleable style: style used for estimator/Pipeline/ColumnTransformer box that is\n",
       "clickable and can be expanded/collapsed.\n",
       "- Pipeline and ColumnTransformer use this feature and define the default style\n",
       "- Estimators will overwrite some part of the style using the `sk-estimator` class\n",
       "*/\n",
       "\n",
       "/* Pipeline and ColumnTransformer style (default) */\n",
       "\n",
       "#sk-container-id-2 div.sk-toggleable {\n",
       "  /* Default theme specific background. It is overwritten whether we have a\n",
       "  specific estimator or a Pipeline/ColumnTransformer */\n",
       "  background-color: var(--sklearn-color-background);\n",
       "}\n",
       "\n",
       "/* Toggleable label */\n",
       "#sk-container-id-2 label.sk-toggleable__label {\n",
       "  cursor: pointer;\n",
       "  display: flex;\n",
       "  width: 100%;\n",
       "  margin-bottom: 0;\n",
       "  padding: 0.5em;\n",
       "  box-sizing: border-box;\n",
       "  text-align: center;\n",
       "  align-items: start;\n",
       "  justify-content: space-between;\n",
       "  gap: 0.5em;\n",
       "}\n",
       "\n",
       "#sk-container-id-2 label.sk-toggleable__label .caption {\n",
       "  font-size: 0.6rem;\n",
       "  font-weight: lighter;\n",
       "  color: var(--sklearn-color-text-muted);\n",
       "}\n",
       "\n",
       "#sk-container-id-2 label.sk-toggleable__label-arrow:before {\n",
       "  /* Arrow on the left of the label */\n",
       "  content: \"▸\";\n",
       "  float: left;\n",
       "  margin-right: 0.25em;\n",
       "  color: var(--sklearn-color-icon);\n",
       "}\n",
       "\n",
       "#sk-container-id-2 label.sk-toggleable__label-arrow:hover:before {\n",
       "  color: var(--sklearn-color-text);\n",
       "}\n",
       "\n",
       "/* Toggleable content - dropdown */\n",
       "\n",
       "#sk-container-id-2 div.sk-toggleable__content {\n",
       "  display: none;\n",
       "  text-align: left;\n",
       "  /* unfitted */\n",
       "  background-color: var(--sklearn-color-unfitted-level-0);\n",
       "}\n",
       "\n",
       "#sk-container-id-2 div.sk-toggleable__content.fitted {\n",
       "  /* fitted */\n",
       "  background-color: var(--sklearn-color-fitted-level-0);\n",
       "}\n",
       "\n",
       "#sk-container-id-2 div.sk-toggleable__content pre {\n",
       "  margin: 0.2em;\n",
       "  border-radius: 0.25em;\n",
       "  color: var(--sklearn-color-text);\n",
       "  /* unfitted */\n",
       "  background-color: var(--sklearn-color-unfitted-level-0);\n",
       "}\n",
       "\n",
       "#sk-container-id-2 div.sk-toggleable__content.fitted pre {\n",
       "  /* unfitted */\n",
       "  background-color: var(--sklearn-color-fitted-level-0);\n",
       "}\n",
       "\n",
       "#sk-container-id-2 input.sk-toggleable__control:checked~div.sk-toggleable__content {\n",
       "  /* Expand drop-down */\n",
       "  display: block;\n",
       "  width: 100%;\n",
       "  overflow: visible;\n",
       "}\n",
       "\n",
       "#sk-container-id-2 input.sk-toggleable__control:checked~label.sk-toggleable__label-arrow:before {\n",
       "  content: \"▾\";\n",
       "}\n",
       "\n",
       "/* Pipeline/ColumnTransformer-specific style */\n",
       "\n",
       "#sk-container-id-2 div.sk-label input.sk-toggleable__control:checked~label.sk-toggleable__label {\n",
       "  color: var(--sklearn-color-text);\n",
       "  background-color: var(--sklearn-color-unfitted-level-2);\n",
       "}\n",
       "\n",
       "#sk-container-id-2 div.sk-label.fitted input.sk-toggleable__control:checked~label.sk-toggleable__label {\n",
       "  background-color: var(--sklearn-color-fitted-level-2);\n",
       "}\n",
       "\n",
       "/* Estimator-specific style */\n",
       "\n",
       "/* Colorize estimator box */\n",
       "#sk-container-id-2 div.sk-estimator input.sk-toggleable__control:checked~label.sk-toggleable__label {\n",
       "  /* unfitted */\n",
       "  background-color: var(--sklearn-color-unfitted-level-2);\n",
       "}\n",
       "\n",
       "#sk-container-id-2 div.sk-estimator.fitted input.sk-toggleable__control:checked~label.sk-toggleable__label {\n",
       "  /* fitted */\n",
       "  background-color: var(--sklearn-color-fitted-level-2);\n",
       "}\n",
       "\n",
       "#sk-container-id-2 div.sk-label label.sk-toggleable__label,\n",
       "#sk-container-id-2 div.sk-label label {\n",
       "  /* The background is the default theme color */\n",
       "  color: var(--sklearn-color-text-on-default-background);\n",
       "}\n",
       "\n",
       "/* On hover, darken the color of the background */\n",
       "#sk-container-id-2 div.sk-label:hover label.sk-toggleable__label {\n",
       "  color: var(--sklearn-color-text);\n",
       "  background-color: var(--sklearn-color-unfitted-level-2);\n",
       "}\n",
       "\n",
       "/* Label box, darken color on hover, fitted */\n",
       "#sk-container-id-2 div.sk-label.fitted:hover label.sk-toggleable__label.fitted {\n",
       "  color: var(--sklearn-color-text);\n",
       "  background-color: var(--sklearn-color-fitted-level-2);\n",
       "}\n",
       "\n",
       "/* Estimator label */\n",
       "\n",
       "#sk-container-id-2 div.sk-label label {\n",
       "  font-family: monospace;\n",
       "  font-weight: bold;\n",
       "  display: inline-block;\n",
       "  line-height: 1.2em;\n",
       "}\n",
       "\n",
       "#sk-container-id-2 div.sk-label-container {\n",
       "  text-align: center;\n",
       "}\n",
       "\n",
       "/* Estimator-specific */\n",
       "#sk-container-id-2 div.sk-estimator {\n",
       "  font-family: monospace;\n",
       "  border: 1px dotted var(--sklearn-color-border-box);\n",
       "  border-radius: 0.25em;\n",
       "  box-sizing: border-box;\n",
       "  margin-bottom: 0.5em;\n",
       "  /* unfitted */\n",
       "  background-color: var(--sklearn-color-unfitted-level-0);\n",
       "}\n",
       "\n",
       "#sk-container-id-2 div.sk-estimator.fitted {\n",
       "  /* fitted */\n",
       "  background-color: var(--sklearn-color-fitted-level-0);\n",
       "}\n",
       "\n",
       "/* on hover */\n",
       "#sk-container-id-2 div.sk-estimator:hover {\n",
       "  /* unfitted */\n",
       "  background-color: var(--sklearn-color-unfitted-level-2);\n",
       "}\n",
       "\n",
       "#sk-container-id-2 div.sk-estimator.fitted:hover {\n",
       "  /* fitted */\n",
       "  background-color: var(--sklearn-color-fitted-level-2);\n",
       "}\n",
       "\n",
       "/* Specification for estimator info (e.g. \"i\" and \"?\") */\n",
       "\n",
       "/* Common style for \"i\" and \"?\" */\n",
       "\n",
       ".sk-estimator-doc-link,\n",
       "a:link.sk-estimator-doc-link,\n",
       "a:visited.sk-estimator-doc-link {\n",
       "  float: right;\n",
       "  font-size: smaller;\n",
       "  line-height: 1em;\n",
       "  font-family: monospace;\n",
       "  background-color: var(--sklearn-color-background);\n",
       "  border-radius: 1em;\n",
       "  height: 1em;\n",
       "  width: 1em;\n",
       "  text-decoration: none !important;\n",
       "  margin-left: 0.5em;\n",
       "  text-align: center;\n",
       "  /* unfitted */\n",
       "  border: var(--sklearn-color-unfitted-level-1) 1pt solid;\n",
       "  color: var(--sklearn-color-unfitted-level-1);\n",
       "}\n",
       "\n",
       ".sk-estimator-doc-link.fitted,\n",
       "a:link.sk-estimator-doc-link.fitted,\n",
       "a:visited.sk-estimator-doc-link.fitted {\n",
       "  /* fitted */\n",
       "  border: var(--sklearn-color-fitted-level-1) 1pt solid;\n",
       "  color: var(--sklearn-color-fitted-level-1);\n",
       "}\n",
       "\n",
       "/* On hover */\n",
       "div.sk-estimator:hover .sk-estimator-doc-link:hover,\n",
       ".sk-estimator-doc-link:hover,\n",
       "div.sk-label-container:hover .sk-estimator-doc-link:hover,\n",
       ".sk-estimator-doc-link:hover {\n",
       "  /* unfitted */\n",
       "  background-color: var(--sklearn-color-unfitted-level-3);\n",
       "  color: var(--sklearn-color-background);\n",
       "  text-decoration: none;\n",
       "}\n",
       "\n",
       "div.sk-estimator.fitted:hover .sk-estimator-doc-link.fitted:hover,\n",
       ".sk-estimator-doc-link.fitted:hover,\n",
       "div.sk-label-container:hover .sk-estimator-doc-link.fitted:hover,\n",
       ".sk-estimator-doc-link.fitted:hover {\n",
       "  /* fitted */\n",
       "  background-color: var(--sklearn-color-fitted-level-3);\n",
       "  color: var(--sklearn-color-background);\n",
       "  text-decoration: none;\n",
       "}\n",
       "\n",
       "/* Span, style for the box shown on hovering the info icon */\n",
       ".sk-estimator-doc-link span {\n",
       "  display: none;\n",
       "  z-index: 9999;\n",
       "  position: relative;\n",
       "  font-weight: normal;\n",
       "  right: .2ex;\n",
       "  padding: .5ex;\n",
       "  margin: .5ex;\n",
       "  width: min-content;\n",
       "  min-width: 20ex;\n",
       "  max-width: 50ex;\n",
       "  color: var(--sklearn-color-text);\n",
       "  box-shadow: 2pt 2pt 4pt #999;\n",
       "  /* unfitted */\n",
       "  background: var(--sklearn-color-unfitted-level-0);\n",
       "  border: .5pt solid var(--sklearn-color-unfitted-level-3);\n",
       "}\n",
       "\n",
       ".sk-estimator-doc-link.fitted span {\n",
       "  /* fitted */\n",
       "  background: var(--sklearn-color-fitted-level-0);\n",
       "  border: var(--sklearn-color-fitted-level-3);\n",
       "}\n",
       "\n",
       ".sk-estimator-doc-link:hover span {\n",
       "  display: block;\n",
       "}\n",
       "\n",
       "/* \"?\"-specific style due to the `<a>` HTML tag */\n",
       "\n",
       "#sk-container-id-2 a.estimator_doc_link {\n",
       "  float: right;\n",
       "  font-size: 1rem;\n",
       "  line-height: 1em;\n",
       "  font-family: monospace;\n",
       "  background-color: var(--sklearn-color-background);\n",
       "  border-radius: 1rem;\n",
       "  height: 1rem;\n",
       "  width: 1rem;\n",
       "  text-decoration: none;\n",
       "  /* unfitted */\n",
       "  color: var(--sklearn-color-unfitted-level-1);\n",
       "  border: var(--sklearn-color-unfitted-level-1) 1pt solid;\n",
       "}\n",
       "\n",
       "#sk-container-id-2 a.estimator_doc_link.fitted {\n",
       "  /* fitted */\n",
       "  border: var(--sklearn-color-fitted-level-1) 1pt solid;\n",
       "  color: var(--sklearn-color-fitted-level-1);\n",
       "}\n",
       "\n",
       "/* On hover */\n",
       "#sk-container-id-2 a.estimator_doc_link:hover {\n",
       "  /* unfitted */\n",
       "  background-color: var(--sklearn-color-unfitted-level-3);\n",
       "  color: var(--sklearn-color-background);\n",
       "  text-decoration: none;\n",
       "}\n",
       "\n",
       "#sk-container-id-2 a.estimator_doc_link.fitted:hover {\n",
       "  /* fitted */\n",
       "  background-color: var(--sklearn-color-fitted-level-3);\n",
       "}\n",
       "\n",
       ".estimator-table summary {\n",
       "    padding: .5rem;\n",
       "    font-family: monospace;\n",
       "    cursor: pointer;\n",
       "}\n",
       "\n",
       ".estimator-table details[open] {\n",
       "    padding-left: 0.1rem;\n",
       "    padding-right: 0.1rem;\n",
       "    padding-bottom: 0.3rem;\n",
       "}\n",
       "\n",
       ".estimator-table .parameters-table {\n",
       "    margin-left: auto !important;\n",
       "    margin-right: auto !important;\n",
       "}\n",
       "\n",
       ".estimator-table .parameters-table tr:nth-child(odd) {\n",
       "    background-color: #fff;\n",
       "}\n",
       "\n",
       ".estimator-table .parameters-table tr:nth-child(even) {\n",
       "    background-color: #f6f6f6;\n",
       "}\n",
       "\n",
       ".estimator-table .parameters-table tr:hover {\n",
       "    background-color: #e0e0e0;\n",
       "}\n",
       "\n",
       ".estimator-table table td {\n",
       "    border: 1px solid rgba(106, 105, 104, 0.232);\n",
       "}\n",
       "\n",
       ".user-set td {\n",
       "    color:rgb(255, 94, 0);\n",
       "    text-align: left;\n",
       "}\n",
       "\n",
       ".user-set td.value pre {\n",
       "    color:rgb(255, 94, 0) !important;\n",
       "    background-color: transparent !important;\n",
       "}\n",
       "\n",
       ".default td {\n",
       "    color: black;\n",
       "    text-align: left;\n",
       "}\n",
       "\n",
       ".user-set td i,\n",
       ".default td i {\n",
       "    color: black;\n",
       "}\n",
       "\n",
       ".copy-paste-icon {\n",
       "    background-image: url(data:image/svg+xml;base64,PHN2ZyB4bWxucz0iaHR0cDovL3d3dy53My5vcmcvMjAwMC9zdmciIHZpZXdCb3g9IjAgMCA0NDggNTEyIj48IS0tIUZvbnQgQXdlc29tZSBGcmVlIDYuNy4yIGJ5IEBmb250YXdlc29tZSAtIGh0dHBzOi8vZm9udGF3ZXNvbWUuY29tIExpY2Vuc2UgLSBodHRwczovL2ZvbnRhd2Vzb21lLmNvbS9saWNlbnNlL2ZyZWUgQ29weXJpZ2h0IDIwMjUgRm9udGljb25zLCBJbmMuLS0+PHBhdGggZD0iTTIwOCAwTDMzMi4xIDBjMTIuNyAwIDI0LjkgNS4xIDMzLjkgMTQuMWw2Ny45IDY3LjljOSA5IDE0LjEgMjEuMiAxNC4xIDMzLjlMNDQ4IDMzNmMwIDI2LjUtMjEuNSA0OC00OCA0OGwtMTkyIDBjLTI2LjUgMC00OC0yMS41LTQ4LTQ4bDAtMjg4YzAtMjYuNSAyMS41LTQ4IDQ4LTQ4ek00OCAxMjhsODAgMCAwIDY0LTY0IDAgMCAyNTYgMTkyIDAgMC0zMiA2NCAwIDAgNDhjMCAyNi41LTIxLjUgNDgtNDggNDhMNDggNTEyYy0yNi41IDAtNDgtMjEuNS00OC00OEwwIDE3NmMwLTI2LjUgMjEuNS00OCA0OC00OHoiLz48L3N2Zz4=);\n",
       "    background-repeat: no-repeat;\n",
       "    background-size: 14px 14px;\n",
       "    background-position: 0;\n",
       "    display: inline-block;\n",
       "    width: 14px;\n",
       "    height: 14px;\n",
       "    cursor: pointer;\n",
       "}\n",
       "</style><body><div id=\"sk-container-id-2\" class=\"sk-top-container\"><div class=\"sk-text-repr-fallback\"><pre>GridSearchCV(cv=5, estimator=GradientBoostingRegressor(random_state=42),\n",
       "             n_jobs=-1,\n",
       "             param_grid={&#x27;learning_rate&#x27;: [0.05, 0.1], &#x27;max_depth&#x27;: [3, 4],\n",
       "                         &#x27;min_samples_leaf&#x27;: [1, 3],\n",
       "                         &#x27;min_samples_split&#x27;: [2, 4],\n",
       "                         &#x27;n_estimators&#x27;: [100, 200], &#x27;subsample&#x27;: [0.8, 1.0]},\n",
       "             scoring=&#x27;neg_root_mean_squared_error&#x27;, verbose=1)</pre><b>In a Jupyter environment, please rerun this cell to show the HTML representation or trust the notebook. <br />On GitHub, the HTML representation is unable to render, please try loading this page with nbviewer.org.</b></div><div class=\"sk-container\" hidden><div class=\"sk-item sk-dashed-wrapped\"><div class=\"sk-label-container\"><div class=\"sk-label fitted sk-toggleable\"><input class=\"sk-toggleable__control sk-hidden--visually\" id=\"sk-estimator-id-4\" type=\"checkbox\" ><label for=\"sk-estimator-id-4\" class=\"sk-toggleable__label fitted sk-toggleable__label-arrow\"><div><div>GridSearchCV</div></div><div><a class=\"sk-estimator-doc-link fitted\" rel=\"noreferrer\" target=\"_blank\" href=\"https://scikit-learn.org/1.7/modules/generated/sklearn.model_selection.GridSearchCV.html\">?<span>Documentation for GridSearchCV</span></a><span class=\"sk-estimator-doc-link fitted\">i<span>Fitted</span></span></div></label><div class=\"sk-toggleable__content fitted\" data-param-prefix=\"\">\n",
       "        <div class=\"estimator-table\">\n",
       "            <details>\n",
       "                <summary>Parameters</summary>\n",
       "                <table class=\"parameters-table\">\n",
       "                  <tbody>\n",
       "                    \n",
       "        <tr class=\"user-set\">\n",
       "            <td><i class=\"copy-paste-icon\"\n",
       "                 onclick=\"copyToClipboard('estimator',\n",
       "                          this.parentElement.nextElementSibling)\"\n",
       "            ></i></td>\n",
       "            <td class=\"param\">estimator&nbsp;</td>\n",
       "            <td class=\"value\">GradientBoost...ndom_state=42)</td>\n",
       "        </tr>\n",
       "    \n",
       "\n",
       "        <tr class=\"user-set\">\n",
       "            <td><i class=\"copy-paste-icon\"\n",
       "                 onclick=\"copyToClipboard('param_grid',\n",
       "                          this.parentElement.nextElementSibling)\"\n",
       "            ></i></td>\n",
       "            <td class=\"param\">param_grid&nbsp;</td>\n",
       "            <td class=\"value\">{&#x27;learning_rate&#x27;: [0.05, 0.1], &#x27;max_depth&#x27;: [3, 4], &#x27;min_samples_leaf&#x27;: [1, 3], &#x27;min_samples_split&#x27;: [2, 4], ...}</td>\n",
       "        </tr>\n",
       "    \n",
       "\n",
       "        <tr class=\"user-set\">\n",
       "            <td><i class=\"copy-paste-icon\"\n",
       "                 onclick=\"copyToClipboard('scoring',\n",
       "                          this.parentElement.nextElementSibling)\"\n",
       "            ></i></td>\n",
       "            <td class=\"param\">scoring&nbsp;</td>\n",
       "            <td class=\"value\">&#x27;neg_root_mean_squared_error&#x27;</td>\n",
       "        </tr>\n",
       "    \n",
       "\n",
       "        <tr class=\"user-set\">\n",
       "            <td><i class=\"copy-paste-icon\"\n",
       "                 onclick=\"copyToClipboard('n_jobs',\n",
       "                          this.parentElement.nextElementSibling)\"\n",
       "            ></i></td>\n",
       "            <td class=\"param\">n_jobs&nbsp;</td>\n",
       "            <td class=\"value\">-1</td>\n",
       "        </tr>\n",
       "    \n",
       "\n",
       "        <tr class=\"default\">\n",
       "            <td><i class=\"copy-paste-icon\"\n",
       "                 onclick=\"copyToClipboard('refit',\n",
       "                          this.parentElement.nextElementSibling)\"\n",
       "            ></i></td>\n",
       "            <td class=\"param\">refit&nbsp;</td>\n",
       "            <td class=\"value\">True</td>\n",
       "        </tr>\n",
       "    \n",
       "\n",
       "        <tr class=\"user-set\">\n",
       "            <td><i class=\"copy-paste-icon\"\n",
       "                 onclick=\"copyToClipboard('cv',\n",
       "                          this.parentElement.nextElementSibling)\"\n",
       "            ></i></td>\n",
       "            <td class=\"param\">cv&nbsp;</td>\n",
       "            <td class=\"value\">5</td>\n",
       "        </tr>\n",
       "    \n",
       "\n",
       "        <tr class=\"user-set\">\n",
       "            <td><i class=\"copy-paste-icon\"\n",
       "                 onclick=\"copyToClipboard('verbose',\n",
       "                          this.parentElement.nextElementSibling)\"\n",
       "            ></i></td>\n",
       "            <td class=\"param\">verbose&nbsp;</td>\n",
       "            <td class=\"value\">1</td>\n",
       "        </tr>\n",
       "    \n",
       "\n",
       "        <tr class=\"default\">\n",
       "            <td><i class=\"copy-paste-icon\"\n",
       "                 onclick=\"copyToClipboard('pre_dispatch',\n",
       "                          this.parentElement.nextElementSibling)\"\n",
       "            ></i></td>\n",
       "            <td class=\"param\">pre_dispatch&nbsp;</td>\n",
       "            <td class=\"value\">&#x27;2*n_jobs&#x27;</td>\n",
       "        </tr>\n",
       "    \n",
       "\n",
       "        <tr class=\"default\">\n",
       "            <td><i class=\"copy-paste-icon\"\n",
       "                 onclick=\"copyToClipboard('error_score',\n",
       "                          this.parentElement.nextElementSibling)\"\n",
       "            ></i></td>\n",
       "            <td class=\"param\">error_score&nbsp;</td>\n",
       "            <td class=\"value\">nan</td>\n",
       "        </tr>\n",
       "    \n",
       "\n",
       "        <tr class=\"default\">\n",
       "            <td><i class=\"copy-paste-icon\"\n",
       "                 onclick=\"copyToClipboard('return_train_score',\n",
       "                          this.parentElement.nextElementSibling)\"\n",
       "            ></i></td>\n",
       "            <td class=\"param\">return_train_score&nbsp;</td>\n",
       "            <td class=\"value\">False</td>\n",
       "        </tr>\n",
       "    \n",
       "                  </tbody>\n",
       "                </table>\n",
       "            </details>\n",
       "        </div>\n",
       "    </div></div></div><div class=\"sk-parallel\"><div class=\"sk-parallel-item\"><div class=\"sk-item\"><div class=\"sk-label-container\"><div class=\"sk-label fitted sk-toggleable\"><input class=\"sk-toggleable__control sk-hidden--visually\" id=\"sk-estimator-id-5\" type=\"checkbox\" ><label for=\"sk-estimator-id-5\" class=\"sk-toggleable__label fitted sk-toggleable__label-arrow\"><div><div>best_estimator_: GradientBoostingRegressor</div></div></label><div class=\"sk-toggleable__content fitted\" data-param-prefix=\"best_estimator___\"><pre>GradientBoostingRegressor(max_depth=4, min_samples_leaf=3, random_state=42)</pre></div></div></div><div class=\"sk-serial\"><div class=\"sk-item\"><div class=\"sk-estimator fitted sk-toggleable\"><input class=\"sk-toggleable__control sk-hidden--visually\" id=\"sk-estimator-id-6\" type=\"checkbox\" ><label for=\"sk-estimator-id-6\" class=\"sk-toggleable__label fitted sk-toggleable__label-arrow\"><div><div>GradientBoostingRegressor</div></div><div><a class=\"sk-estimator-doc-link fitted\" rel=\"noreferrer\" target=\"_blank\" href=\"https://scikit-learn.org/1.7/modules/generated/sklearn.ensemble.GradientBoostingRegressor.html\">?<span>Documentation for GradientBoostingRegressor</span></a></div></label><div class=\"sk-toggleable__content fitted\" data-param-prefix=\"best_estimator___\">\n",
       "        <div class=\"estimator-table\">\n",
       "            <details>\n",
       "                <summary>Parameters</summary>\n",
       "                <table class=\"parameters-table\">\n",
       "                  <tbody>\n",
       "                    \n",
       "        <tr class=\"default\">\n",
       "            <td><i class=\"copy-paste-icon\"\n",
       "                 onclick=\"copyToClipboard('loss',\n",
       "                          this.parentElement.nextElementSibling)\"\n",
       "            ></i></td>\n",
       "            <td class=\"param\">loss&nbsp;</td>\n",
       "            <td class=\"value\">&#x27;squared_error&#x27;</td>\n",
       "        </tr>\n",
       "    \n",
       "\n",
       "        <tr class=\"default\">\n",
       "            <td><i class=\"copy-paste-icon\"\n",
       "                 onclick=\"copyToClipboard('learning_rate',\n",
       "                          this.parentElement.nextElementSibling)\"\n",
       "            ></i></td>\n",
       "            <td class=\"param\">learning_rate&nbsp;</td>\n",
       "            <td class=\"value\">0.1</td>\n",
       "        </tr>\n",
       "    \n",
       "\n",
       "        <tr class=\"default\">\n",
       "            <td><i class=\"copy-paste-icon\"\n",
       "                 onclick=\"copyToClipboard('n_estimators',\n",
       "                          this.parentElement.nextElementSibling)\"\n",
       "            ></i></td>\n",
       "            <td class=\"param\">n_estimators&nbsp;</td>\n",
       "            <td class=\"value\">100</td>\n",
       "        </tr>\n",
       "    \n",
       "\n",
       "        <tr class=\"default\">\n",
       "            <td><i class=\"copy-paste-icon\"\n",
       "                 onclick=\"copyToClipboard('subsample',\n",
       "                          this.parentElement.nextElementSibling)\"\n",
       "            ></i></td>\n",
       "            <td class=\"param\">subsample&nbsp;</td>\n",
       "            <td class=\"value\">1.0</td>\n",
       "        </tr>\n",
       "    \n",
       "\n",
       "        <tr class=\"default\">\n",
       "            <td><i class=\"copy-paste-icon\"\n",
       "                 onclick=\"copyToClipboard('criterion',\n",
       "                          this.parentElement.nextElementSibling)\"\n",
       "            ></i></td>\n",
       "            <td class=\"param\">criterion&nbsp;</td>\n",
       "            <td class=\"value\">&#x27;friedman_mse&#x27;</td>\n",
       "        </tr>\n",
       "    \n",
       "\n",
       "        <tr class=\"default\">\n",
       "            <td><i class=\"copy-paste-icon\"\n",
       "                 onclick=\"copyToClipboard('min_samples_split',\n",
       "                          this.parentElement.nextElementSibling)\"\n",
       "            ></i></td>\n",
       "            <td class=\"param\">min_samples_split&nbsp;</td>\n",
       "            <td class=\"value\">2</td>\n",
       "        </tr>\n",
       "    \n",
       "\n",
       "        <tr class=\"user-set\">\n",
       "            <td><i class=\"copy-paste-icon\"\n",
       "                 onclick=\"copyToClipboard('min_samples_leaf',\n",
       "                          this.parentElement.nextElementSibling)\"\n",
       "            ></i></td>\n",
       "            <td class=\"param\">min_samples_leaf&nbsp;</td>\n",
       "            <td class=\"value\">3</td>\n",
       "        </tr>\n",
       "    \n",
       "\n",
       "        <tr class=\"default\">\n",
       "            <td><i class=\"copy-paste-icon\"\n",
       "                 onclick=\"copyToClipboard('min_weight_fraction_leaf',\n",
       "                          this.parentElement.nextElementSibling)\"\n",
       "            ></i></td>\n",
       "            <td class=\"param\">min_weight_fraction_leaf&nbsp;</td>\n",
       "            <td class=\"value\">0.0</td>\n",
       "        </tr>\n",
       "    \n",
       "\n",
       "        <tr class=\"user-set\">\n",
       "            <td><i class=\"copy-paste-icon\"\n",
       "                 onclick=\"copyToClipboard('max_depth',\n",
       "                          this.parentElement.nextElementSibling)\"\n",
       "            ></i></td>\n",
       "            <td class=\"param\">max_depth&nbsp;</td>\n",
       "            <td class=\"value\">4</td>\n",
       "        </tr>\n",
       "    \n",
       "\n",
       "        <tr class=\"default\">\n",
       "            <td><i class=\"copy-paste-icon\"\n",
       "                 onclick=\"copyToClipboard('min_impurity_decrease',\n",
       "                          this.parentElement.nextElementSibling)\"\n",
       "            ></i></td>\n",
       "            <td class=\"param\">min_impurity_decrease&nbsp;</td>\n",
       "            <td class=\"value\">0.0</td>\n",
       "        </tr>\n",
       "    \n",
       "\n",
       "        <tr class=\"default\">\n",
       "            <td><i class=\"copy-paste-icon\"\n",
       "                 onclick=\"copyToClipboard('init',\n",
       "                          this.parentElement.nextElementSibling)\"\n",
       "            ></i></td>\n",
       "            <td class=\"param\">init&nbsp;</td>\n",
       "            <td class=\"value\">None</td>\n",
       "        </tr>\n",
       "    \n",
       "\n",
       "        <tr class=\"user-set\">\n",
       "            <td><i class=\"copy-paste-icon\"\n",
       "                 onclick=\"copyToClipboard('random_state',\n",
       "                          this.parentElement.nextElementSibling)\"\n",
       "            ></i></td>\n",
       "            <td class=\"param\">random_state&nbsp;</td>\n",
       "            <td class=\"value\">42</td>\n",
       "        </tr>\n",
       "    \n",
       "\n",
       "        <tr class=\"default\">\n",
       "            <td><i class=\"copy-paste-icon\"\n",
       "                 onclick=\"copyToClipboard('max_features',\n",
       "                          this.parentElement.nextElementSibling)\"\n",
       "            ></i></td>\n",
       "            <td class=\"param\">max_features&nbsp;</td>\n",
       "            <td class=\"value\">None</td>\n",
       "        </tr>\n",
       "    \n",
       "\n",
       "        <tr class=\"default\">\n",
       "            <td><i class=\"copy-paste-icon\"\n",
       "                 onclick=\"copyToClipboard('alpha',\n",
       "                          this.parentElement.nextElementSibling)\"\n",
       "            ></i></td>\n",
       "            <td class=\"param\">alpha&nbsp;</td>\n",
       "            <td class=\"value\">0.9</td>\n",
       "        </tr>\n",
       "    \n",
       "\n",
       "        <tr class=\"default\">\n",
       "            <td><i class=\"copy-paste-icon\"\n",
       "                 onclick=\"copyToClipboard('verbose',\n",
       "                          this.parentElement.nextElementSibling)\"\n",
       "            ></i></td>\n",
       "            <td class=\"param\">verbose&nbsp;</td>\n",
       "            <td class=\"value\">0</td>\n",
       "        </tr>\n",
       "    \n",
       "\n",
       "        <tr class=\"default\">\n",
       "            <td><i class=\"copy-paste-icon\"\n",
       "                 onclick=\"copyToClipboard('max_leaf_nodes',\n",
       "                          this.parentElement.nextElementSibling)\"\n",
       "            ></i></td>\n",
       "            <td class=\"param\">max_leaf_nodes&nbsp;</td>\n",
       "            <td class=\"value\">None</td>\n",
       "        </tr>\n",
       "    \n",
       "\n",
       "        <tr class=\"default\">\n",
       "            <td><i class=\"copy-paste-icon\"\n",
       "                 onclick=\"copyToClipboard('warm_start',\n",
       "                          this.parentElement.nextElementSibling)\"\n",
       "            ></i></td>\n",
       "            <td class=\"param\">warm_start&nbsp;</td>\n",
       "            <td class=\"value\">False</td>\n",
       "        </tr>\n",
       "    \n",
       "\n",
       "        <tr class=\"default\">\n",
       "            <td><i class=\"copy-paste-icon\"\n",
       "                 onclick=\"copyToClipboard('validation_fraction',\n",
       "                          this.parentElement.nextElementSibling)\"\n",
       "            ></i></td>\n",
       "            <td class=\"param\">validation_fraction&nbsp;</td>\n",
       "            <td class=\"value\">0.1</td>\n",
       "        </tr>\n",
       "    \n",
       "\n",
       "        <tr class=\"default\">\n",
       "            <td><i class=\"copy-paste-icon\"\n",
       "                 onclick=\"copyToClipboard('n_iter_no_change',\n",
       "                          this.parentElement.nextElementSibling)\"\n",
       "            ></i></td>\n",
       "            <td class=\"param\">n_iter_no_change&nbsp;</td>\n",
       "            <td class=\"value\">None</td>\n",
       "        </tr>\n",
       "    \n",
       "\n",
       "        <tr class=\"default\">\n",
       "            <td><i class=\"copy-paste-icon\"\n",
       "                 onclick=\"copyToClipboard('tol',\n",
       "                          this.parentElement.nextElementSibling)\"\n",
       "            ></i></td>\n",
       "            <td class=\"param\">tol&nbsp;</td>\n",
       "            <td class=\"value\">0.0001</td>\n",
       "        </tr>\n",
       "    \n",
       "\n",
       "        <tr class=\"default\">\n",
       "            <td><i class=\"copy-paste-icon\"\n",
       "                 onclick=\"copyToClipboard('ccp_alpha',\n",
       "                          this.parentElement.nextElementSibling)\"\n",
       "            ></i></td>\n",
       "            <td class=\"param\">ccp_alpha&nbsp;</td>\n",
       "            <td class=\"value\">0.0</td>\n",
       "        </tr>\n",
       "    \n",
       "                  </tbody>\n",
       "                </table>\n",
       "            </details>\n",
       "        </div>\n",
       "    </div></div></div></div></div></div></div></div></div></div><script>function copyToClipboard(text, element) {\n",
       "    // Get the parameter prefix from the closest toggleable content\n",
       "    const toggleableContent = element.closest('.sk-toggleable__content');\n",
       "    const paramPrefix = toggleableContent ? toggleableContent.dataset.paramPrefix : '';\n",
       "    const fullParamName = paramPrefix ? `${paramPrefix}${text}` : text;\n",
       "\n",
       "    const originalStyle = element.style;\n",
       "    const computedStyle = window.getComputedStyle(element);\n",
       "    const originalWidth = computedStyle.width;\n",
       "    const originalHTML = element.innerHTML.replace('Copied!', '');\n",
       "\n",
       "    navigator.clipboard.writeText(fullParamName)\n",
       "        .then(() => {\n",
       "            element.style.width = originalWidth;\n",
       "            element.style.color = 'green';\n",
       "            element.innerHTML = \"Copied!\";\n",
       "\n",
       "            setTimeout(() => {\n",
       "                element.innerHTML = originalHTML;\n",
       "                element.style = originalStyle;\n",
       "            }, 2000);\n",
       "        })\n",
       "        .catch(err => {\n",
       "            console.error('Failed to copy:', err);\n",
       "            element.style.color = 'red';\n",
       "            element.innerHTML = \"Failed!\";\n",
       "            setTimeout(() => {\n",
       "                element.innerHTML = originalHTML;\n",
       "                element.style = originalStyle;\n",
       "            }, 2000);\n",
       "        });\n",
       "    return false;\n",
       "}\n",
       "\n",
       "document.querySelectorAll('.fa-regular.fa-copy').forEach(function(element) {\n",
       "    const toggleableContent = element.closest('.sk-toggleable__content');\n",
       "    const paramPrefix = toggleableContent ? toggleableContent.dataset.paramPrefix : '';\n",
       "    const paramName = element.parentElement.nextElementSibling.textContent.trim();\n",
       "    const fullParamName = paramPrefix ? `${paramPrefix}${paramName}` : paramName;\n",
       "\n",
       "    element.setAttribute('title', fullParamName);\n",
       "});\n",
       "</script></body>"
      ],
      "text/plain": [
       "GridSearchCV(cv=5, estimator=GradientBoostingRegressor(random_state=42),\n",
       "             n_jobs=-1,\n",
       "             param_grid={'learning_rate': [0.05, 0.1], 'max_depth': [3, 4],\n",
       "                         'min_samples_leaf': [1, 3],\n",
       "                         'min_samples_split': [2, 4],\n",
       "                         'n_estimators': [100, 200], 'subsample': [0.8, 1.0]},\n",
       "             scoring='neg_root_mean_squared_error', verbose=1)"
      ]
     },
     "execution_count": 201,
     "metadata": {},
     "output_type": "execute_result"
    }
   ],
   "source": [
    "# --- 4. Fit the grid search to the training data ---\n",
    "# This step will take some time as it trains multiple models.\n",
    "grid_search.fit(X_train, y_train)\n"
   ]
  },
  {
   "cell_type": "code",
   "execution_count": 202,
   "id": "0f19fcc6",
   "metadata": {},
   "outputs": [
    {
     "name": "stdout",
     "output_type": "stream",
     "text": [
      "\n",
      "GridSearchCV completed.\n",
      "Best hyperparameters found:  {'learning_rate': 0.1, 'max_depth': 4, 'min_samples_leaf': 3, 'min_samples_split': 2, 'n_estimators': 100, 'subsample': 1.0}\n",
      "Best negative RMSE found:  -30167.89553714789\n"
     ]
    }
   ],
   "source": [
    "# --- 5. Print the results ---\n",
    "print(\"\\nGridSearchCV completed.\")\n",
    "print(\"Best hyperparameters found: \", grid_search.best_params_)\n",
    "print(\"Best negative RMSE found: \", grid_search.best_score_)\n"
   ]
  },
  {
   "cell_type": "code",
   "execution_count": 203,
   "id": "75744f8a",
   "metadata": {},
   "outputs": [],
   "source": [
    "# --- 6. Evaluate the best model on the test set ---\n",
    "# We can access the best model directly from the grid_search object.\n",
    "best_model = grid_search.best_estimator_\n",
    "y_pred_best = best_model.predict(X_test)\n"
   ]
  },
  {
   "cell_type": "code",
   "execution_count": 205,
   "id": "ff16ff80",
   "metadata": {},
   "outputs": [
    {
     "name": "stdout",
     "output_type": "stream",
     "text": [
      "\n",
      "--- Final Evaluation with Best Model ---\n",
      "Model: Gradient Boosting (Tuned)\n",
      "RMSE: 29344.6454\n",
      "R² Score: 0.8877\n"
     ]
    }
   ],
   "source": [
    "\n",
    "# Calculate and print performance metrics for the best model\n",
    "rmse = np.sqrt(mean_squared_error(y_test, y_pred_best))\n",
    "r2 = r2_score(y_test, y_pred_best)\n",
    "\n",
    "print(\"\\n--- Final Evaluation with Best Model ---\")\n",
    "print(f\"Model: Gradient Boosting (Tuned)\")\n",
    "print(f\"RMSE: {rmse:.4f}\")\n",
    "print(f\"R² Score: {r2:.4f}\")\n"
   ]
  },
  {
   "cell_type": "markdown",
   "id": "b3c6a213",
   "metadata": {},
   "source": [
    "# 💾 5. Save the Best Model\n"
   ]
  },
  {
   "cell_type": "code",
   "execution_count": 206,
   "id": "74df4b87",
   "metadata": {},
   "outputs": [
    {
     "data": {
      "text/plain": [
       "['../models/final_model.pkl']"
      ]
     },
     "execution_count": 206,
     "metadata": {},
     "output_type": "execute_result"
    }
   ],
   "source": [
    "import joblib\n",
    "joblib.dump(best_model, '../models/final_model.pkl')\n"
   ]
  },
  {
   "cell_type": "markdown",
   "id": "e48e8994",
   "metadata": {},
   "source": [
    "`final_model.pkl`\n",
    "\n",
    "It's your trained machine learning model, saved as a binary file using Python’s joblib module.\n",
    "\n",
    "    .pkl = Pickle format (used to serialize Python objects)\n",
    "\n",
    "    final_model.pkl contains your best Gradient Boosting model — with all learned patterns, parameters, and structure\n",
    "\n",
    "    It allows you to reuse the model later without retraining"
   ]
  },
  {
   "cell_type": "code",
   "execution_count": null,
   "metadata": {},
   "outputs": [],
   "source": []
  }
 ],
 "metadata": {
  "kernelspec": {
   "display_name": "virtualenv",
   "language": "python",
   "name": "python3"
  },
  "language_info": {
   "codemirror_mode": {
    "name": "ipython",
    "version": 3
   },
   "file_extension": ".py",
   "mimetype": "text/x-python",
   "name": "python",
   "nbconvert_exporter": "python",
   "pygments_lexer": "ipython3",
   "version": "3.13.2"
  }
 },
 "nbformat": 4,
 "nbformat_minor": 5
}
