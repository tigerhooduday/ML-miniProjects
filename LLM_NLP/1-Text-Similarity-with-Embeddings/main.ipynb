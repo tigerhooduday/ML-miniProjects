{
 "cells": [
  {
   "cell_type": "markdown",
   "id": "0f31ea50",
   "metadata": {},
   "source": [
    "# Text Similarity with Embeddings\n",
    "\n",
    "<b>What this project is</b>\n",
    "\n",
    "Short: convert text → vector (embedding), then compare vectors (usually cosine similarity) to get a semantic similarity score (0–1 roughly)."
   ]
  },
  {
   "cell_type": "markdown",
   "id": "75330d5b",
   "metadata": {},
   "source": [
    " - >Step-by-step plan\n",
    "\n",
    "1. **Data**: Prepare example sentence pairs (or a file of texts).\n",
    "2. **Load model**: `SentenceTransformer(...)`.\n",
    "3. **Encode**: Convert texts → embeddings (batched).\n",
    "4. **Compare**: Compute cosine similarity.\n",
    "5. **Evaluate**: If you have labels, compute correlation/accuracy.\n",
    "6. **Scale/serve**: Save embeddings, use ANN index (Faiss) for fast retrieval.\n",
    "7. **Polish**: chunk long docs, normalize, cache results."
   ]
  },
  {
   "cell_type": "code",
   "execution_count": 1,
   "id": "11b1a31c",
   "metadata": {},
   "outputs": [],
   "source": [
    "# 1) imports\n",
    "from sentence_transformers import SentenceTransformer\n",
    "from sklearn.metrics.pairwise import cosine_similarity\n",
    "import numpy as np"
   ]
  },
  {
   "cell_type": "code",
   "execution_count": 2,
   "id": "daf7f383",
   "metadata": {},
   "outputs": [
    {
     "data": {
      "application/vnd.jupyter.widget-view+json": {
       "model_id": "37092cd3e4064a2bb9bc5f0c18d7470a",
       "version_major": 2,
       "version_minor": 0
      },
      "text/plain": [
       "modules.json:   0%|          | 0.00/349 [00:00<?, ?B/s]"
      ]
     },
     "metadata": {},
     "output_type": "display_data"
    },
    {
     "name": "stderr",
     "output_type": "stream",
     "text": [
      "e:\\project\\2025\\ML\\ML-miniProjects\\virtualenv\\Lib\\site-packages\\huggingface_hub\\file_download.py:143: UserWarning: `huggingface_hub` cache-system uses symlinks by default to efficiently store duplicated files but your machine does not support them in C:\\Users\\Udayg\\.cache\\huggingface\\hub\\models--sentence-transformers--all-MiniLM-L6-v2. Caching files will still work but in a degraded version that might require more space on your disk. This warning can be disabled by setting the `HF_HUB_DISABLE_SYMLINKS_WARNING` environment variable. For more details, see https://huggingface.co/docs/huggingface_hub/how-to-cache#limitations.\n",
      "To support symlinks on Windows, you either need to activate Developer Mode or to run Python as an administrator. In order to activate developer mode, see this article: https://docs.microsoft.com/en-us/windows/apps/get-started/enable-your-device-for-development\n",
      "  warnings.warn(message)\n"
     ]
    },
    {
     "data": {
      "application/vnd.jupyter.widget-view+json": {
       "model_id": "5a01efa19e924aa7887518142c63acfa",
       "version_major": 2,
       "version_minor": 0
      },
      "text/plain": [
       "config_sentence_transformers.json:   0%|          | 0.00/116 [00:00<?, ?B/s]"
      ]
     },
     "metadata": {},
     "output_type": "display_data"
    },
    {
     "data": {
      "application/vnd.jupyter.widget-view+json": {
       "model_id": "10a6fea18a994cad88cd775606042f07",
       "version_major": 2,
       "version_minor": 0
      },
      "text/plain": [
       "README.md: 0.00B [00:00, ?B/s]"
      ]
     },
     "metadata": {},
     "output_type": "display_data"
    },
    {
     "data": {
      "application/vnd.jupyter.widget-view+json": {
       "model_id": "f6b4a121b3654e6aa955679876243d57",
       "version_major": 2,
       "version_minor": 0
      },
      "text/plain": [
       "sentence_bert_config.json:   0%|          | 0.00/53.0 [00:00<?, ?B/s]"
      ]
     },
     "metadata": {},
     "output_type": "display_data"
    },
    {
     "data": {
      "application/vnd.jupyter.widget-view+json": {
       "model_id": "e02b9d7f1b7546479b1d942cc24194c8",
       "version_major": 2,
       "version_minor": 0
      },
      "text/plain": [
       "config.json:   0%|          | 0.00/612 [00:00<?, ?B/s]"
      ]
     },
     "metadata": {},
     "output_type": "display_data"
    },
    {
     "name": "stderr",
     "output_type": "stream",
     "text": [
      "Xet Storage is enabled for this repo, but the 'hf_xet' package is not installed. Falling back to regular HTTP download. For better performance, install the package with: `pip install huggingface_hub[hf_xet]` or `pip install hf_xet`\n"
     ]
    },
    {
     "data": {
      "application/vnd.jupyter.widget-view+json": {
       "model_id": "036c886c429041a0a6e1b7750faf5f9b",
       "version_major": 2,
       "version_minor": 0
      },
      "text/plain": [
       "model.safetensors:   0%|          | 0.00/90.9M [00:00<?, ?B/s]"
      ]
     },
     "metadata": {},
     "output_type": "display_data"
    },
    {
     "data": {
      "application/vnd.jupyter.widget-view+json": {
       "model_id": "796ad2421a5941a08e0ddc4abcf208eb",
       "version_major": 2,
       "version_minor": 0
      },
      "text/plain": [
       "tokenizer_config.json:   0%|          | 0.00/350 [00:00<?, ?B/s]"
      ]
     },
     "metadata": {},
     "output_type": "display_data"
    },
    {
     "data": {
      "application/vnd.jupyter.widget-view+json": {
       "model_id": "4adb9d3e4b0442c0a025612eb1df92c1",
       "version_major": 2,
       "version_minor": 0
      },
      "text/plain": [
       "vocab.txt: 0.00B [00:00, ?B/s]"
      ]
     },
     "metadata": {},
     "output_type": "display_data"
    },
    {
     "data": {
      "application/vnd.jupyter.widget-view+json": {
       "model_id": "ef02d2d30d4e450b92033fb3a3bbf45d",
       "version_major": 2,
       "version_minor": 0
      },
      "text/plain": [
       "tokenizer.json: 0.00B [00:00, ?B/s]"
      ]
     },
     "metadata": {},
     "output_type": "display_data"
    },
    {
     "data": {
      "application/vnd.jupyter.widget-view+json": {
       "model_id": "b7d8a0ecf6c9418a90f511f5e8198d17",
       "version_major": 2,
       "version_minor": 0
      },
      "text/plain": [
       "special_tokens_map.json:   0%|          | 0.00/112 [00:00<?, ?B/s]"
      ]
     },
     "metadata": {},
     "output_type": "display_data"
    },
    {
     "data": {
      "application/vnd.jupyter.widget-view+json": {
       "model_id": "366c457a75c747caa672ff54053bc030",
       "version_major": 2,
       "version_minor": 0
      },
      "text/plain": [
       "config.json:   0%|          | 0.00/190 [00:00<?, ?B/s]"
      ]
     },
     "metadata": {},
     "output_type": "display_data"
    }
   ],
   "source": [
    "# 2) load a model (this downloads the model once)\n",
    "# 'all-MiniLM-L6-v2' is a good fast default\n",
    "model = SentenceTransformer('all-MiniLM-L6-v2')"
   ]
  },
  {
   "cell_type": "code",
   "execution_count": null,
   "id": "e6b2237e",
   "metadata": {},
   "outputs": [],
   "source": [
    "# 3) example texts\n",
    "text1 = \"I adore you.\"\n",
    "text2 = \"I love you.\"\n"
   ]
  },
  {
   "cell_type": "code",
   "execution_count": 30,
   "id": "1a642e5a",
   "metadata": {},
   "outputs": [],
   "source": [
    "# 4) encode to embeddings (convert_to_numpy=True gives a plain numpy array)\n",
    "emb1 = model.encode(text1, convert_to_numpy=True)\n",
    "emb2 = model.encode(text2, convert_to_numpy=True)"
   ]
  },
  {
   "cell_type": "code",
   "execution_count": 32,
   "id": "f939f43f",
   "metadata": {},
   "outputs": [
    {
     "name": "stdout",
     "output_type": "stream",
     "text": [
      "Cosine similarity (text1 vs text2): 0.6937\n"
     ]
    }
   ],
   "source": [
    "# 5) compute cosine similarity with scikit-learn (shape: [[score]])\n",
    "score = cosine_similarity([emb1], [emb2])[0][0]\n",
    "print(f\"Cosine similarity (text1 vs text2): {score:.4f}\")"
   ]
  }
 ],
 "metadata": {
  "kernelspec": {
   "display_name": "virtualenv",
   "language": "python",
   "name": "python3"
  },
  "language_info": {
   "codemirror_mode": {
    "name": "ipython",
    "version": 3
   },
   "file_extension": ".py",
   "mimetype": "text/x-python",
   "name": "python",
   "nbconvert_exporter": "python",
   "pygments_lexer": "ipython3",
   "version": "3.13.2"
  }
 },
 "nbformat": 4,
 "nbformat_minor": 5
}
